{
 "cells": [
  {
   "cell_type": "markdown",
   "metadata": {},
   "source": [
    "### The challenge is to predict the probability of loan disbursal for the customers of happy customer bank\n",
    "\n",
    "http://datahack.analyticsvidhya.com/contest/data-hackathon-3x"
   ]
  },
  {
   "cell_type": "code",
   "execution_count": 1,
   "metadata": {},
   "outputs": [],
   "source": [
    "import pandas as pd\n",
    "import matplotlib.pyplot as plt\n",
    "import seaborn as sns\n",
    "import numpy as np\n",
    "import pickle\n",
    "from sklearn.preprocessing import OneHotEncoder as SklearnOneHotEncoder\n",
    "import datetime\n",
    "from sklearn.svm import SVC\n",
    "from sklearn.linear_model import LinearRegression as SklearnLinearRegression, LogisticRegression\n",
    "from sklearn.tree import DecisionTreeClassifier\n",
    "from sklearn.preprocessing import OneHotEncoder as SklearnOneHotEncoder\n",
    "from sklearn.ensemble import RandomForestClassifier\n",
    "from sklearn.model_selection import train_test_split, GridSearchCV, KFold\n",
    "from statsmodels.graphics.mosaicplot import mosaic\n",
    "from sklearn.neighbors import (KNeighborsClassifier, NeighborhoodComponentsAnalysis)\n",
    "from sklearn import metrics\n",
    "from sklearn.decomposition import PCA\n",
    "from imblearn.under_sampling import NeighbourhoodCleaningRule\n",
    "from sklearn.metrics import auc, confusion_matrix, plot_confusion_matrix, classification_report, roc_curve, roc_auc_score"
   ]
  },
  {
   "cell_type": "code",
   "execution_count": 2,
   "metadata": {},
   "outputs": [
    {
     "data": {
      "text/html": [
       "<div>\n",
       "<style scoped>\n",
       "    .dataframe tbody tr th:only-of-type {\n",
       "        vertical-align: middle;\n",
       "    }\n",
       "\n",
       "    .dataframe tbody tr th {\n",
       "        vertical-align: top;\n",
       "    }\n",
       "\n",
       "    .dataframe thead th {\n",
       "        text-align: right;\n",
       "    }\n",
       "</style>\n",
       "<table border=\"1\" class=\"dataframe\">\n",
       "  <thead>\n",
       "    <tr style=\"text-align: right;\">\n",
       "      <th></th>\n",
       "      <th>ID</th>\n",
       "      <th>Gender</th>\n",
       "      <th>City</th>\n",
       "      <th>Monthly_Income</th>\n",
       "      <th>DOB</th>\n",
       "      <th>Lead_Creation_Date</th>\n",
       "      <th>Loan_Amount_Applied</th>\n",
       "      <th>Loan_Tenure_Applied</th>\n",
       "      <th>Existing_EMI</th>\n",
       "      <th>Employer_Name</th>\n",
       "      <th>...</th>\n",
       "      <th>Interest_Rate</th>\n",
       "      <th>Processing_Fee</th>\n",
       "      <th>EMI_Loan_Submitted</th>\n",
       "      <th>Filled_Form</th>\n",
       "      <th>Device_Type</th>\n",
       "      <th>Var2</th>\n",
       "      <th>Source</th>\n",
       "      <th>Var4</th>\n",
       "      <th>LoggedIn</th>\n",
       "      <th>Disbursed</th>\n",
       "    </tr>\n",
       "  </thead>\n",
       "  <tbody>\n",
       "    <tr>\n",
       "      <th>0</th>\n",
       "      <td>ID000002C20</td>\n",
       "      <td>Female</td>\n",
       "      <td>Delhi</td>\n",
       "      <td>20000</td>\n",
       "      <td>23-May-78</td>\n",
       "      <td>15-May-15</td>\n",
       "      <td>300000.0</td>\n",
       "      <td>5.0</td>\n",
       "      <td>0.0</td>\n",
       "      <td>CYBOSOL</td>\n",
       "      <td>...</td>\n",
       "      <td>NaN</td>\n",
       "      <td>NaN</td>\n",
       "      <td>NaN</td>\n",
       "      <td>N</td>\n",
       "      <td>Web-browser</td>\n",
       "      <td>G</td>\n",
       "      <td>S122</td>\n",
       "      <td>1</td>\n",
       "      <td>0</td>\n",
       "      <td>0</td>\n",
       "    </tr>\n",
       "    <tr>\n",
       "      <th>1</th>\n",
       "      <td>ID000004E40</td>\n",
       "      <td>Male</td>\n",
       "      <td>Mumbai</td>\n",
       "      <td>35000</td>\n",
       "      <td>07-Oct-85</td>\n",
       "      <td>04-May-15</td>\n",
       "      <td>200000.0</td>\n",
       "      <td>2.0</td>\n",
       "      <td>0.0</td>\n",
       "      <td>TATA CONSULTANCY SERVICES LTD (TCS)</td>\n",
       "      <td>...</td>\n",
       "      <td>13.25</td>\n",
       "      <td>NaN</td>\n",
       "      <td>6762.9</td>\n",
       "      <td>N</td>\n",
       "      <td>Web-browser</td>\n",
       "      <td>G</td>\n",
       "      <td>S122</td>\n",
       "      <td>3</td>\n",
       "      <td>0</td>\n",
       "      <td>0</td>\n",
       "    </tr>\n",
       "    <tr>\n",
       "      <th>2</th>\n",
       "      <td>ID000007H20</td>\n",
       "      <td>Male</td>\n",
       "      <td>Panchkula</td>\n",
       "      <td>22500</td>\n",
       "      <td>10-Oct-81</td>\n",
       "      <td>19-May-15</td>\n",
       "      <td>600000.0</td>\n",
       "      <td>4.0</td>\n",
       "      <td>0.0</td>\n",
       "      <td>ALCHEMIST HOSPITALS LTD</td>\n",
       "      <td>...</td>\n",
       "      <td>NaN</td>\n",
       "      <td>NaN</td>\n",
       "      <td>NaN</td>\n",
       "      <td>N</td>\n",
       "      <td>Web-browser</td>\n",
       "      <td>B</td>\n",
       "      <td>S143</td>\n",
       "      <td>1</td>\n",
       "      <td>0</td>\n",
       "      <td>0</td>\n",
       "    </tr>\n",
       "    <tr>\n",
       "      <th>3</th>\n",
       "      <td>ID000008I30</td>\n",
       "      <td>Male</td>\n",
       "      <td>Saharsa</td>\n",
       "      <td>35000</td>\n",
       "      <td>30-Nov-87</td>\n",
       "      <td>09-May-15</td>\n",
       "      <td>1000000.0</td>\n",
       "      <td>5.0</td>\n",
       "      <td>0.0</td>\n",
       "      <td>BIHAR GOVERNMENT</td>\n",
       "      <td>...</td>\n",
       "      <td>NaN</td>\n",
       "      <td>NaN</td>\n",
       "      <td>NaN</td>\n",
       "      <td>N</td>\n",
       "      <td>Web-browser</td>\n",
       "      <td>B</td>\n",
       "      <td>S143</td>\n",
       "      <td>3</td>\n",
       "      <td>0</td>\n",
       "      <td>0</td>\n",
       "    </tr>\n",
       "    <tr>\n",
       "      <th>4</th>\n",
       "      <td>ID000009J40</td>\n",
       "      <td>Male</td>\n",
       "      <td>Bengaluru</td>\n",
       "      <td>100000</td>\n",
       "      <td>17-Feb-84</td>\n",
       "      <td>20-May-15</td>\n",
       "      <td>500000.0</td>\n",
       "      <td>2.0</td>\n",
       "      <td>25000.0</td>\n",
       "      <td>GLOBAL EDGE SOFTWARE</td>\n",
       "      <td>...</td>\n",
       "      <td>NaN</td>\n",
       "      <td>NaN</td>\n",
       "      <td>NaN</td>\n",
       "      <td>N</td>\n",
       "      <td>Web-browser</td>\n",
       "      <td>B</td>\n",
       "      <td>S134</td>\n",
       "      <td>3</td>\n",
       "      <td>1</td>\n",
       "      <td>0</td>\n",
       "    </tr>\n",
       "  </tbody>\n",
       "</table>\n",
       "<p>5 rows × 26 columns</p>\n",
       "</div>"
      ],
      "text/plain": [
       "            ID  Gender       City  Monthly_Income        DOB  \\\n",
       "0  ID000002C20  Female      Delhi           20000  23-May-78   \n",
       "1  ID000004E40    Male     Mumbai           35000  07-Oct-85   \n",
       "2  ID000007H20    Male  Panchkula           22500  10-Oct-81   \n",
       "3  ID000008I30    Male    Saharsa           35000  30-Nov-87   \n",
       "4  ID000009J40    Male  Bengaluru          100000  17-Feb-84   \n",
       "\n",
       "  Lead_Creation_Date  Loan_Amount_Applied  Loan_Tenure_Applied  Existing_EMI  \\\n",
       "0          15-May-15             300000.0                  5.0           0.0   \n",
       "1          04-May-15             200000.0                  2.0           0.0   \n",
       "2          19-May-15             600000.0                  4.0           0.0   \n",
       "3          09-May-15            1000000.0                  5.0           0.0   \n",
       "4          20-May-15             500000.0                  2.0       25000.0   \n",
       "\n",
       "                         Employer_Name  ... Interest_Rate Processing_Fee  \\\n",
       "0                              CYBOSOL  ...           NaN            NaN   \n",
       "1  TATA CONSULTANCY SERVICES LTD (TCS)  ...         13.25            NaN   \n",
       "2              ALCHEMIST HOSPITALS LTD  ...           NaN            NaN   \n",
       "3                     BIHAR GOVERNMENT  ...           NaN            NaN   \n",
       "4                 GLOBAL EDGE SOFTWARE  ...           NaN            NaN   \n",
       "\n",
       "   EMI_Loan_Submitted Filled_Form  Device_Type  Var2  Source  Var4  LoggedIn  \\\n",
       "0                 NaN           N  Web-browser     G    S122     1         0   \n",
       "1              6762.9           N  Web-browser     G    S122     3         0   \n",
       "2                 NaN           N  Web-browser     B    S143     1         0   \n",
       "3                 NaN           N  Web-browser     B    S143     3         0   \n",
       "4                 NaN           N  Web-browser     B    S134     3         1   \n",
       "\n",
       "  Disbursed  \n",
       "0         0  \n",
       "1         0  \n",
       "2         0  \n",
       "3         0  \n",
       "4         0  \n",
       "\n",
       "[5 rows x 26 columns]"
      ]
     },
     "execution_count": 2,
     "metadata": {},
     "output_type": "execute_result"
    }
   ],
   "source": [
    "#open train set\n",
    "train_set_path = \"./data/Train.csv\"\n",
    "train_set = pd.read_csv(train_set_path, encoding='latin1')\n",
    "train_set.head()"
   ]
  },
  {
   "cell_type": "markdown",
   "metadata": {},
   "source": [
    "##### We will be looking for numerical an categorical variables"
   ]
  },
  {
   "cell_type": "code",
   "execution_count": 3,
   "metadata": {},
   "outputs": [],
   "source": [
    "target = 'Disbursed'\n",
    "num_features = []\n",
    "cat_features = []"
   ]
  },
  {
   "cell_type": "code",
   "execution_count": 4,
   "metadata": {},
   "outputs": [
    {
     "data": {
      "text/html": [
       "<div>\n",
       "<style scoped>\n",
       "    .dataframe tbody tr th:only-of-type {\n",
       "        vertical-align: middle;\n",
       "    }\n",
       "\n",
       "    .dataframe tbody tr th {\n",
       "        vertical-align: top;\n",
       "    }\n",
       "\n",
       "    .dataframe thead th {\n",
       "        text-align: right;\n",
       "    }\n",
       "</style>\n",
       "<table border=\"1\" class=\"dataframe\">\n",
       "  <thead>\n",
       "    <tr style=\"text-align: right;\">\n",
       "      <th></th>\n",
       "      <th>ID</th>\n",
       "      <th>Gender</th>\n",
       "      <th>City</th>\n",
       "      <th>Monthly_Income</th>\n",
       "      <th>DOB</th>\n",
       "      <th>Lead_Creation_Date</th>\n",
       "      <th>Loan_Amount_Applied</th>\n",
       "      <th>Loan_Tenure_Applied</th>\n",
       "      <th>Existing_EMI</th>\n",
       "      <th>Employer_Name</th>\n",
       "      <th>...</th>\n",
       "      <th>Loan_Amount_Submitted</th>\n",
       "      <th>Loan_Tenure_Submitted</th>\n",
       "      <th>Interest_Rate</th>\n",
       "      <th>Processing_Fee</th>\n",
       "      <th>EMI_Loan_Submitted</th>\n",
       "      <th>Filled_Form</th>\n",
       "      <th>Device_Type</th>\n",
       "      <th>Var2</th>\n",
       "      <th>Source</th>\n",
       "      <th>Var4</th>\n",
       "    </tr>\n",
       "  </thead>\n",
       "  <tbody>\n",
       "    <tr>\n",
       "      <th>0</th>\n",
       "      <td>ID000026A10</td>\n",
       "      <td>Male</td>\n",
       "      <td>Dehradun</td>\n",
       "      <td>21500</td>\n",
       "      <td>03-Apr-87</td>\n",
       "      <td>05-May-15</td>\n",
       "      <td>100000.0</td>\n",
       "      <td>3.0</td>\n",
       "      <td>0.0</td>\n",
       "      <td>APTARA INC</td>\n",
       "      <td>...</td>\n",
       "      <td>100000.0</td>\n",
       "      <td>3.0</td>\n",
       "      <td>20.0</td>\n",
       "      <td>1000.0</td>\n",
       "      <td>2649.39</td>\n",
       "      <td>N</td>\n",
       "      <td>Web-browser</td>\n",
       "      <td>B</td>\n",
       "      <td>S122</td>\n",
       "      <td>3</td>\n",
       "    </tr>\n",
       "    <tr>\n",
       "      <th>1</th>\n",
       "      <td>ID000054C40</td>\n",
       "      <td>Male</td>\n",
       "      <td>Mumbai</td>\n",
       "      <td>42000</td>\n",
       "      <td>12-May-80</td>\n",
       "      <td>01-May-15</td>\n",
       "      <td>0.0</td>\n",
       "      <td>0.0</td>\n",
       "      <td>0.0</td>\n",
       "      <td>ATUL LTD</td>\n",
       "      <td>...</td>\n",
       "      <td>690000.0</td>\n",
       "      <td>5.0</td>\n",
       "      <td>24.0</td>\n",
       "      <td>13800.0</td>\n",
       "      <td>19849.90</td>\n",
       "      <td>Y</td>\n",
       "      <td>Mobile</td>\n",
       "      <td>C</td>\n",
       "      <td>S133</td>\n",
       "      <td>5</td>\n",
       "    </tr>\n",
       "    <tr>\n",
       "      <th>2</th>\n",
       "      <td>ID000066O10</td>\n",
       "      <td>Female</td>\n",
       "      <td>Jaipur</td>\n",
       "      <td>10000</td>\n",
       "      <td>19-Sep-89</td>\n",
       "      <td>01-May-15</td>\n",
       "      <td>300000.0</td>\n",
       "      <td>2.0</td>\n",
       "      <td>0.0</td>\n",
       "      <td>SHAREKHAN PVT LTD</td>\n",
       "      <td>...</td>\n",
       "      <td>NaN</td>\n",
       "      <td>NaN</td>\n",
       "      <td>NaN</td>\n",
       "      <td>NaN</td>\n",
       "      <td>NaN</td>\n",
       "      <td>N</td>\n",
       "      <td>Web-browser</td>\n",
       "      <td>B</td>\n",
       "      <td>S133</td>\n",
       "      <td>1</td>\n",
       "    </tr>\n",
       "    <tr>\n",
       "      <th>3</th>\n",
       "      <td>ID000110G00</td>\n",
       "      <td>Female</td>\n",
       "      <td>Chennai</td>\n",
       "      <td>14650</td>\n",
       "      <td>15-Aug-91</td>\n",
       "      <td>01-May-15</td>\n",
       "      <td>0.0</td>\n",
       "      <td>0.0</td>\n",
       "      <td>0.0</td>\n",
       "      <td>MAERSK GLOBAL SERVICE CENTRES</td>\n",
       "      <td>...</td>\n",
       "      <td>NaN</td>\n",
       "      <td>NaN</td>\n",
       "      <td>NaN</td>\n",
       "      <td>NaN</td>\n",
       "      <td>NaN</td>\n",
       "      <td>N</td>\n",
       "      <td>Mobile</td>\n",
       "      <td>C</td>\n",
       "      <td>S133</td>\n",
       "      <td>1</td>\n",
       "    </tr>\n",
       "    <tr>\n",
       "      <th>4</th>\n",
       "      <td>ID000113J30</td>\n",
       "      <td>Male</td>\n",
       "      <td>Chennai</td>\n",
       "      <td>23400</td>\n",
       "      <td>22-Jul-87</td>\n",
       "      <td>01-May-15</td>\n",
       "      <td>100000.0</td>\n",
       "      <td>1.0</td>\n",
       "      <td>5000.0</td>\n",
       "      <td>SCHAWK</td>\n",
       "      <td>...</td>\n",
       "      <td>100000.0</td>\n",
       "      <td>2.0</td>\n",
       "      <td>NaN</td>\n",
       "      <td>NaN</td>\n",
       "      <td>NaN</td>\n",
       "      <td>N</td>\n",
       "      <td>Web-browser</td>\n",
       "      <td>B</td>\n",
       "      <td>S143</td>\n",
       "      <td>1</td>\n",
       "    </tr>\n",
       "  </tbody>\n",
       "</table>\n",
       "<p>5 rows × 24 columns</p>\n",
       "</div>"
      ],
      "text/plain": [
       "            ID  Gender      City  Monthly_Income        DOB  \\\n",
       "0  ID000026A10    Male  Dehradun           21500  03-Apr-87   \n",
       "1  ID000054C40    Male    Mumbai           42000  12-May-80   \n",
       "2  ID000066O10  Female    Jaipur           10000  19-Sep-89   \n",
       "3  ID000110G00  Female   Chennai           14650  15-Aug-91   \n",
       "4  ID000113J30    Male   Chennai           23400  22-Jul-87   \n",
       "\n",
       "  Lead_Creation_Date  Loan_Amount_Applied  Loan_Tenure_Applied  Existing_EMI  \\\n",
       "0          05-May-15             100000.0                  3.0           0.0   \n",
       "1          01-May-15                  0.0                  0.0           0.0   \n",
       "2          01-May-15             300000.0                  2.0           0.0   \n",
       "3          01-May-15                  0.0                  0.0           0.0   \n",
       "4          01-May-15             100000.0                  1.0        5000.0   \n",
       "\n",
       "                   Employer_Name  ... Loan_Amount_Submitted  \\\n",
       "0                     APTARA INC  ...              100000.0   \n",
       "1                       ATUL LTD  ...              690000.0   \n",
       "2              SHAREKHAN PVT LTD  ...                   NaN   \n",
       "3  MAERSK GLOBAL SERVICE CENTRES  ...                   NaN   \n",
       "4                         SCHAWK  ...              100000.0   \n",
       "\n",
       "  Loan_Tenure_Submitted  Interest_Rate Processing_Fee  EMI_Loan_Submitted  \\\n",
       "0                   3.0           20.0         1000.0             2649.39   \n",
       "1                   5.0           24.0        13800.0            19849.90   \n",
       "2                   NaN            NaN            NaN                 NaN   \n",
       "3                   NaN            NaN            NaN                 NaN   \n",
       "4                   2.0            NaN            NaN                 NaN   \n",
       "\n",
       "   Filled_Form  Device_Type  Var2  Source Var4  \n",
       "0            N  Web-browser     B    S122    3  \n",
       "1            Y       Mobile     C    S133    5  \n",
       "2            N  Web-browser     B    S133    1  \n",
       "3            N       Mobile     C    S133    1  \n",
       "4            N  Web-browser     B    S143    1  \n",
       "\n",
       "[5 rows x 24 columns]"
      ]
     },
     "execution_count": 4,
     "metadata": {},
     "output_type": "execute_result"
    }
   ],
   "source": [
    "#open train set\n",
    "test_set_path = \"./data/Test.csv\"\n",
    "test_set = pd.read_csv(test_set_path, encoding='latin1')\n",
    "test_set.head()"
   ]
  },
  {
   "cell_type": "code",
   "execution_count": 5,
   "metadata": {},
   "outputs": [
    {
     "data": {
      "text/plain": [
       "<matplotlib.axes._subplots.AxesSubplot at 0x7fef21006070>"
      ]
     },
     "execution_count": 5,
     "metadata": {},
     "output_type": "execute_result"
    },
    {
     "data": {
      "image/png": "[encoded data removed]",
      "text/plain": [
       "<Figure size 432x288 with 1 Axes>"
      ]
     },
     "metadata": {},
     "output_type": "display_data"
    }
   ],
   "source": [
    "train_set['Disbursed'].value_counts().plot.pie(autopct='%1.1f%%', shadow=True, title=\"Disbursed- Loan Disbursed (Target Variable)\")"
   ]
  },
  {
   "cell_type": "markdown",
   "metadata": {},
   "source": [
    "#### unbalanced dataset!"
   ]
  },
  {
   "cell_type": "markdown",
   "metadata": {},
   "source": [
    "## Input variables analysis"
   ]
  },
  {
   "cell_type": "markdown",
   "metadata": {},
   "source": [
    "## Gender"
   ]
  },
  {
   "cell_type": "code",
   "execution_count": 6,
   "metadata": {},
   "outputs": [
    {
     "data": {
      "text/plain": [
       "Text(0.5, 1.0, 'test set gender distribution')"
      ]
     },
     "execution_count": 6,
     "metadata": {},
     "output_type": "execute_result"
    },
    {
     "data": {
      "image/png": "[encoded data removed]",
      "text/plain": [
       "<Figure size 1296x576 with 2 Axes>"
      ]
     },
     "metadata": {},
     "output_type": "display_data"
    }
   ],
   "source": [
    "f, ax = plt.subplots(1,2,figsize=(18,8))\n",
    "train_set['Gender'].value_counts().plot.pie(autopct='%1.1f%%',ax=ax[0], shadow=True)\n",
    "ax[0].set_title(\"train set gender distribution\")\n",
    "\n",
    "test_set['Gender'].value_counts().plot.pie(autopct='%1.1f%%', shadow=True)\n",
    "ax[1].set_title(\"test set gender distribution\")"
   ]
  },
  {
   "cell_type": "markdown",
   "metadata": {},
   "source": [
    "###### Gender distributions in train-test sets are the same"
   ]
  },
  {
   "cell_type": "code",
   "execution_count": 7,
   "metadata": {},
   "outputs": [
    {
     "data": {
      "text/plain": [
       "False    87020\n",
       "Name: Gender, dtype: int64"
      ]
     },
     "execution_count": 7,
     "metadata": {},
     "output_type": "execute_result"
    }
   ],
   "source": [
    "pd.isnull(train_set['Gender']).value_counts()"
   ]
  },
  {
   "cell_type": "code",
   "execution_count": 8,
   "metadata": {},
   "outputs": [],
   "source": [
    "cat_features.append('Gender')"
   ]
  },
  {
   "cell_type": "markdown",
   "metadata": {},
   "source": [
    "## City"
   ]
  },
  {
   "cell_type": "code",
   "execution_count": 9,
   "metadata": {},
   "outputs": [
    {
     "name": "stdout",
     "output_type": "stream",
     "text": [
      "Counting of unique values in Cities\n",
      "Delhi          12527\n",
      "Bengaluru      10824\n",
      "Mumbai         10795\n",
      "Hyderabad       7272\n",
      "Chennai         6916\n",
      "               ...  \n",
      "Lakshadweep        1\n",
      "SAYAN              1\n",
      "Narayanpur         1\n",
      "Lalitpur           1\n",
      "Muktsar            1\n",
      "Name: City, Length: 697, dtype: int64\n"
     ]
    }
   ],
   "source": [
    "print(\"Counting of unique values in Cities\")\n",
    "print(train_set.City.value_counts())"
   ]
  },
  {
   "cell_type": "code",
   "execution_count": 10,
   "metadata": {},
   "outputs": [
    {
     "data": {
      "image/png": "[encoded data removed]",
      "text/plain": [
       "<Figure size 1440x576 with 1 Axes>"
      ]
     },
     "metadata": {
      "needs_background": "light"
     },
     "output_type": "display_data"
    }
   ],
   "source": [
    "fig = plt.figure(figsize=(20,8))\n",
    "ax = fig.add_subplot(111)\n",
    "plt.rc('xtick',labelsize=8)\n",
    "sns.countplot(x = \"City\", data = train_set)\n",
    "plt.show()"
   ]
  },
  {
   "cell_type": "code",
   "execution_count": 11,
   "metadata": {},
   "outputs": [
    {
     "name": "stdout",
     "output_type": "stream",
     "text": [
      "How many unique values are in Cities column:\n",
      "697\n"
     ]
    }
   ],
   "source": [
    "print(\"How many unique values are in Cities column:\")\n",
    "print(len(train_set.City.value_counts()))"
   ]
  },
  {
   "cell_type": "code",
   "execution_count": 12,
   "metadata": {},
   "outputs": [
    {
     "name": "stdout",
     "output_type": "stream",
     "text": [
      "Counting of unique values in Cities\n",
      "Delhi        12527\n",
      "Bengaluru    10824\n",
      "Mumbai       10795\n",
      "Hyderabad     7272\n",
      "Chennai       6916\n",
      "Pune          5207\n",
      "Kolkata       2888\n",
      "Ahmedabad     1788\n",
      "Jaipur        1331\n",
      "Gurgaon       1212\n",
      "Name: City, dtype: int64\n"
     ]
    }
   ],
   "source": [
    "print(\"Counting of unique values in Cities\")\n",
    "print(train_set.City.value_counts()[:10])"
   ]
  },
  {
   "cell_type": "code",
   "execution_count": 13,
   "metadata": {},
   "outputs": [
    {
     "name": "stdout",
     "output_type": "stream",
     "text": [
      "Counting of unique values in Cities\n",
      "Delhi        12527\n",
      "Bengaluru    10824\n",
      "Mumbai       10795\n",
      "Hyderabad     7272\n",
      "Chennai       6916\n",
      "Pune          5207\n",
      "Kolkata       2888\n",
      "Ahmedabad     1788\n",
      "Jaipur        1331\n",
      "Gurgaon       1212\n",
      "Name: City, dtype: int64\n"
     ]
    }
   ],
   "source": [
    "print(\"Counting of unique values in Cities\")\n",
    "print(train_set.City.value_counts()[:10])"
   ]
  },
  {
   "cell_type": "markdown",
   "metadata": {},
   "source": [
    "#### Does data set has the same values in train and test set"
   ]
  },
  {
   "cell_type": "code",
   "execution_count": 14,
   "metadata": {},
   "outputs": [
    {
     "data": {
      "text/plain": [
       "False"
      ]
     },
     "execution_count": 14,
     "metadata": {},
     "output_type": "execute_result"
    }
   ],
   "source": [
    "set(train_set.City.value_counts().index.tolist()) == set(test_set.City.value_counts().index.tolist())"
   ]
  },
  {
   "cell_type": "code",
   "execution_count": 15,
   "metadata": {},
   "outputs": [
    {
     "name": "stdout",
     "output_type": "stream",
     "text": [
      "Counting of unique values in Cities // test\n",
      "Delhi        5409\n",
      "Bengaluru    4698\n",
      "Mumbai       4630\n",
      "Hyderabad    3138\n",
      "Chennai      2979\n",
      "Pune         2220\n",
      "Kolkata      1394\n",
      "Ahmedabad     740\n",
      "Jaipur        561\n",
      "Gurgaon       531\n",
      "Name: City, dtype: int64\n"
     ]
    }
   ],
   "source": [
    "print(\"Counting of unique values in Cities // test\")\n",
    "print(test_set.City.value_counts()[:10])"
   ]
  },
  {
   "cell_type": "markdown",
   "metadata": {},
   "source": [
    "#### Are bigger cities the same?"
   ]
  },
  {
   "cell_type": "code",
   "execution_count": 16,
   "metadata": {},
   "outputs": [
    {
     "data": {
      "text/plain": [
       "True"
      ]
     },
     "execution_count": 16,
     "metadata": {},
     "output_type": "execute_result"
    }
   ],
   "source": [
    "set(train_set.City.value_counts()[:5].index.tolist()) == set(test_set.City.value_counts()[:5].index.tolist())"
   ]
  },
  {
   "cell_type": "code",
   "execution_count": 17,
   "metadata": {},
   "outputs": [],
   "source": [
    "big_cities = train_set.City.value_counts()[:5].index.tolist()"
   ]
  },
  {
   "cell_type": "code",
   "execution_count": 18,
   "metadata": {},
   "outputs": [],
   "source": [
    "smaller_cities = train_set.City.value_counts()[1:].index.tolist()"
   ]
  },
  {
   "cell_type": "markdown",
   "metadata": {},
   "source": [
    "#### There is too many cathegories in <b>City</b> column "
   ]
  },
  {
   "cell_type": "code",
   "execution_count": 19,
   "metadata": {},
   "outputs": [
    {
     "data": {
      "text/plain": [
       "1.0    48334\n",
       "0.0    37683\n",
       "Name: City, dtype: int64"
      ]
     },
     "execution_count": 19,
     "metadata": {},
     "output_type": "execute_result"
    }
   ],
   "source": [
    "train_set['City'].replace(big_cities,1, inplace = True)\n",
    "train_set['City'].replace(smaller_cities,0, inplace = True)\n",
    "train_set['City'].value_counts()"
   ]
  },
  {
   "cell_type": "code",
   "execution_count": 20,
   "metadata": {},
   "outputs": [
    {
     "data": {
      "image/png": "[encoded data removed]",
      "text/plain": [
       "<Figure size 1440x576 with 1 Axes>"
      ]
     },
     "metadata": {
      "needs_background": "light"
     },
     "output_type": "display_data"
    }
   ],
   "source": [
    "fig = plt.figure(figsize=(20,8))\n",
    "ax = fig.add_subplot(111)\n",
    "plt.rc('xtick',labelsize=8)\n",
    "sns.countplot(x = \"City\", data = train_set)\n",
    "plt.show()"
   ]
  },
  {
   "cell_type": "code",
   "execution_count": 21,
   "metadata": {},
   "outputs": [
    {
     "data": {
      "text/plain": [
       "1.0    20854\n",
       "0.0    16465\n",
       "Name: City, dtype: int64"
      ]
     },
     "execution_count": 21,
     "metadata": {},
     "output_type": "execute_result"
    }
   ],
   "source": [
    "smaller_cities = test_set.City.value_counts()[1:].index.tolist()\n",
    "test_set['City'].replace(big_cities,1, inplace = True)\n",
    "test_set['City'].replace(smaller_cities,0, inplace = True)\n",
    "test_set['City'].value_counts()"
   ]
  },
  {
   "cell_type": "markdown",
   "metadata": {},
   "source": [
    "#### Missing values"
   ]
  },
  {
   "cell_type": "code",
   "execution_count": 22,
   "metadata": {},
   "outputs": [
    {
     "data": {
      "text/plain": [
       "False    86017\n",
       "True      1003\n",
       "Name: City, dtype: int64"
      ]
     },
     "execution_count": 22,
     "metadata": {},
     "output_type": "execute_result"
    }
   ],
   "source": [
    "pd.isnull(train_set['City']).value_counts()"
   ]
  },
  {
   "cell_type": "code",
   "execution_count": 23,
   "metadata": {},
   "outputs": [],
   "source": [
    "train_set['City'].fillna(0, inplace = True)\n",
    "test_set['City'].fillna(0, inplace = True)"
   ]
  },
  {
   "cell_type": "code",
   "execution_count": 24,
   "metadata": {},
   "outputs": [],
   "source": [
    "num_features.append('City')"
   ]
  },
  {
   "cell_type": "markdown",
   "metadata": {},
   "source": [
    "### Monthly_Income - Monthly Income in rupees"
   ]
  },
  {
   "cell_type": "code",
   "execution_count": 25,
   "metadata": {},
   "outputs": [
    {
     "data": {
      "text/plain": [
       "Text(0.5, 0, 'Monthly_Income')"
      ]
     },
     "execution_count": 25,
     "metadata": {},
     "output_type": "execute_result"
    },
    {
     "data": {
      "image/png": "[encoded data removed]",
      "text/plain": [
       "<Figure size 1440x576 with 1 Axes>"
      ]
     },
     "metadata": {
      "needs_background": "light"
     },
     "output_type": "display_data"
    }
   ],
   "source": [
    "fig = plt.figure(figsize=(20,8))\n",
    "sns.kdeplot(data=train_set['Monthly_Income'], shade=True)\n",
    "plt.title(\"Monthly Income in rupees\")\n",
    "plt.ylabel('Quantity')\n",
    "plt.xlabel('Monthly_Income')"
   ]
  },
  {
   "cell_type": "code",
   "execution_count": 26,
   "metadata": {},
   "outputs": [
    {
     "name": "stdout",
     "output_type": "stream",
     "text": [
      "Average monthy income in TRAIN set : 58850.0\n",
      "Average monthy income in TEST set : 39803.0 ; difference:  19047.0\n"
     ]
    },
    {
     "data": {
      "text/plain": [
       "Text(0.5, 0, 'Monthly_Income')"
      ]
     },
     "execution_count": 26,
     "metadata": {},
     "output_type": "execute_result"
    },
    {
     "data": {
      "image/png": "[encoded data removed]",
      "text/plain": [
       "<Figure size 1440x576 with 1 Axes>"
      ]
     },
     "metadata": {
      "needs_background": "light"
     },
     "output_type": "display_data"
    }
   ],
   "source": [
    "print(\"Average monthy income in TRAIN set :\", np.round(train_set['Monthly_Income'].mean(),0))\n",
    "print(\"Average monthy income in TEST set :\", \n",
    "      np.round(test_set['Monthly_Income'].mean(),0), \n",
    "      \"; difference: \", \n",
    "      np.round(train_set['Monthly_Income'].mean(),0) - np.round(test_set['Monthly_Income'].mean(),0)) \n",
    "fig = plt.figure(figsize=(20,8))\n",
    "sns.kdeplot(data=test_set['Monthly_Income'], shade=True)\n",
    "plt.title(\"Monthly Income in rupees\")\n",
    "plt.ylabel('Quantity')\n",
    "plt.xlabel('Monthly_Income')"
   ]
  },
  {
   "cell_type": "markdown",
   "metadata": {},
   "source": [
    "#### Missing income"
   ]
  },
  {
   "cell_type": "code",
   "execution_count": 27,
   "metadata": {},
   "outputs": [
    {
     "data": {
      "text/plain": [
       "False    87020\n",
       "Name: Monthly_Income, dtype: int64"
      ]
     },
     "execution_count": 27,
     "metadata": {},
     "output_type": "execute_result"
    }
   ],
   "source": [
    "pd.isnull(train_set['Monthly_Income']).value_counts()"
   ]
  },
  {
   "cell_type": "code",
   "execution_count": 28,
   "metadata": {},
   "outputs": [],
   "source": [
    "num_features.append('Monthly_Income')"
   ]
  },
  {
   "cell_type": "markdown",
   "metadata": {},
   "source": [
    "### DOB - Date of Birth"
   ]
  },
  {
   "cell_type": "code",
   "execution_count": 29,
   "metadata": {},
   "outputs": [
    {
     "data": {
      "text/plain": [
       "False    87020\n",
       "Name: DOB, dtype: int64"
      ]
     },
     "execution_count": 29,
     "metadata": {},
     "output_type": "execute_result"
    }
   ],
   "source": [
    "pd.isnull(train_set['DOB']).value_counts()"
   ]
  },
  {
   "cell_type": "code",
   "execution_count": 30,
   "metadata": {},
   "outputs": [],
   "source": [
    "def from_dob_to_age(born):\n",
    "    today = datetime.date.today()\n",
    "    if (born.year > today.year):\n",
    "        return today.year - (born.year-100) - ((today.month, today.day) < (born.month, born.day))\n",
    "    return today.year - born.year - ((today.month, today.day) < (born.month, born.day))"
   ]
  },
  {
   "cell_type": "code",
   "execution_count": 31,
   "metadata": {},
   "outputs": [],
   "source": [
    "train_set['Age']=train_set[\"DOB\"].apply(lambda x: from_dob_to_age(datetime.datetime.strptime(x, '%d-%b-%y')))"
   ]
  },
  {
   "cell_type": "code",
   "execution_count": 32,
   "metadata": {},
   "outputs": [
    {
     "data": {
      "text/html": [
       "<div>\n",
       "<style scoped>\n",
       "    .dataframe tbody tr th:only-of-type {\n",
       "        vertical-align: middle;\n",
       "    }\n",
       "\n",
       "    .dataframe tbody tr th {\n",
       "        vertical-align: top;\n",
       "    }\n",
       "\n",
       "    .dataframe thead th {\n",
       "        text-align: right;\n",
       "    }\n",
       "</style>\n",
       "<table border=\"1\" class=\"dataframe\">\n",
       "  <thead>\n",
       "    <tr style=\"text-align: right;\">\n",
       "      <th></th>\n",
       "      <th>ID</th>\n",
       "      <th>Gender</th>\n",
       "      <th>City</th>\n",
       "      <th>Monthly_Income</th>\n",
       "      <th>DOB</th>\n",
       "      <th>Lead_Creation_Date</th>\n",
       "      <th>Loan_Amount_Applied</th>\n",
       "      <th>Loan_Tenure_Applied</th>\n",
       "      <th>Existing_EMI</th>\n",
       "      <th>Employer_Name</th>\n",
       "      <th>...</th>\n",
       "      <th>Processing_Fee</th>\n",
       "      <th>EMI_Loan_Submitted</th>\n",
       "      <th>Filled_Form</th>\n",
       "      <th>Device_Type</th>\n",
       "      <th>Var2</th>\n",
       "      <th>Source</th>\n",
       "      <th>Var4</th>\n",
       "      <th>LoggedIn</th>\n",
       "      <th>Disbursed</th>\n",
       "      <th>Age</th>\n",
       "    </tr>\n",
       "  </thead>\n",
       "  <tbody>\n",
       "    <tr>\n",
       "      <th>0</th>\n",
       "      <td>ID000002C20</td>\n",
       "      <td>Female</td>\n",
       "      <td>1.0</td>\n",
       "      <td>20000</td>\n",
       "      <td>23-May-78</td>\n",
       "      <td>15-May-15</td>\n",
       "      <td>300000.0</td>\n",
       "      <td>5.0</td>\n",
       "      <td>0.0</td>\n",
       "      <td>CYBOSOL</td>\n",
       "      <td>...</td>\n",
       "      <td>NaN</td>\n",
       "      <td>NaN</td>\n",
       "      <td>N</td>\n",
       "      <td>Web-browser</td>\n",
       "      <td>G</td>\n",
       "      <td>S122</td>\n",
       "      <td>1</td>\n",
       "      <td>0</td>\n",
       "      <td>0</td>\n",
       "      <td>43</td>\n",
       "    </tr>\n",
       "    <tr>\n",
       "      <th>1</th>\n",
       "      <td>ID000004E40</td>\n",
       "      <td>Male</td>\n",
       "      <td>1.0</td>\n",
       "      <td>35000</td>\n",
       "      <td>07-Oct-85</td>\n",
       "      <td>04-May-15</td>\n",
       "      <td>200000.0</td>\n",
       "      <td>2.0</td>\n",
       "      <td>0.0</td>\n",
       "      <td>TATA CONSULTANCY SERVICES LTD (TCS)</td>\n",
       "      <td>...</td>\n",
       "      <td>NaN</td>\n",
       "      <td>6762.9</td>\n",
       "      <td>N</td>\n",
       "      <td>Web-browser</td>\n",
       "      <td>G</td>\n",
       "      <td>S122</td>\n",
       "      <td>3</td>\n",
       "      <td>0</td>\n",
       "      <td>0</td>\n",
       "      <td>35</td>\n",
       "    </tr>\n",
       "    <tr>\n",
       "      <th>2</th>\n",
       "      <td>ID000007H20</td>\n",
       "      <td>Male</td>\n",
       "      <td>0.0</td>\n",
       "      <td>22500</td>\n",
       "      <td>10-Oct-81</td>\n",
       "      <td>19-May-15</td>\n",
       "      <td>600000.0</td>\n",
       "      <td>4.0</td>\n",
       "      <td>0.0</td>\n",
       "      <td>ALCHEMIST HOSPITALS LTD</td>\n",
       "      <td>...</td>\n",
       "      <td>NaN</td>\n",
       "      <td>NaN</td>\n",
       "      <td>N</td>\n",
       "      <td>Web-browser</td>\n",
       "      <td>B</td>\n",
       "      <td>S143</td>\n",
       "      <td>1</td>\n",
       "      <td>0</td>\n",
       "      <td>0</td>\n",
       "      <td>39</td>\n",
       "    </tr>\n",
       "    <tr>\n",
       "      <th>3</th>\n",
       "      <td>ID000008I30</td>\n",
       "      <td>Male</td>\n",
       "      <td>0.0</td>\n",
       "      <td>35000</td>\n",
       "      <td>30-Nov-87</td>\n",
       "      <td>09-May-15</td>\n",
       "      <td>1000000.0</td>\n",
       "      <td>5.0</td>\n",
       "      <td>0.0</td>\n",
       "      <td>BIHAR GOVERNMENT</td>\n",
       "      <td>...</td>\n",
       "      <td>NaN</td>\n",
       "      <td>NaN</td>\n",
       "      <td>N</td>\n",
       "      <td>Web-browser</td>\n",
       "      <td>B</td>\n",
       "      <td>S143</td>\n",
       "      <td>3</td>\n",
       "      <td>0</td>\n",
       "      <td>0</td>\n",
       "      <td>33</td>\n",
       "    </tr>\n",
       "    <tr>\n",
       "      <th>4</th>\n",
       "      <td>ID000009J40</td>\n",
       "      <td>Male</td>\n",
       "      <td>1.0</td>\n",
       "      <td>100000</td>\n",
       "      <td>17-Feb-84</td>\n",
       "      <td>20-May-15</td>\n",
       "      <td>500000.0</td>\n",
       "      <td>2.0</td>\n",
       "      <td>25000.0</td>\n",
       "      <td>GLOBAL EDGE SOFTWARE</td>\n",
       "      <td>...</td>\n",
       "      <td>NaN</td>\n",
       "      <td>NaN</td>\n",
       "      <td>N</td>\n",
       "      <td>Web-browser</td>\n",
       "      <td>B</td>\n",
       "      <td>S134</td>\n",
       "      <td>3</td>\n",
       "      <td>1</td>\n",
       "      <td>0</td>\n",
       "      <td>37</td>\n",
       "    </tr>\n",
       "  </tbody>\n",
       "</table>\n",
       "<p>5 rows × 27 columns</p>\n",
       "</div>"
      ],
      "text/plain": [
       "            ID  Gender  City  Monthly_Income        DOB Lead_Creation_Date  \\\n",
       "0  ID000002C20  Female   1.0           20000  23-May-78          15-May-15   \n",
       "1  ID000004E40    Male   1.0           35000  07-Oct-85          04-May-15   \n",
       "2  ID000007H20    Male   0.0           22500  10-Oct-81          19-May-15   \n",
       "3  ID000008I30    Male   0.0           35000  30-Nov-87          09-May-15   \n",
       "4  ID000009J40    Male   1.0          100000  17-Feb-84          20-May-15   \n",
       "\n",
       "   Loan_Amount_Applied  Loan_Tenure_Applied  Existing_EMI  \\\n",
       "0             300000.0                  5.0           0.0   \n",
       "1             200000.0                  2.0           0.0   \n",
       "2             600000.0                  4.0           0.0   \n",
       "3            1000000.0                  5.0           0.0   \n",
       "4             500000.0                  2.0       25000.0   \n",
       "\n",
       "                         Employer_Name  ... Processing_Fee EMI_Loan_Submitted  \\\n",
       "0                              CYBOSOL  ...            NaN                NaN   \n",
       "1  TATA CONSULTANCY SERVICES LTD (TCS)  ...            NaN             6762.9   \n",
       "2              ALCHEMIST HOSPITALS LTD  ...            NaN                NaN   \n",
       "3                     BIHAR GOVERNMENT  ...            NaN                NaN   \n",
       "4                 GLOBAL EDGE SOFTWARE  ...            NaN                NaN   \n",
       "\n",
       "   Filled_Form  Device_Type  Var2  Source  Var4  LoggedIn  Disbursed Age  \n",
       "0            N  Web-browser     G    S122     1         0          0  43  \n",
       "1            N  Web-browser     G    S122     3         0          0  35  \n",
       "2            N  Web-browser     B    S143     1         0          0  39  \n",
       "3            N  Web-browser     B    S143     3         0          0  33  \n",
       "4            N  Web-browser     B    S134     3         1          0  37  \n",
       "\n",
       "[5 rows x 27 columns]"
      ]
     },
     "execution_count": 32,
     "metadata": {},
     "output_type": "execute_result"
    }
   ],
   "source": [
    "train_set.head()"
   ]
  },
  {
   "cell_type": "code",
   "execution_count": 33,
   "metadata": {},
   "outputs": [
    {
     "data": {
      "text/plain": [
       "Text(0.5, 0, 'Age')"
      ]
     },
     "execution_count": 33,
     "metadata": {},
     "output_type": "execute_result"
    },
    {
     "data": {
      "image/png": "[encoded data removed]",
      "text/plain": [
       "<Figure size 1440x576 with 1 Axes>"
      ]
     },
     "metadata": {
      "needs_background": "light"
     },
     "output_type": "display_data"
    }
   ],
   "source": [
    "fig = plt.figure(figsize=(20,8))\n",
    "sns.kdeplot(data=train_set['Age'], shade=True)\n",
    "plt.title(\"Age\")\n",
    "plt.ylabel('Quantity')\n",
    "plt.xlabel('Age')"
   ]
  },
  {
   "cell_type": "code",
   "execution_count": 34,
   "metadata": {},
   "outputs": [
    {
     "data": {
      "text/html": [
       "<div>\n",
       "<style scoped>\n",
       "    .dataframe tbody tr th:only-of-type {\n",
       "        vertical-align: middle;\n",
       "    }\n",
       "\n",
       "    .dataframe tbody tr th {\n",
       "        vertical-align: top;\n",
       "    }\n",
       "\n",
       "    .dataframe thead th {\n",
       "        text-align: right;\n",
       "    }\n",
       "</style>\n",
       "<table border=\"1\" class=\"dataframe\">\n",
       "  <thead>\n",
       "    <tr style=\"text-align: right;\">\n",
       "      <th></th>\n",
       "      <th>ID</th>\n",
       "      <th>Gender</th>\n",
       "      <th>City</th>\n",
       "      <th>Monthly_Income</th>\n",
       "      <th>DOB</th>\n",
       "      <th>Lead_Creation_Date</th>\n",
       "      <th>Loan_Amount_Applied</th>\n",
       "      <th>Loan_Tenure_Applied</th>\n",
       "      <th>Existing_EMI</th>\n",
       "      <th>Employer_Name</th>\n",
       "      <th>...</th>\n",
       "      <th>Processing_Fee</th>\n",
       "      <th>EMI_Loan_Submitted</th>\n",
       "      <th>Filled_Form</th>\n",
       "      <th>Device_Type</th>\n",
       "      <th>Var2</th>\n",
       "      <th>Source</th>\n",
       "      <th>Var4</th>\n",
       "      <th>LoggedIn</th>\n",
       "      <th>Disbursed</th>\n",
       "      <th>Age</th>\n",
       "    </tr>\n",
       "  </thead>\n",
       "  <tbody>\n",
       "  </tbody>\n",
       "</table>\n",
       "<p>0 rows × 27 columns</p>\n",
       "</div>"
      ],
      "text/plain": [
       "Empty DataFrame\n",
       "Columns: [ID, Gender, City, Monthly_Income, DOB, Lead_Creation_Date, Loan_Amount_Applied, Loan_Tenure_Applied, Existing_EMI, Employer_Name, Salary_Account, Mobile_Verified, Var5, Var1, Loan_Amount_Submitted, Loan_Tenure_Submitted, Interest_Rate, Processing_Fee, EMI_Loan_Submitted, Filled_Form, Device_Type, Var2, Source, Var4, LoggedIn, Disbursed, Age]\n",
       "Index: []\n",
       "\n",
       "[0 rows x 27 columns]"
      ]
     },
     "execution_count": 34,
     "metadata": {},
     "output_type": "execute_result"
    }
   ],
   "source": [
    "train_set.loc[train_set['Age'] < 0]"
   ]
  },
  {
   "cell_type": "code",
   "execution_count": 35,
   "metadata": {},
   "outputs": [],
   "source": [
    "test_set['Age']=test_set[\"DOB\"].apply(lambda x: from_dob_to_age(datetime.datetime.strptime(x, '%d-%b-%y')))"
   ]
  },
  {
   "cell_type": "code",
   "execution_count": 36,
   "metadata": {},
   "outputs": [
    {
     "data": {
      "text/plain": [
       "Text(0.5, 0, 'Age')"
      ]
     },
     "execution_count": 36,
     "metadata": {},
     "output_type": "execute_result"
    },
    {
     "data": {
      "image/png": "[encoded data removed]",
      "text/plain": [
       "<Figure size 1440x576 with 1 Axes>"
      ]
     },
     "metadata": {
      "needs_background": "light"
     },
     "output_type": "display_data"
    }
   ],
   "source": [
    "fig = plt.figure(figsize=(20,8))\n",
    "sns.kdeplot(data=test_set['Age'], shade=True)\n",
    "plt.title(\"Age\")\n",
    "plt.ylabel('Quantity')\n",
    "plt.xlabel('Age')"
   ]
  },
  {
   "cell_type": "markdown",
   "metadata": {},
   "source": [
    "### Lead_Creation_Date - Lead Created on date"
   ]
  },
  {
   "cell_type": "code",
   "execution_count": 37,
   "metadata": {},
   "outputs": [
    {
     "data": {
      "text/plain": [
       "False    87020\n",
       "Name: Lead_Creation_Date, dtype: int64"
      ]
     },
     "execution_count": 37,
     "metadata": {},
     "output_type": "execute_result"
    }
   ],
   "source": [
    "pd.isnull(train_set['Lead_Creation_Date']).value_counts()"
   ]
  },
  {
   "cell_type": "code",
   "execution_count": 38,
   "metadata": {},
   "outputs": [],
   "source": [
    "def from_date_to_yr(date):\n",
    "    today = datetime.date.today()\n",
    "    return today.year - date.year - ((today.month, today.day) < (date.month, date.day))"
   ]
  },
  {
   "cell_type": "code",
   "execution_count": 39,
   "metadata": {},
   "outputs": [],
   "source": [
    "train_set['Yrs_Lead_Creation_Date']=train_set[\"Lead_Creation_Date\"].apply(lambda x: from_date_to_yr(datetime.datetime.strptime(x, '%d-%b-%y')))"
   ]
  },
  {
   "cell_type": "code",
   "execution_count": 40,
   "metadata": {},
   "outputs": [
    {
     "data": {
      "text/html": [
       "<div>\n",
       "<style scoped>\n",
       "    .dataframe tbody tr th:only-of-type {\n",
       "        vertical-align: middle;\n",
       "    }\n",
       "\n",
       "    .dataframe tbody tr th {\n",
       "        vertical-align: top;\n",
       "    }\n",
       "\n",
       "    .dataframe thead th {\n",
       "        text-align: right;\n",
       "    }\n",
       "</style>\n",
       "<table border=\"1\" class=\"dataframe\">\n",
       "  <thead>\n",
       "    <tr style=\"text-align: right;\">\n",
       "      <th></th>\n",
       "      <th>ID</th>\n",
       "      <th>Gender</th>\n",
       "      <th>City</th>\n",
       "      <th>Monthly_Income</th>\n",
       "      <th>DOB</th>\n",
       "      <th>Lead_Creation_Date</th>\n",
       "      <th>Loan_Amount_Applied</th>\n",
       "      <th>Loan_Tenure_Applied</th>\n",
       "      <th>Existing_EMI</th>\n",
       "      <th>Employer_Name</th>\n",
       "      <th>...</th>\n",
       "      <th>EMI_Loan_Submitted</th>\n",
       "      <th>Filled_Form</th>\n",
       "      <th>Device_Type</th>\n",
       "      <th>Var2</th>\n",
       "      <th>Source</th>\n",
       "      <th>Var4</th>\n",
       "      <th>LoggedIn</th>\n",
       "      <th>Disbursed</th>\n",
       "      <th>Age</th>\n",
       "      <th>Yrs_Lead_Creation_Date</th>\n",
       "    </tr>\n",
       "  </thead>\n",
       "  <tbody>\n",
       "    <tr>\n",
       "      <th>0</th>\n",
       "      <td>ID000002C20</td>\n",
       "      <td>Female</td>\n",
       "      <td>1.0</td>\n",
       "      <td>20000</td>\n",
       "      <td>23-May-78</td>\n",
       "      <td>15-May-15</td>\n",
       "      <td>300000.0</td>\n",
       "      <td>5.0</td>\n",
       "      <td>0.0</td>\n",
       "      <td>CYBOSOL</td>\n",
       "      <td>...</td>\n",
       "      <td>NaN</td>\n",
       "      <td>N</td>\n",
       "      <td>Web-browser</td>\n",
       "      <td>G</td>\n",
       "      <td>S122</td>\n",
       "      <td>1</td>\n",
       "      <td>0</td>\n",
       "      <td>0</td>\n",
       "      <td>43</td>\n",
       "      <td>6</td>\n",
       "    </tr>\n",
       "    <tr>\n",
       "      <th>1</th>\n",
       "      <td>ID000004E40</td>\n",
       "      <td>Male</td>\n",
       "      <td>1.0</td>\n",
       "      <td>35000</td>\n",
       "      <td>07-Oct-85</td>\n",
       "      <td>04-May-15</td>\n",
       "      <td>200000.0</td>\n",
       "      <td>2.0</td>\n",
       "      <td>0.0</td>\n",
       "      <td>TATA CONSULTANCY SERVICES LTD (TCS)</td>\n",
       "      <td>...</td>\n",
       "      <td>6762.90</td>\n",
       "      <td>N</td>\n",
       "      <td>Web-browser</td>\n",
       "      <td>G</td>\n",
       "      <td>S122</td>\n",
       "      <td>3</td>\n",
       "      <td>0</td>\n",
       "      <td>0</td>\n",
       "      <td>35</td>\n",
       "      <td>6</td>\n",
       "    </tr>\n",
       "    <tr>\n",
       "      <th>2</th>\n",
       "      <td>ID000007H20</td>\n",
       "      <td>Male</td>\n",
       "      <td>0.0</td>\n",
       "      <td>22500</td>\n",
       "      <td>10-Oct-81</td>\n",
       "      <td>19-May-15</td>\n",
       "      <td>600000.0</td>\n",
       "      <td>4.0</td>\n",
       "      <td>0.0</td>\n",
       "      <td>ALCHEMIST HOSPITALS LTD</td>\n",
       "      <td>...</td>\n",
       "      <td>NaN</td>\n",
       "      <td>N</td>\n",
       "      <td>Web-browser</td>\n",
       "      <td>B</td>\n",
       "      <td>S143</td>\n",
       "      <td>1</td>\n",
       "      <td>0</td>\n",
       "      <td>0</td>\n",
       "      <td>39</td>\n",
       "      <td>6</td>\n",
       "    </tr>\n",
       "    <tr>\n",
       "      <th>3</th>\n",
       "      <td>ID000008I30</td>\n",
       "      <td>Male</td>\n",
       "      <td>0.0</td>\n",
       "      <td>35000</td>\n",
       "      <td>30-Nov-87</td>\n",
       "      <td>09-May-15</td>\n",
       "      <td>1000000.0</td>\n",
       "      <td>5.0</td>\n",
       "      <td>0.0</td>\n",
       "      <td>BIHAR GOVERNMENT</td>\n",
       "      <td>...</td>\n",
       "      <td>NaN</td>\n",
       "      <td>N</td>\n",
       "      <td>Web-browser</td>\n",
       "      <td>B</td>\n",
       "      <td>S143</td>\n",
       "      <td>3</td>\n",
       "      <td>0</td>\n",
       "      <td>0</td>\n",
       "      <td>33</td>\n",
       "      <td>6</td>\n",
       "    </tr>\n",
       "    <tr>\n",
       "      <th>4</th>\n",
       "      <td>ID000009J40</td>\n",
       "      <td>Male</td>\n",
       "      <td>1.0</td>\n",
       "      <td>100000</td>\n",
       "      <td>17-Feb-84</td>\n",
       "      <td>20-May-15</td>\n",
       "      <td>500000.0</td>\n",
       "      <td>2.0</td>\n",
       "      <td>25000.0</td>\n",
       "      <td>GLOBAL EDGE SOFTWARE</td>\n",
       "      <td>...</td>\n",
       "      <td>NaN</td>\n",
       "      <td>N</td>\n",
       "      <td>Web-browser</td>\n",
       "      <td>B</td>\n",
       "      <td>S134</td>\n",
       "      <td>3</td>\n",
       "      <td>1</td>\n",
       "      <td>0</td>\n",
       "      <td>37</td>\n",
       "      <td>6</td>\n",
       "    </tr>\n",
       "    <tr>\n",
       "      <th>...</th>\n",
       "      <td>...</td>\n",
       "      <td>...</td>\n",
       "      <td>...</td>\n",
       "      <td>...</td>\n",
       "      <td>...</td>\n",
       "      <td>...</td>\n",
       "      <td>...</td>\n",
       "      <td>...</td>\n",
       "      <td>...</td>\n",
       "      <td>...</td>\n",
       "      <td>...</td>\n",
       "      <td>...</td>\n",
       "      <td>...</td>\n",
       "      <td>...</td>\n",
       "      <td>...</td>\n",
       "      <td>...</td>\n",
       "      <td>...</td>\n",
       "      <td>...</td>\n",
       "      <td>...</td>\n",
       "      <td>...</td>\n",
       "      <td>...</td>\n",
       "    </tr>\n",
       "    <tr>\n",
       "      <th>87015</th>\n",
       "      <td>ID124813N30</td>\n",
       "      <td>Female</td>\n",
       "      <td>0.0</td>\n",
       "      <td>71901</td>\n",
       "      <td>27-Nov-69</td>\n",
       "      <td>31-Jul-15</td>\n",
       "      <td>1000000.0</td>\n",
       "      <td>5.0</td>\n",
       "      <td>14500.0</td>\n",
       "      <td>MAYO COLLEGE</td>\n",
       "      <td>...</td>\n",
       "      <td>NaN</td>\n",
       "      <td>N</td>\n",
       "      <td>Web-browser</td>\n",
       "      <td>G</td>\n",
       "      <td>S122</td>\n",
       "      <td>3</td>\n",
       "      <td>0</td>\n",
       "      <td>0</td>\n",
       "      <td>51</td>\n",
       "      <td>6</td>\n",
       "    </tr>\n",
       "    <tr>\n",
       "      <th>87016</th>\n",
       "      <td>ID124814O40</td>\n",
       "      <td>Female</td>\n",
       "      <td>0.0</td>\n",
       "      <td>16000</td>\n",
       "      <td>01-Dec-90</td>\n",
       "      <td>31-Jul-15</td>\n",
       "      <td>0.0</td>\n",
       "      <td>0.0</td>\n",
       "      <td>0.0</td>\n",
       "      <td>KERALA COMMUNICATORS CABLE LTD</td>\n",
       "      <td>...</td>\n",
       "      <td>9425.76</td>\n",
       "      <td>Y</td>\n",
       "      <td>Mobile</td>\n",
       "      <td>G</td>\n",
       "      <td>S122</td>\n",
       "      <td>5</td>\n",
       "      <td>0</td>\n",
       "      <td>0</td>\n",
       "      <td>30</td>\n",
       "      <td>6</td>\n",
       "    </tr>\n",
       "    <tr>\n",
       "      <th>87017</th>\n",
       "      <td>ID124816Q10</td>\n",
       "      <td>Male</td>\n",
       "      <td>1.0</td>\n",
       "      <td>118000</td>\n",
       "      <td>28-Jan-72</td>\n",
       "      <td>31-Jul-15</td>\n",
       "      <td>0.0</td>\n",
       "      <td>0.0</td>\n",
       "      <td>0.0</td>\n",
       "      <td>BANGALORE INSTITUTE OF TECHNOLOGY</td>\n",
       "      <td>...</td>\n",
       "      <td>NaN</td>\n",
       "      <td>N</td>\n",
       "      <td>Mobile</td>\n",
       "      <td>G</td>\n",
       "      <td>S122</td>\n",
       "      <td>3</td>\n",
       "      <td>0</td>\n",
       "      <td>0</td>\n",
       "      <td>49</td>\n",
       "      <td>6</td>\n",
       "    </tr>\n",
       "    <tr>\n",
       "      <th>87018</th>\n",
       "      <td>ID124818S30</td>\n",
       "      <td>Male</td>\n",
       "      <td>1.0</td>\n",
       "      <td>98930</td>\n",
       "      <td>27-Apr-77</td>\n",
       "      <td>31-Jul-15</td>\n",
       "      <td>800000.0</td>\n",
       "      <td>5.0</td>\n",
       "      <td>13660.0</td>\n",
       "      <td>FIRSTSOURCE SOLUTION LTD</td>\n",
       "      <td>...</td>\n",
       "      <td>NaN</td>\n",
       "      <td>N</td>\n",
       "      <td>Web-browser</td>\n",
       "      <td>G</td>\n",
       "      <td>S122</td>\n",
       "      <td>3</td>\n",
       "      <td>0</td>\n",
       "      <td>0</td>\n",
       "      <td>44</td>\n",
       "      <td>6</td>\n",
       "    </tr>\n",
       "    <tr>\n",
       "      <th>87019</th>\n",
       "      <td>ID124821V10</td>\n",
       "      <td>Male</td>\n",
       "      <td>1.0</td>\n",
       "      <td>42300</td>\n",
       "      <td>31-Oct-88</td>\n",
       "      <td>31-Jul-15</td>\n",
       "      <td>0.0</td>\n",
       "      <td>0.0</td>\n",
       "      <td>0.0</td>\n",
       "      <td>GOVERNMENT OF INDIA</td>\n",
       "      <td>...</td>\n",
       "      <td>18851.81</td>\n",
       "      <td>N</td>\n",
       "      <td>Web-browser</td>\n",
       "      <td>G</td>\n",
       "      <td>S122</td>\n",
       "      <td>4</td>\n",
       "      <td>0</td>\n",
       "      <td>0</td>\n",
       "      <td>32</td>\n",
       "      <td>6</td>\n",
       "    </tr>\n",
       "  </tbody>\n",
       "</table>\n",
       "<p>87020 rows × 28 columns</p>\n",
       "</div>"
      ],
      "text/plain": [
       "                ID  Gender  City  Monthly_Income        DOB  \\\n",
       "0      ID000002C20  Female   1.0           20000  23-May-78   \n",
       "1      ID000004E40    Male   1.0           35000  07-Oct-85   \n",
       "2      ID000007H20    Male   0.0           22500  10-Oct-81   \n",
       "3      ID000008I30    Male   0.0           35000  30-Nov-87   \n",
       "4      ID000009J40    Male   1.0          100000  17-Feb-84   \n",
       "...            ...     ...   ...             ...        ...   \n",
       "87015  ID124813N30  Female   0.0           71901  27-Nov-69   \n",
       "87016  ID124814O40  Female   0.0           16000  01-Dec-90   \n",
       "87017  ID124816Q10    Male   1.0          118000  28-Jan-72   \n",
       "87018  ID124818S30    Male   1.0           98930  27-Apr-77   \n",
       "87019  ID124821V10    Male   1.0           42300  31-Oct-88   \n",
       "\n",
       "      Lead_Creation_Date  Loan_Amount_Applied  Loan_Tenure_Applied  \\\n",
       "0              15-May-15             300000.0                  5.0   \n",
       "1              04-May-15             200000.0                  2.0   \n",
       "2              19-May-15             600000.0                  4.0   \n",
       "3              09-May-15            1000000.0                  5.0   \n",
       "4              20-May-15             500000.0                  2.0   \n",
       "...                  ...                  ...                  ...   \n",
       "87015          31-Jul-15            1000000.0                  5.0   \n",
       "87016          31-Jul-15                  0.0                  0.0   \n",
       "87017          31-Jul-15                  0.0                  0.0   \n",
       "87018          31-Jul-15             800000.0                  5.0   \n",
       "87019          31-Jul-15                  0.0                  0.0   \n",
       "\n",
       "       Existing_EMI                        Employer_Name  ...  \\\n",
       "0               0.0                              CYBOSOL  ...   \n",
       "1               0.0  TATA CONSULTANCY SERVICES LTD (TCS)  ...   \n",
       "2               0.0              ALCHEMIST HOSPITALS LTD  ...   \n",
       "3               0.0                     BIHAR GOVERNMENT  ...   \n",
       "4           25000.0                 GLOBAL EDGE SOFTWARE  ...   \n",
       "...             ...                                  ...  ...   \n",
       "87015       14500.0                         MAYO COLLEGE  ...   \n",
       "87016           0.0       KERALA COMMUNICATORS CABLE LTD  ...   \n",
       "87017           0.0    BANGALORE INSTITUTE OF TECHNOLOGY  ...   \n",
       "87018       13660.0             FIRSTSOURCE SOLUTION LTD  ...   \n",
       "87019           0.0                  GOVERNMENT OF INDIA  ...   \n",
       "\n",
       "      EMI_Loan_Submitted Filled_Form  Device_Type Var2  Source  Var4  \\\n",
       "0                    NaN           N  Web-browser    G    S122     1   \n",
       "1                6762.90           N  Web-browser    G    S122     3   \n",
       "2                    NaN           N  Web-browser    B    S143     1   \n",
       "3                    NaN           N  Web-browser    B    S143     3   \n",
       "4                    NaN           N  Web-browser    B    S134     3   \n",
       "...                  ...         ...          ...  ...     ...   ...   \n",
       "87015                NaN           N  Web-browser    G    S122     3   \n",
       "87016            9425.76           Y       Mobile    G    S122     5   \n",
       "87017                NaN           N       Mobile    G    S122     3   \n",
       "87018                NaN           N  Web-browser    G    S122     3   \n",
       "87019           18851.81           N  Web-browser    G    S122     4   \n",
       "\n",
       "       LoggedIn  Disbursed  Age Yrs_Lead_Creation_Date  \n",
       "0             0          0   43                      6  \n",
       "1             0          0   35                      6  \n",
       "2             0          0   39                      6  \n",
       "3             0          0   33                      6  \n",
       "4             1          0   37                      6  \n",
       "...         ...        ...  ...                    ...  \n",
       "87015         0          0   51                      6  \n",
       "87016         0          0   30                      6  \n",
       "87017         0          0   49                      6  \n",
       "87018         0          0   44                      6  \n",
       "87019         0          0   32                      6  \n",
       "\n",
       "[87020 rows x 28 columns]"
      ]
     },
     "execution_count": 40,
     "metadata": {},
     "output_type": "execute_result"
    }
   ],
   "source": [
    "train_set "
   ]
  },
  {
   "cell_type": "code",
   "execution_count": 41,
   "metadata": {},
   "outputs": [],
   "source": [
    "test_set['Yrs_Lead_Creation_Date']=test_set[\"Lead_Creation_Date\"].apply(lambda x: from_date_to_yr(datetime.datetime.strptime(x, '%d-%b-%y')))"
   ]
  },
  {
   "cell_type": "markdown",
   "metadata": {},
   "source": [
    "#### All application were created 6 yr ago"
   ]
  },
  {
   "cell_type": "markdown",
   "metadata": {},
   "source": [
    "#### Date of applying seems to be meaningless variable to the prediction:"
   ]
  },
  {
   "cell_type": "code",
   "execution_count": 42,
   "metadata": {},
   "outputs": [],
   "source": [
    "train_set = train_set.drop(['Lead_Creation_Date'], axis=1)"
   ]
  },
  {
   "cell_type": "markdown",
   "metadata": {},
   "source": [
    "### I'll create one combine variable for Age when someone tooke the loan"
   ]
  },
  {
   "cell_type": "code",
   "execution_count": 43,
   "metadata": {},
   "outputs": [],
   "source": [
    "train_set['Age_Creation_Date'] = train_set['Age'] - train_set['Yrs_Lead_Creation_Date']"
   ]
  },
  {
   "cell_type": "code",
   "execution_count": 44,
   "metadata": {},
   "outputs": [
    {
     "data": {
      "text/plain": [
       "Text(0.5, 0, 'Age_Creation_Date')"
      ]
     },
     "execution_count": 44,
     "metadata": {},
     "output_type": "execute_result"
    },
    {
     "data": {
      "image/png": "[encoded data removed]",
      "text/plain": [
       "<Figure size 1440x576 with 1 Axes>"
      ]
     },
     "metadata": {
      "needs_background": "light"
     },
     "output_type": "display_data"
    }
   ],
   "source": [
    "fig = plt.figure(figsize=(20,8))\n",
    "sns.kdeplot(data=train_set['Age_Creation_Date'], shade=True)\n",
    "plt.title(\"Age_Creation_Date\")\n",
    "plt.ylabel('Quantity')\n",
    "plt.xlabel('Age_Creation_Date')"
   ]
  },
  {
   "cell_type": "code",
   "execution_count": 45,
   "metadata": {},
   "outputs": [],
   "source": [
    "test_set['Age_Creation_Date'] = test_set['Age'] -test_set['Yrs_Lead_Creation_Date']"
   ]
  },
  {
   "cell_type": "code",
   "execution_count": 46,
   "metadata": {},
   "outputs": [
    {
     "data": {
      "text/plain": [
       "Text(0.5, 0, 'Age_Creation_Date')"
      ]
     },
     "execution_count": 46,
     "metadata": {},
     "output_type": "execute_result"
    },
    {
     "data": {
      "image/png": "[encoded data removed]",
      "text/plain": [
       "<Figure size 1440x576 with 1 Axes>"
      ]
     },
     "metadata": {
      "needs_background": "light"
     },
     "output_type": "display_data"
    }
   ],
   "source": [
    "fig = plt.figure(figsize=(20,8))\n",
    "sns.kdeplot(data=test_set['Age_Creation_Date'], shade=True)\n",
    "plt.title(\"Age_Creation_Date\")\n",
    "plt.ylabel('Quantity')\n",
    "plt.xlabel('Age_Creation_Date')"
   ]
  },
  {
   "cell_type": "code",
   "execution_count": 47,
   "metadata": {},
   "outputs": [
    {
     "data": {
      "text/html": [
       "<div>\n",
       "<style scoped>\n",
       "    .dataframe tbody tr th:only-of-type {\n",
       "        vertical-align: middle;\n",
       "    }\n",
       "\n",
       "    .dataframe tbody tr th {\n",
       "        vertical-align: top;\n",
       "    }\n",
       "\n",
       "    .dataframe thead th {\n",
       "        text-align: right;\n",
       "    }\n",
       "</style>\n",
       "<table border=\"1\" class=\"dataframe\">\n",
       "  <thead>\n",
       "    <tr style=\"text-align: right;\">\n",
       "      <th></th>\n",
       "      <th>ID</th>\n",
       "      <th>Gender</th>\n",
       "      <th>City</th>\n",
       "      <th>Monthly_Income</th>\n",
       "      <th>DOB</th>\n",
       "      <th>Loan_Amount_Applied</th>\n",
       "      <th>Loan_Tenure_Applied</th>\n",
       "      <th>Existing_EMI</th>\n",
       "      <th>Employer_Name</th>\n",
       "      <th>Salary_Account</th>\n",
       "      <th>...</th>\n",
       "      <th>Filled_Form</th>\n",
       "      <th>Device_Type</th>\n",
       "      <th>Var2</th>\n",
       "      <th>Source</th>\n",
       "      <th>Var4</th>\n",
       "      <th>LoggedIn</th>\n",
       "      <th>Disbursed</th>\n",
       "      <th>Age</th>\n",
       "      <th>Yrs_Lead_Creation_Date</th>\n",
       "      <th>Age_Creation_Date</th>\n",
       "    </tr>\n",
       "  </thead>\n",
       "  <tbody>\n",
       "  </tbody>\n",
       "</table>\n",
       "<p>0 rows × 28 columns</p>\n",
       "</div>"
      ],
      "text/plain": [
       "Empty DataFrame\n",
       "Columns: [ID, Gender, City, Monthly_Income, DOB, Loan_Amount_Applied, Loan_Tenure_Applied, Existing_EMI, Employer_Name, Salary_Account, Mobile_Verified, Var5, Var1, Loan_Amount_Submitted, Loan_Tenure_Submitted, Interest_Rate, Processing_Fee, EMI_Loan_Submitted, Filled_Form, Device_Type, Var2, Source, Var4, LoggedIn, Disbursed, Age, Yrs_Lead_Creation_Date, Age_Creation_Date]\n",
       "Index: []\n",
       "\n",
       "[0 rows x 28 columns]"
      ]
     },
     "execution_count": 47,
     "metadata": {},
     "output_type": "execute_result"
    }
   ],
   "source": [
    "train_set.loc[train_set['Age_Creation_Date'] < 0]"
   ]
  },
  {
   "cell_type": "code",
   "execution_count": 48,
   "metadata": {},
   "outputs": [],
   "source": [
    "num_features.append('Age_Creation_Date')"
   ]
  },
  {
   "cell_type": "markdown",
   "metadata": {},
   "source": [
    "### Loan_Amount_Applied - Loan Amount Requested (INR)"
   ]
  },
  {
   "cell_type": "markdown",
   "metadata": {},
   "source": [
    "##### INR – INDIAN RUPEE"
   ]
  },
  {
   "cell_type": "code",
   "execution_count": 49,
   "metadata": {},
   "outputs": [
    {
     "name": "stdout",
     "output_type": "stream",
     "text": [
      "Loan Amount Requested (INR) : 230251.0\n"
     ]
    },
    {
     "data": {
      "text/plain": [
       "Text(0.5, 0, 'Loan_Amount_Applied')"
      ]
     },
     "execution_count": 49,
     "metadata": {},
     "output_type": "execute_result"
    },
    {
     "data": {
      "image/png": "[encoded data removed]",
      "text/plain": [
       "<Figure size 432x288 with 1 Axes>"
      ]
     },
     "metadata": {
      "needs_background": "light"
     },
     "output_type": "display_data"
    }
   ],
   "source": [
    "print(\"Loan Amount Requested (INR) :\", np.round(train_set['Loan_Amount_Applied'].mean(),0))\n",
    "sns.kdeplot(data=train_set['Loan_Amount_Applied'], shade=True)\n",
    "plt.title(\"Loan Amount Requested (INR) \")\n",
    "plt.ylabel('Quantity')\n",
    "plt.xlabel('Loan_Amount_Applied')"
   ]
  },
  {
   "cell_type": "code",
   "execution_count": 50,
   "metadata": {},
   "outputs": [
    {
     "data": {
      "text/plain": [
       "False    86949\n",
       "True        71\n",
       "Name: Loan_Amount_Applied, dtype: int64"
      ]
     },
     "execution_count": 50,
     "metadata": {},
     "output_type": "execute_result"
    }
   ],
   "source": [
    "pd.isnull(train_set['Loan_Amount_Applied']).value_counts()"
   ]
  },
  {
   "cell_type": "code",
   "execution_count": 51,
   "metadata": {},
   "outputs": [
    {
     "data": {
      "text/plain": [
       "0.0"
      ]
     },
     "execution_count": 51,
     "metadata": {},
     "output_type": "execute_result"
    }
   ],
   "source": [
    "train_set['Loan_Amount_Applied'].quantile(.1)"
   ]
  },
  {
   "cell_type": "code",
   "execution_count": 52,
   "metadata": {},
   "outputs": [
    {
     "data": {
      "text/plain": [
       "count    8.694900e+04\n",
       "mean     2.302507e+05\n",
       "std      3.542068e+05\n",
       "min      0.000000e+00\n",
       "25%      0.000000e+00\n",
       "50%      1.000000e+05\n",
       "75%      3.000000e+05\n",
       "max      1.000000e+07\n",
       "Name: Loan_Amount_Applied, dtype: float64"
      ]
     },
     "execution_count": 52,
     "metadata": {},
     "output_type": "execute_result"
    }
   ],
   "source": [
    "train_set['Loan_Amount_Applied'].describe()"
   ]
  },
  {
   "cell_type": "code",
   "execution_count": 53,
   "metadata": {},
   "outputs": [
    {
     "data": {
      "text/plain": [
       "0.25          0.0\n",
       "0.50     100000.0\n",
       "0.75     300000.0\n",
       "0.95    1000000.0\n",
       "Name: Loan_Amount_Applied, dtype: float64"
      ]
     },
     "execution_count": 53,
     "metadata": {},
     "output_type": "execute_result"
    }
   ],
   "source": [
    "train_set['Loan_Amount_Applied'].quantile([.25, .5, .75, 0.95])"
   ]
  },
  {
   "cell_type": "code",
   "execution_count": 54,
   "metadata": {},
   "outputs": [
    {
     "data": {
      "text/html": [
       "<div>\n",
       "<style scoped>\n",
       "    .dataframe tbody tr th:only-of-type {\n",
       "        vertical-align: middle;\n",
       "    }\n",
       "\n",
       "    .dataframe tbody tr th {\n",
       "        vertical-align: top;\n",
       "    }\n",
       "\n",
       "    .dataframe thead th {\n",
       "        text-align: right;\n",
       "    }\n",
       "</style>\n",
       "<table border=\"1\" class=\"dataframe\">\n",
       "  <thead>\n",
       "    <tr style=\"text-align: right;\">\n",
       "      <th></th>\n",
       "      <th>ID</th>\n",
       "      <th>Gender</th>\n",
       "      <th>City</th>\n",
       "      <th>Monthly_Income</th>\n",
       "      <th>DOB</th>\n",
       "      <th>Loan_Amount_Applied</th>\n",
       "      <th>Loan_Tenure_Applied</th>\n",
       "      <th>Existing_EMI</th>\n",
       "      <th>Employer_Name</th>\n",
       "      <th>Salary_Account</th>\n",
       "      <th>...</th>\n",
       "      <th>Device_Type</th>\n",
       "      <th>Var2</th>\n",
       "      <th>Source</th>\n",
       "      <th>Var4</th>\n",
       "      <th>LoggedIn</th>\n",
       "      <th>Disbursed</th>\n",
       "      <th>Age</th>\n",
       "      <th>Yrs_Lead_Creation_Date</th>\n",
       "      <th>Age_Creation_Date</th>\n",
       "      <th>Loan_Amount_Applied_cut</th>\n",
       "    </tr>\n",
       "  </thead>\n",
       "  <tbody>\n",
       "    <tr>\n",
       "      <th>0</th>\n",
       "      <td>ID000002C20</td>\n",
       "      <td>Female</td>\n",
       "      <td>1.0</td>\n",
       "      <td>20000</td>\n",
       "      <td>23-May-78</td>\n",
       "      <td>300000.0</td>\n",
       "      <td>5.0</td>\n",
       "      <td>0.0</td>\n",
       "      <td>CYBOSOL</td>\n",
       "      <td>HDFC Bank</td>\n",
       "      <td>...</td>\n",
       "      <td>Web-browser</td>\n",
       "      <td>G</td>\n",
       "      <td>S122</td>\n",
       "      <td>1</td>\n",
       "      <td>0</td>\n",
       "      <td>0</td>\n",
       "      <td>43</td>\n",
       "      <td>6</td>\n",
       "      <td>37</td>\n",
       "      <td>medium</td>\n",
       "    </tr>\n",
       "    <tr>\n",
       "      <th>1</th>\n",
       "      <td>ID000004E40</td>\n",
       "      <td>Male</td>\n",
       "      <td>1.0</td>\n",
       "      <td>35000</td>\n",
       "      <td>07-Oct-85</td>\n",
       "      <td>200000.0</td>\n",
       "      <td>2.0</td>\n",
       "      <td>0.0</td>\n",
       "      <td>TATA CONSULTANCY SERVICES LTD (TCS)</td>\n",
       "      <td>ICICI Bank</td>\n",
       "      <td>...</td>\n",
       "      <td>Web-browser</td>\n",
       "      <td>G</td>\n",
       "      <td>S122</td>\n",
       "      <td>3</td>\n",
       "      <td>0</td>\n",
       "      <td>0</td>\n",
       "      <td>35</td>\n",
       "      <td>6</td>\n",
       "      <td>29</td>\n",
       "      <td>medium</td>\n",
       "    </tr>\n",
       "    <tr>\n",
       "      <th>2</th>\n",
       "      <td>ID000007H20</td>\n",
       "      <td>Male</td>\n",
       "      <td>0.0</td>\n",
       "      <td>22500</td>\n",
       "      <td>10-Oct-81</td>\n",
       "      <td>600000.0</td>\n",
       "      <td>4.0</td>\n",
       "      <td>0.0</td>\n",
       "      <td>ALCHEMIST HOSPITALS LTD</td>\n",
       "      <td>State Bank of India</td>\n",
       "      <td>...</td>\n",
       "      <td>Web-browser</td>\n",
       "      <td>B</td>\n",
       "      <td>S143</td>\n",
       "      <td>1</td>\n",
       "      <td>0</td>\n",
       "      <td>0</td>\n",
       "      <td>39</td>\n",
       "      <td>6</td>\n",
       "      <td>33</td>\n",
       "      <td>big</td>\n",
       "    </tr>\n",
       "    <tr>\n",
       "      <th>3</th>\n",
       "      <td>ID000008I30</td>\n",
       "      <td>Male</td>\n",
       "      <td>0.0</td>\n",
       "      <td>35000</td>\n",
       "      <td>30-Nov-87</td>\n",
       "      <td>1000000.0</td>\n",
       "      <td>5.0</td>\n",
       "      <td>0.0</td>\n",
       "      <td>BIHAR GOVERNMENT</td>\n",
       "      <td>State Bank of India</td>\n",
       "      <td>...</td>\n",
       "      <td>Web-browser</td>\n",
       "      <td>B</td>\n",
       "      <td>S143</td>\n",
       "      <td>3</td>\n",
       "      <td>0</td>\n",
       "      <td>0</td>\n",
       "      <td>33</td>\n",
       "      <td>6</td>\n",
       "      <td>27</td>\n",
       "      <td>big</td>\n",
       "    </tr>\n",
       "    <tr>\n",
       "      <th>4</th>\n",
       "      <td>ID000009J40</td>\n",
       "      <td>Male</td>\n",
       "      <td>1.0</td>\n",
       "      <td>100000</td>\n",
       "      <td>17-Feb-84</td>\n",
       "      <td>500000.0</td>\n",
       "      <td>2.0</td>\n",
       "      <td>25000.0</td>\n",
       "      <td>GLOBAL EDGE SOFTWARE</td>\n",
       "      <td>HDFC Bank</td>\n",
       "      <td>...</td>\n",
       "      <td>Web-browser</td>\n",
       "      <td>B</td>\n",
       "      <td>S134</td>\n",
       "      <td>3</td>\n",
       "      <td>1</td>\n",
       "      <td>0</td>\n",
       "      <td>37</td>\n",
       "      <td>6</td>\n",
       "      <td>31</td>\n",
       "      <td>big</td>\n",
       "    </tr>\n",
       "  </tbody>\n",
       "</table>\n",
       "<p>5 rows × 29 columns</p>\n",
       "</div>"
      ],
      "text/plain": [
       "            ID  Gender  City  Monthly_Income        DOB  Loan_Amount_Applied  \\\n",
       "0  ID000002C20  Female   1.0           20000  23-May-78             300000.0   \n",
       "1  ID000004E40    Male   1.0           35000  07-Oct-85             200000.0   \n",
       "2  ID000007H20    Male   0.0           22500  10-Oct-81             600000.0   \n",
       "3  ID000008I30    Male   0.0           35000  30-Nov-87            1000000.0   \n",
       "4  ID000009J40    Male   1.0          100000  17-Feb-84             500000.0   \n",
       "\n",
       "   Loan_Tenure_Applied  Existing_EMI                        Employer_Name  \\\n",
       "0                  5.0           0.0                              CYBOSOL   \n",
       "1                  2.0           0.0  TATA CONSULTANCY SERVICES LTD (TCS)   \n",
       "2                  4.0           0.0              ALCHEMIST HOSPITALS LTD   \n",
       "3                  5.0           0.0                     BIHAR GOVERNMENT   \n",
       "4                  2.0       25000.0                 GLOBAL EDGE SOFTWARE   \n",
       "\n",
       "        Salary_Account  ...  Device_Type  Var2 Source  Var4  LoggedIn  \\\n",
       "0            HDFC Bank  ...  Web-browser     G   S122     1         0   \n",
       "1           ICICI Bank  ...  Web-browser     G   S122     3         0   \n",
       "2  State Bank of India  ...  Web-browser     B   S143     1         0   \n",
       "3  State Bank of India  ...  Web-browser     B   S143     3         0   \n",
       "4            HDFC Bank  ...  Web-browser     B   S134     3         1   \n",
       "\n",
       "   Disbursed  Age  Yrs_Lead_Creation_Date Age_Creation_Date  \\\n",
       "0          0   43                       6                37   \n",
       "1          0   35                       6                29   \n",
       "2          0   39                       6                33   \n",
       "3          0   33                       6                27   \n",
       "4          0   37                       6                31   \n",
       "\n",
       "  Loan_Amount_Applied_cut  \n",
       "0                  medium  \n",
       "1                  medium  \n",
       "2                     big  \n",
       "3                     big  \n",
       "4                     big  \n",
       "\n",
       "[5 rows x 29 columns]"
      ]
     },
     "execution_count": 54,
     "metadata": {},
     "output_type": "execute_result"
    }
   ],
   "source": [
    "Loan_Amount_Applied_labels = ['small', 'medium', 'big']\n",
    "train_set['Loan_Amount_Applied_cut'] = pd.qcut(train_set['Loan_Amount_Applied'],\n",
    "                              q=[0, .5, .75, 1],\n",
    "                              labels=Loan_Amount_Applied_labels)\n",
    "train_set.head()"
   ]
  },
  {
   "cell_type": "code",
   "execution_count": 55,
   "metadata": {},
   "outputs": [
    {
     "data": {
      "text/html": [
       "<div>\n",
       "<style scoped>\n",
       "    .dataframe tbody tr th:only-of-type {\n",
       "        vertical-align: middle;\n",
       "    }\n",
       "\n",
       "    .dataframe tbody tr th {\n",
       "        vertical-align: top;\n",
       "    }\n",
       "\n",
       "    .dataframe thead th {\n",
       "        text-align: right;\n",
       "    }\n",
       "</style>\n",
       "<table border=\"1\" class=\"dataframe\">\n",
       "  <thead>\n",
       "    <tr style=\"text-align: right;\">\n",
       "      <th></th>\n",
       "      <th>ID</th>\n",
       "      <th>Gender</th>\n",
       "      <th>City</th>\n",
       "      <th>Monthly_Income</th>\n",
       "      <th>DOB</th>\n",
       "      <th>Loan_Amount_Applied</th>\n",
       "      <th>Loan_Tenure_Applied</th>\n",
       "      <th>Existing_EMI</th>\n",
       "      <th>Employer_Name</th>\n",
       "      <th>Salary_Account</th>\n",
       "      <th>...</th>\n",
       "      <th>Device_Type</th>\n",
       "      <th>Var2</th>\n",
       "      <th>Source</th>\n",
       "      <th>Var4</th>\n",
       "      <th>LoggedIn</th>\n",
       "      <th>Disbursed</th>\n",
       "      <th>Age</th>\n",
       "      <th>Yrs_Lead_Creation_Date</th>\n",
       "      <th>Age_Creation_Date</th>\n",
       "      <th>Loan_Amount_Applied_cut</th>\n",
       "    </tr>\n",
       "  </thead>\n",
       "  <tbody>\n",
       "    <tr>\n",
       "      <th>87017</th>\n",
       "      <td>ID124816Q10</td>\n",
       "      <td>Male</td>\n",
       "      <td>1.0</td>\n",
       "      <td>118000</td>\n",
       "      <td>28-Jan-72</td>\n",
       "      <td>0.0</td>\n",
       "      <td>0.0</td>\n",
       "      <td>0.0</td>\n",
       "      <td>BANGALORE INSTITUTE OF TECHNOLOGY</td>\n",
       "      <td>Syndicate Bank</td>\n",
       "      <td>...</td>\n",
       "      <td>Mobile</td>\n",
       "      <td>G</td>\n",
       "      <td>S122</td>\n",
       "      <td>3</td>\n",
       "      <td>0</td>\n",
       "      <td>0</td>\n",
       "      <td>49</td>\n",
       "      <td>6</td>\n",
       "      <td>43</td>\n",
       "      <td>small</td>\n",
       "    </tr>\n",
       "    <tr>\n",
       "      <th>87018</th>\n",
       "      <td>ID124818S30</td>\n",
       "      <td>Male</td>\n",
       "      <td>1.0</td>\n",
       "      <td>98930</td>\n",
       "      <td>27-Apr-77</td>\n",
       "      <td>800000.0</td>\n",
       "      <td>5.0</td>\n",
       "      <td>13660.0</td>\n",
       "      <td>FIRSTSOURCE SOLUTION LTD</td>\n",
       "      <td>ICICI Bank</td>\n",
       "      <td>...</td>\n",
       "      <td>Web-browser</td>\n",
       "      <td>G</td>\n",
       "      <td>S122</td>\n",
       "      <td>3</td>\n",
       "      <td>0</td>\n",
       "      <td>0</td>\n",
       "      <td>44</td>\n",
       "      <td>6</td>\n",
       "      <td>38</td>\n",
       "      <td>big</td>\n",
       "    </tr>\n",
       "    <tr>\n",
       "      <th>87019</th>\n",
       "      <td>ID124821V10</td>\n",
       "      <td>Male</td>\n",
       "      <td>1.0</td>\n",
       "      <td>42300</td>\n",
       "      <td>31-Oct-88</td>\n",
       "      <td>0.0</td>\n",
       "      <td>0.0</td>\n",
       "      <td>0.0</td>\n",
       "      <td>GOVERNMENT OF INDIA</td>\n",
       "      <td>NaN</td>\n",
       "      <td>...</td>\n",
       "      <td>Web-browser</td>\n",
       "      <td>G</td>\n",
       "      <td>S122</td>\n",
       "      <td>4</td>\n",
       "      <td>0</td>\n",
       "      <td>0</td>\n",
       "      <td>32</td>\n",
       "      <td>6</td>\n",
       "      <td>26</td>\n",
       "      <td>small</td>\n",
       "    </tr>\n",
       "  </tbody>\n",
       "</table>\n",
       "<p>3 rows × 29 columns</p>\n",
       "</div>"
      ],
      "text/plain": [
       "                ID Gender  City  Monthly_Income        DOB  \\\n",
       "87017  ID124816Q10   Male   1.0          118000  28-Jan-72   \n",
       "87018  ID124818S30   Male   1.0           98930  27-Apr-77   \n",
       "87019  ID124821V10   Male   1.0           42300  31-Oct-88   \n",
       "\n",
       "       Loan_Amount_Applied  Loan_Tenure_Applied  Existing_EMI  \\\n",
       "87017                  0.0                  0.0           0.0   \n",
       "87018             800000.0                  5.0       13660.0   \n",
       "87019                  0.0                  0.0           0.0   \n",
       "\n",
       "                           Employer_Name  Salary_Account  ...  Device_Type  \\\n",
       "87017  BANGALORE INSTITUTE OF TECHNOLOGY  Syndicate Bank  ...       Mobile   \n",
       "87018           FIRSTSOURCE SOLUTION LTD      ICICI Bank  ...  Web-browser   \n",
       "87019                GOVERNMENT OF INDIA             NaN  ...  Web-browser   \n",
       "\n",
       "       Var2 Source  Var4  LoggedIn  Disbursed  Age  Yrs_Lead_Creation_Date  \\\n",
       "87017     G   S122     3         0          0   49                       6   \n",
       "87018     G   S122     3         0          0   44                       6   \n",
       "87019     G   S122     4         0          0   32                       6   \n",
       "\n",
       "      Age_Creation_Date Loan_Amount_Applied_cut  \n",
       "87017                43                   small  \n",
       "87018                38                     big  \n",
       "87019                26                   small  \n",
       "\n",
       "[3 rows x 29 columns]"
      ]
     },
     "execution_count": 55,
     "metadata": {},
     "output_type": "execute_result"
    }
   ],
   "source": [
    "train_set.tail(3)"
   ]
  },
  {
   "cell_type": "code",
   "execution_count": 56,
   "metadata": {},
   "outputs": [
    {
     "data": {
      "text/plain": [
       "0        medium\n",
       "1        medium\n",
       "2           big\n",
       "3           big\n",
       "4           big\n",
       "          ...  \n",
       "87015       big\n",
       "87016     small\n",
       "87017     small\n",
       "87018       big\n",
       "87019     small\n",
       "Name: Loan_Amount_Applied_cut, Length: 87020, dtype: category\n",
       "Categories (3, object): [small < medium < big]"
      ]
     },
     "execution_count": 56,
     "metadata": {},
     "output_type": "execute_result"
    }
   ],
   "source": [
    "train_set['Loan_Amount_Applied_cut']"
   ]
  },
  {
   "cell_type": "code",
   "execution_count": 57,
   "metadata": {},
   "outputs": [
    {
     "data": {
      "image/png": "[encoded data removed]",
      "text/plain": [
       "<Figure size 1440x576 with 1 Axes>"
      ]
     },
     "metadata": {
      "needs_background": "light"
     },
     "output_type": "display_data"
    }
   ],
   "source": [
    "fig = plt.figure(figsize=(20,8))\n",
    "ax = fig.add_subplot(111)\n",
    "plt.rc('xtick',labelsize=8)\n",
    "sns.countplot(x = \"Loan_Amount_Applied_cut\", data = train_set)\n",
    "plt.show()"
   ]
  },
  {
   "cell_type": "code",
   "execution_count": 58,
   "metadata": {},
   "outputs": [
    {
     "name": "stdout",
     "output_type": "stream",
     "text": [
      "Loan Amount Requested (INR) : 229389.0\n"
     ]
    },
    {
     "data": {
      "text/plain": [
       "Text(0.5, 0, 'Loan_Amount_Applied')"
      ]
     },
     "execution_count": 58,
     "metadata": {},
     "output_type": "execute_result"
    },
    {
     "data": {
      "image/png": "[encoded data removed]",
      "text/plain": [
       "<Figure size 432x288 with 1 Axes>"
      ]
     },
     "metadata": {
      "needs_background": "light"
     },
     "output_type": "display_data"
    }
   ],
   "source": [
    "print(\"Loan Amount Requested (INR) :\", np.round(test_set['Loan_Amount_Applied'].mean(),0))\n",
    "sns.kdeplot(data=test_set['Loan_Amount_Applied'], shade=True)\n",
    "plt.title(\"Loan Amount Requested (INR) \")\n",
    "plt.ylabel('Quantity')\n",
    "plt.xlabel('Loan_Amount_Applied')"
   ]
  },
  {
   "cell_type": "code",
   "execution_count": 59,
   "metadata": {},
   "outputs": [
    {
     "data": {
      "text/plain": [
       "count    3.767700e+04\n",
       "mean     2.293886e+05\n",
       "std      3.539572e+05\n",
       "min      0.000000e+00\n",
       "25%      0.000000e+00\n",
       "50%      1.000000e+05\n",
       "75%      3.000000e+05\n",
       "max      1.500000e+07\n",
       "Name: Loan_Amount_Applied, dtype: float64"
      ]
     },
     "execution_count": 59,
     "metadata": {},
     "output_type": "execute_result"
    }
   ],
   "source": [
    "test_set['Loan_Amount_Applied'].describe()"
   ]
  },
  {
   "cell_type": "code",
   "execution_count": 60,
   "metadata": {},
   "outputs": [
    {
     "data": {
      "text/html": [
       "<div>\n",
       "<style scoped>\n",
       "    .dataframe tbody tr th:only-of-type {\n",
       "        vertical-align: middle;\n",
       "    }\n",
       "\n",
       "    .dataframe tbody tr th {\n",
       "        vertical-align: top;\n",
       "    }\n",
       "\n",
       "    .dataframe thead th {\n",
       "        text-align: right;\n",
       "    }\n",
       "</style>\n",
       "<table border=\"1\" class=\"dataframe\">\n",
       "  <thead>\n",
       "    <tr style=\"text-align: right;\">\n",
       "      <th></th>\n",
       "      <th>ID</th>\n",
       "      <th>Gender</th>\n",
       "      <th>City</th>\n",
       "      <th>Monthly_Income</th>\n",
       "      <th>DOB</th>\n",
       "      <th>Lead_Creation_Date</th>\n",
       "      <th>Loan_Amount_Applied</th>\n",
       "      <th>Loan_Tenure_Applied</th>\n",
       "      <th>Existing_EMI</th>\n",
       "      <th>Employer_Name</th>\n",
       "      <th>...</th>\n",
       "      <th>EMI_Loan_Submitted</th>\n",
       "      <th>Filled_Form</th>\n",
       "      <th>Device_Type</th>\n",
       "      <th>Var2</th>\n",
       "      <th>Source</th>\n",
       "      <th>Var4</th>\n",
       "      <th>Age</th>\n",
       "      <th>Yrs_Lead_Creation_Date</th>\n",
       "      <th>Age_Creation_Date</th>\n",
       "      <th>Loan_Amount_Applied_cut</th>\n",
       "    </tr>\n",
       "  </thead>\n",
       "  <tbody>\n",
       "    <tr>\n",
       "      <th>0</th>\n",
       "      <td>ID000026A10</td>\n",
       "      <td>Male</td>\n",
       "      <td>0.0</td>\n",
       "      <td>21500</td>\n",
       "      <td>03-Apr-87</td>\n",
       "      <td>05-May-15</td>\n",
       "      <td>100000.0</td>\n",
       "      <td>3.0</td>\n",
       "      <td>0.0</td>\n",
       "      <td>APTARA INC</td>\n",
       "      <td>...</td>\n",
       "      <td>2649.39</td>\n",
       "      <td>N</td>\n",
       "      <td>Web-browser</td>\n",
       "      <td>B</td>\n",
       "      <td>S122</td>\n",
       "      <td>3</td>\n",
       "      <td>34</td>\n",
       "      <td>6</td>\n",
       "      <td>28</td>\n",
       "      <td>small</td>\n",
       "    </tr>\n",
       "    <tr>\n",
       "      <th>1</th>\n",
       "      <td>ID000054C40</td>\n",
       "      <td>Male</td>\n",
       "      <td>1.0</td>\n",
       "      <td>42000</td>\n",
       "      <td>12-May-80</td>\n",
       "      <td>01-May-15</td>\n",
       "      <td>0.0</td>\n",
       "      <td>0.0</td>\n",
       "      <td>0.0</td>\n",
       "      <td>ATUL LTD</td>\n",
       "      <td>...</td>\n",
       "      <td>19849.90</td>\n",
       "      <td>Y</td>\n",
       "      <td>Mobile</td>\n",
       "      <td>C</td>\n",
       "      <td>S133</td>\n",
       "      <td>5</td>\n",
       "      <td>41</td>\n",
       "      <td>6</td>\n",
       "      <td>35</td>\n",
       "      <td>small</td>\n",
       "    </tr>\n",
       "    <tr>\n",
       "      <th>2</th>\n",
       "      <td>ID000066O10</td>\n",
       "      <td>Female</td>\n",
       "      <td>0.0</td>\n",
       "      <td>10000</td>\n",
       "      <td>19-Sep-89</td>\n",
       "      <td>01-May-15</td>\n",
       "      <td>300000.0</td>\n",
       "      <td>2.0</td>\n",
       "      <td>0.0</td>\n",
       "      <td>SHAREKHAN PVT LTD</td>\n",
       "      <td>...</td>\n",
       "      <td>NaN</td>\n",
       "      <td>N</td>\n",
       "      <td>Web-browser</td>\n",
       "      <td>B</td>\n",
       "      <td>S133</td>\n",
       "      <td>1</td>\n",
       "      <td>32</td>\n",
       "      <td>6</td>\n",
       "      <td>26</td>\n",
       "      <td>medium</td>\n",
       "    </tr>\n",
       "    <tr>\n",
       "      <th>3</th>\n",
       "      <td>ID000110G00</td>\n",
       "      <td>Female</td>\n",
       "      <td>1.0</td>\n",
       "      <td>14650</td>\n",
       "      <td>15-Aug-91</td>\n",
       "      <td>01-May-15</td>\n",
       "      <td>0.0</td>\n",
       "      <td>0.0</td>\n",
       "      <td>0.0</td>\n",
       "      <td>MAERSK GLOBAL SERVICE CENTRES</td>\n",
       "      <td>...</td>\n",
       "      <td>NaN</td>\n",
       "      <td>N</td>\n",
       "      <td>Mobile</td>\n",
       "      <td>C</td>\n",
       "      <td>S133</td>\n",
       "      <td>1</td>\n",
       "      <td>30</td>\n",
       "      <td>6</td>\n",
       "      <td>24</td>\n",
       "      <td>small</td>\n",
       "    </tr>\n",
       "    <tr>\n",
       "      <th>4</th>\n",
       "      <td>ID000113J30</td>\n",
       "      <td>Male</td>\n",
       "      <td>1.0</td>\n",
       "      <td>23400</td>\n",
       "      <td>22-Jul-87</td>\n",
       "      <td>01-May-15</td>\n",
       "      <td>100000.0</td>\n",
       "      <td>1.0</td>\n",
       "      <td>5000.0</td>\n",
       "      <td>SCHAWK</td>\n",
       "      <td>...</td>\n",
       "      <td>NaN</td>\n",
       "      <td>N</td>\n",
       "      <td>Web-browser</td>\n",
       "      <td>B</td>\n",
       "      <td>S143</td>\n",
       "      <td>1</td>\n",
       "      <td>34</td>\n",
       "      <td>6</td>\n",
       "      <td>28</td>\n",
       "      <td>small</td>\n",
       "    </tr>\n",
       "  </tbody>\n",
       "</table>\n",
       "<p>5 rows × 28 columns</p>\n",
       "</div>"
      ],
      "text/plain": [
       "            ID  Gender  City  Monthly_Income        DOB Lead_Creation_Date  \\\n",
       "0  ID000026A10    Male   0.0           21500  03-Apr-87          05-May-15   \n",
       "1  ID000054C40    Male   1.0           42000  12-May-80          01-May-15   \n",
       "2  ID000066O10  Female   0.0           10000  19-Sep-89          01-May-15   \n",
       "3  ID000110G00  Female   1.0           14650  15-Aug-91          01-May-15   \n",
       "4  ID000113J30    Male   1.0           23400  22-Jul-87          01-May-15   \n",
       "\n",
       "   Loan_Amount_Applied  Loan_Tenure_Applied  Existing_EMI  \\\n",
       "0             100000.0                  3.0           0.0   \n",
       "1                  0.0                  0.0           0.0   \n",
       "2             300000.0                  2.0           0.0   \n",
       "3                  0.0                  0.0           0.0   \n",
       "4             100000.0                  1.0        5000.0   \n",
       "\n",
       "                   Employer_Name  ... EMI_Loan_Submitted Filled_Form  \\\n",
       "0                     APTARA INC  ...            2649.39           N   \n",
       "1                       ATUL LTD  ...           19849.90           Y   \n",
       "2              SHAREKHAN PVT LTD  ...                NaN           N   \n",
       "3  MAERSK GLOBAL SERVICE CENTRES  ...                NaN           N   \n",
       "4                         SCHAWK  ...                NaN           N   \n",
       "\n",
       "   Device_Type Var2  Source  Var4  Age  Yrs_Lead_Creation_Date  \\\n",
       "0  Web-browser    B    S122     3   34                       6   \n",
       "1       Mobile    C    S133     5   41                       6   \n",
       "2  Web-browser    B    S133     1   32                       6   \n",
       "3       Mobile    C    S133     1   30                       6   \n",
       "4  Web-browser    B    S143     1   34                       6   \n",
       "\n",
       "   Age_Creation_Date Loan_Amount_Applied_cut  \n",
       "0                 28                   small  \n",
       "1                 35                   small  \n",
       "2                 26                  medium  \n",
       "3                 24                   small  \n",
       "4                 28                   small  \n",
       "\n",
       "[5 rows x 28 columns]"
      ]
     },
     "execution_count": 60,
     "metadata": {},
     "output_type": "execute_result"
    }
   ],
   "source": [
    "Loan_Amount_Applied_labels = ['small', 'medium', 'big']\n",
    "test_set['Loan_Amount_Applied_cut'] = pd.qcut(test_set['Loan_Amount_Applied'],\n",
    "                              q=[0, .5, .75, 0.95],\n",
    "                              labels=Loan_Amount_Applied_labels)\n",
    "test_set.head()"
   ]
  },
  {
   "cell_type": "code",
   "execution_count": 61,
   "metadata": {},
   "outputs": [
    {
     "data": {
      "image/png": "[encoded data removed]",
      "text/plain": [
       "<Figure size 1440x576 with 1 Axes>"
      ]
     },
     "metadata": {
      "needs_background": "light"
     },
     "output_type": "display_data"
    }
   ],
   "source": [
    "fig = plt.figure(figsize=(20,8))\n",
    "ax = fig.add_subplot(111)\n",
    "plt.rc('xtick',labelsize=8)\n",
    "sns.countplot(x = \"Loan_Amount_Applied_cut\", data = test_set)\n",
    "plt.show()"
   ]
  },
  {
   "cell_type": "code",
   "execution_count": 62,
   "metadata": {},
   "outputs": [
    {
     "data": {
      "text/plain": [
       "False    37146\n",
       "True       571\n",
       "Name: Loan_Amount_Applied_cut, dtype: int64"
      ]
     },
     "execution_count": 62,
     "metadata": {},
     "output_type": "execute_result"
    }
   ],
   "source": [
    "pd.isnull(test_set['Loan_Amount_Applied_cut']).value_counts()"
   ]
  },
  {
   "cell_type": "code",
   "execution_count": 63,
   "metadata": {},
   "outputs": [
    {
     "data": {
      "text/plain": [
       "False    86949\n",
       "True        71\n",
       "Name: Loan_Amount_Applied_cut, dtype: int64"
      ]
     },
     "execution_count": 63,
     "metadata": {},
     "output_type": "execute_result"
    }
   ],
   "source": [
    "pd.isnull(train_set['Loan_Amount_Applied_cut']).value_counts()"
   ]
  },
  {
   "cell_type": "markdown",
   "metadata": {},
   "source": [
    "#### I'll change missing values, beacuse it's seems to be key variable"
   ]
  },
  {
   "cell_type": "code",
   "execution_count": 64,
   "metadata": {},
   "outputs": [],
   "source": [
    "train_set['Loan_Amount_Applied_cut'] = train_set['Loan_Amount_Applied_cut'].cat.add_categories('unknown')\n",
    "test_set['Loan_Amount_Applied_cut'] = test_set['Loan_Amount_Applied_cut'].cat.add_categories('unknown')\n",
    "train_set['Loan_Amount_Applied_cut'].fillna(\"unknown\", inplace = True)\n",
    "test_set['Loan_Amount_Applied_cut'].fillna(\"unknown\", inplace = True)"
   ]
  },
  {
   "cell_type": "code",
   "execution_count": 65,
   "metadata": {},
   "outputs": [
    {
     "data": {
      "image/png": "[encoded data removed]",
      "text/plain": [
       "<Figure size 1440x576 with 1 Axes>"
      ]
     },
     "metadata": {
      "needs_background": "light"
     },
     "output_type": "display_data"
    }
   ],
   "source": [
    "fig = plt.figure(figsize=(20,8))\n",
    "ax = fig.add_subplot(111)\n",
    "plt.rc('xtick',labelsize=8)\n",
    "sns.countplot(x = \"Loan_Amount_Applied_cut\", data = test_set)\n",
    "plt.show()"
   ]
  },
  {
   "cell_type": "code",
   "execution_count": 66,
   "metadata": {},
   "outputs": [
    {
     "data": {
      "image/png": "[encoded data removed]",
      "text/plain": [
       "<Figure size 1440x576 with 1 Axes>"
      ]
     },
     "metadata": {
      "needs_background": "light"
     },
     "output_type": "display_data"
    }
   ],
   "source": [
    "fig = plt.figure(figsize=(20,8))\n",
    "ax = fig.add_subplot(111)\n",
    "plt.rc('xtick',labelsize=8)\n",
    "sns.countplot(x = \"Loan_Amount_Applied_cut\", data = train_set)\n",
    "plt.show()"
   ]
  },
  {
   "cell_type": "code",
   "execution_count": 67,
   "metadata": {},
   "outputs": [],
   "source": [
    "cat_features.append('Loan_Amount_Applied_cut')"
   ]
  },
  {
   "cell_type": "markdown",
   "metadata": {},
   "source": [
    "### Loan_Tenure_Applied - Loan Tenure Requested (in years)"
   ]
  },
  {
   "cell_type": "code",
   "execution_count": 68,
   "metadata": {},
   "outputs": [
    {
     "name": "stdout",
     "output_type": "stream",
     "text": [
      "Loan Tenure Requested (in years) : 2.0\n"
     ]
    },
    {
     "data": {
      "text/plain": [
       "Text(0.5, 0, 'Loan_Tenure_Applied')"
      ]
     },
     "execution_count": 68,
     "metadata": {},
     "output_type": "execute_result"
    },
    {
     "data": {
      "image/png": "[encoded data removed]",
      "text/plain": [
       "<Figure size 432x288 with 1 Axes>"
      ]
     },
     "metadata": {
      "needs_background": "light"
     },
     "output_type": "display_data"
    }
   ],
   "source": [
    "print(\"Loan Tenure Requested (in years) :\", np.round(train_set['Loan_Tenure_Applied'].mean(),0))\n",
    "sns.kdeplot(data=train_set['Loan_Tenure_Applied'], shade=True)\n",
    "plt.title(\"Loan Tenure Requested (in years)\")\n",
    "plt.ylabel('Quantity')\n",
    "plt.xlabel('Loan_Tenure_Applied')"
   ]
  },
  {
   "cell_type": "code",
   "execution_count": 69,
   "metadata": {},
   "outputs": [
    {
     "data": {
      "text/plain": [
       "count    86949.000000\n",
       "mean         2.131399\n",
       "std          2.014193\n",
       "min          0.000000\n",
       "25%          0.000000\n",
       "50%          2.000000\n",
       "75%          4.000000\n",
       "max         10.000000\n",
       "Name: Loan_Tenure_Applied, dtype: float64"
      ]
     },
     "execution_count": 69,
     "metadata": {},
     "output_type": "execute_result"
    }
   ],
   "source": [
    "train_set['Loan_Tenure_Applied'].describe()"
   ]
  },
  {
   "cell_type": "code",
   "execution_count": 70,
   "metadata": {},
   "outputs": [
    {
     "data": {
      "text/plain": [
       "False    86949\n",
       "True        71\n",
       "Name: Loan_Tenure_Applied, dtype: int64"
      ]
     },
     "execution_count": 70,
     "metadata": {},
     "output_type": "execute_result"
    }
   ],
   "source": [
    "pd.isnull(train_set['Loan_Tenure_Applied']).value_counts()"
   ]
  },
  {
   "cell_type": "code",
   "execution_count": 71,
   "metadata": {},
   "outputs": [
    {
     "data": {
      "text/plain": [
       "0.00     0.0\n",
       "0.30     0.0\n",
       "0.40     1.0\n",
       "0.25     0.0\n",
       "0.50     2.0\n",
       "0.75     4.0\n",
       "1.00    10.0\n",
       "Name: Loan_Tenure_Applied, dtype: float64"
      ]
     },
     "execution_count": 71,
     "metadata": {},
     "output_type": "execute_result"
    }
   ],
   "source": [
    "train_set['Loan_Tenure_Applied'].quantile([0, 0.3, 0.4,.25, .5, .75, 1])"
   ]
  },
  {
   "cell_type": "code",
   "execution_count": 72,
   "metadata": {},
   "outputs": [
    {
     "data": {
      "text/html": [
       "<div>\n",
       "<style scoped>\n",
       "    .dataframe tbody tr th:only-of-type {\n",
       "        vertical-align: middle;\n",
       "    }\n",
       "\n",
       "    .dataframe tbody tr th {\n",
       "        vertical-align: top;\n",
       "    }\n",
       "\n",
       "    .dataframe thead th {\n",
       "        text-align: right;\n",
       "    }\n",
       "</style>\n",
       "<table border=\"1\" class=\"dataframe\">\n",
       "  <thead>\n",
       "    <tr style=\"text-align: right;\">\n",
       "      <th></th>\n",
       "      <th>ID</th>\n",
       "      <th>Gender</th>\n",
       "      <th>City</th>\n",
       "      <th>Monthly_Income</th>\n",
       "      <th>DOB</th>\n",
       "      <th>Loan_Amount_Applied</th>\n",
       "      <th>Loan_Tenure_Applied</th>\n",
       "      <th>Existing_EMI</th>\n",
       "      <th>Employer_Name</th>\n",
       "      <th>Salary_Account</th>\n",
       "      <th>...</th>\n",
       "      <th>Var2</th>\n",
       "      <th>Source</th>\n",
       "      <th>Var4</th>\n",
       "      <th>LoggedIn</th>\n",
       "      <th>Disbursed</th>\n",
       "      <th>Age</th>\n",
       "      <th>Yrs_Lead_Creation_Date</th>\n",
       "      <th>Age_Creation_Date</th>\n",
       "      <th>Loan_Amount_Applied_cut</th>\n",
       "      <th>Loan_Tenure_Applied_cut</th>\n",
       "    </tr>\n",
       "  </thead>\n",
       "  <tbody>\n",
       "    <tr>\n",
       "      <th>0</th>\n",
       "      <td>ID000002C20</td>\n",
       "      <td>Female</td>\n",
       "      <td>1.0</td>\n",
       "      <td>20000</td>\n",
       "      <td>23-May-78</td>\n",
       "      <td>300000.0</td>\n",
       "      <td>5.0</td>\n",
       "      <td>0.0</td>\n",
       "      <td>CYBOSOL</td>\n",
       "      <td>HDFC Bank</td>\n",
       "      <td>...</td>\n",
       "      <td>G</td>\n",
       "      <td>S122</td>\n",
       "      <td>1</td>\n",
       "      <td>0</td>\n",
       "      <td>0</td>\n",
       "      <td>43</td>\n",
       "      <td>6</td>\n",
       "      <td>37</td>\n",
       "      <td>medium</td>\n",
       "      <td>big</td>\n",
       "    </tr>\n",
       "    <tr>\n",
       "      <th>1</th>\n",
       "      <td>ID000004E40</td>\n",
       "      <td>Male</td>\n",
       "      <td>1.0</td>\n",
       "      <td>35000</td>\n",
       "      <td>07-Oct-85</td>\n",
       "      <td>200000.0</td>\n",
       "      <td>2.0</td>\n",
       "      <td>0.0</td>\n",
       "      <td>TATA CONSULTANCY SERVICES LTD (TCS)</td>\n",
       "      <td>ICICI Bank</td>\n",
       "      <td>...</td>\n",
       "      <td>G</td>\n",
       "      <td>S122</td>\n",
       "      <td>3</td>\n",
       "      <td>0</td>\n",
       "      <td>0</td>\n",
       "      <td>35</td>\n",
       "      <td>6</td>\n",
       "      <td>29</td>\n",
       "      <td>medium</td>\n",
       "      <td>medium</td>\n",
       "    </tr>\n",
       "    <tr>\n",
       "      <th>2</th>\n",
       "      <td>ID000007H20</td>\n",
       "      <td>Male</td>\n",
       "      <td>0.0</td>\n",
       "      <td>22500</td>\n",
       "      <td>10-Oct-81</td>\n",
       "      <td>600000.0</td>\n",
       "      <td>4.0</td>\n",
       "      <td>0.0</td>\n",
       "      <td>ALCHEMIST HOSPITALS LTD</td>\n",
       "      <td>State Bank of India</td>\n",
       "      <td>...</td>\n",
       "      <td>B</td>\n",
       "      <td>S143</td>\n",
       "      <td>1</td>\n",
       "      <td>0</td>\n",
       "      <td>0</td>\n",
       "      <td>39</td>\n",
       "      <td>6</td>\n",
       "      <td>33</td>\n",
       "      <td>big</td>\n",
       "      <td>medium</td>\n",
       "    </tr>\n",
       "    <tr>\n",
       "      <th>3</th>\n",
       "      <td>ID000008I30</td>\n",
       "      <td>Male</td>\n",
       "      <td>0.0</td>\n",
       "      <td>35000</td>\n",
       "      <td>30-Nov-87</td>\n",
       "      <td>1000000.0</td>\n",
       "      <td>5.0</td>\n",
       "      <td>0.0</td>\n",
       "      <td>BIHAR GOVERNMENT</td>\n",
       "      <td>State Bank of India</td>\n",
       "      <td>...</td>\n",
       "      <td>B</td>\n",
       "      <td>S143</td>\n",
       "      <td>3</td>\n",
       "      <td>0</td>\n",
       "      <td>0</td>\n",
       "      <td>33</td>\n",
       "      <td>6</td>\n",
       "      <td>27</td>\n",
       "      <td>big</td>\n",
       "      <td>big</td>\n",
       "    </tr>\n",
       "    <tr>\n",
       "      <th>4</th>\n",
       "      <td>ID000009J40</td>\n",
       "      <td>Male</td>\n",
       "      <td>1.0</td>\n",
       "      <td>100000</td>\n",
       "      <td>17-Feb-84</td>\n",
       "      <td>500000.0</td>\n",
       "      <td>2.0</td>\n",
       "      <td>25000.0</td>\n",
       "      <td>GLOBAL EDGE SOFTWARE</td>\n",
       "      <td>HDFC Bank</td>\n",
       "      <td>...</td>\n",
       "      <td>B</td>\n",
       "      <td>S134</td>\n",
       "      <td>3</td>\n",
       "      <td>1</td>\n",
       "      <td>0</td>\n",
       "      <td>37</td>\n",
       "      <td>6</td>\n",
       "      <td>31</td>\n",
       "      <td>big</td>\n",
       "      <td>medium</td>\n",
       "    </tr>\n",
       "  </tbody>\n",
       "</table>\n",
       "<p>5 rows × 30 columns</p>\n",
       "</div>"
      ],
      "text/plain": [
       "            ID  Gender  City  Monthly_Income        DOB  Loan_Amount_Applied  \\\n",
       "0  ID000002C20  Female   1.0           20000  23-May-78             300000.0   \n",
       "1  ID000004E40    Male   1.0           35000  07-Oct-85             200000.0   \n",
       "2  ID000007H20    Male   0.0           22500  10-Oct-81             600000.0   \n",
       "3  ID000008I30    Male   0.0           35000  30-Nov-87            1000000.0   \n",
       "4  ID000009J40    Male   1.0          100000  17-Feb-84             500000.0   \n",
       "\n",
       "   Loan_Tenure_Applied  Existing_EMI                        Employer_Name  \\\n",
       "0                  5.0           0.0                              CYBOSOL   \n",
       "1                  2.0           0.0  TATA CONSULTANCY SERVICES LTD (TCS)   \n",
       "2                  4.0           0.0              ALCHEMIST HOSPITALS LTD   \n",
       "3                  5.0           0.0                     BIHAR GOVERNMENT   \n",
       "4                  2.0       25000.0                 GLOBAL EDGE SOFTWARE   \n",
       "\n",
       "        Salary_Account  ... Var2  Source Var4  LoggedIn  Disbursed  Age  \\\n",
       "0            HDFC Bank  ...    G    S122    1         0          0   43   \n",
       "1           ICICI Bank  ...    G    S122    3         0          0   35   \n",
       "2  State Bank of India  ...    B    S143    1         0          0   39   \n",
       "3  State Bank of India  ...    B    S143    3         0          0   33   \n",
       "4            HDFC Bank  ...    B    S134    3         1          0   37   \n",
       "\n",
       "   Yrs_Lead_Creation_Date  Age_Creation_Date Loan_Amount_Applied_cut  \\\n",
       "0                       6                 37                  medium   \n",
       "1                       6                 29                  medium   \n",
       "2                       6                 33                     big   \n",
       "3                       6                 27                     big   \n",
       "4                       6                 31                     big   \n",
       "\n",
       "  Loan_Tenure_Applied_cut  \n",
       "0                     big  \n",
       "1                  medium  \n",
       "2                  medium  \n",
       "3                     big  \n",
       "4                  medium  \n",
       "\n",
       "[5 rows x 30 columns]"
      ]
     },
     "execution_count": 72,
     "metadata": {},
     "output_type": "execute_result"
    }
   ],
   "source": [
    "Loan_Tenure_Applied_labels = ['small', 'medium', 'big']\n",
    "train_set['Loan_Tenure_Applied_cut'] = pd.qcut(train_set['Loan_Tenure_Applied'],\n",
    "                              q=[0, 0.4, .75, 1],\n",
    "                              labels=Loan_Tenure_Applied_labels)\n",
    "train_set.head()"
   ]
  },
  {
   "cell_type": "code",
   "execution_count": 73,
   "metadata": {},
   "outputs": [],
   "source": [
    "train_set['Loan_Tenure_Applied_cut'] = train_set['Loan_Tenure_Applied_cut'].cat.add_categories('unknown')\n",
    "train_set['Loan_Tenure_Applied_cut'].fillna(\"unknown\", inplace = True)"
   ]
  },
  {
   "cell_type": "code",
   "execution_count": 74,
   "metadata": {},
   "outputs": [
    {
     "data": {
      "image/png": "[encoded data removed]",
      "text/plain": [
       "<Figure size 1440x576 with 1 Axes>"
      ]
     },
     "metadata": {
      "needs_background": "light"
     },
     "output_type": "display_data"
    }
   ],
   "source": [
    "fig = plt.figure(figsize=(20,8))\n",
    "ax = fig.add_subplot(111)\n",
    "plt.rc('xtick',labelsize=8)\n",
    "sns.countplot(x = \"Loan_Tenure_Applied_cut\", data = train_set)\n",
    "plt.show()"
   ]
  },
  {
   "cell_type": "code",
   "execution_count": 75,
   "metadata": {},
   "outputs": [
    {
     "data": {
      "text/html": [
       "<div>\n",
       "<style scoped>\n",
       "    .dataframe tbody tr th:only-of-type {\n",
       "        vertical-align: middle;\n",
       "    }\n",
       "\n",
       "    .dataframe tbody tr th {\n",
       "        vertical-align: top;\n",
       "    }\n",
       "\n",
       "    .dataframe thead th {\n",
       "        text-align: right;\n",
       "    }\n",
       "</style>\n",
       "<table border=\"1\" class=\"dataframe\">\n",
       "  <thead>\n",
       "    <tr style=\"text-align: right;\">\n",
       "      <th></th>\n",
       "      <th>ID</th>\n",
       "      <th>Gender</th>\n",
       "      <th>City</th>\n",
       "      <th>Monthly_Income</th>\n",
       "      <th>DOB</th>\n",
       "      <th>Lead_Creation_Date</th>\n",
       "      <th>Loan_Amount_Applied</th>\n",
       "      <th>Loan_Tenure_Applied</th>\n",
       "      <th>Existing_EMI</th>\n",
       "      <th>Employer_Name</th>\n",
       "      <th>...</th>\n",
       "      <th>Filled_Form</th>\n",
       "      <th>Device_Type</th>\n",
       "      <th>Var2</th>\n",
       "      <th>Source</th>\n",
       "      <th>Var4</th>\n",
       "      <th>Age</th>\n",
       "      <th>Yrs_Lead_Creation_Date</th>\n",
       "      <th>Age_Creation_Date</th>\n",
       "      <th>Loan_Amount_Applied_cut</th>\n",
       "      <th>Loan_Tenure_Applied_cut</th>\n",
       "    </tr>\n",
       "  </thead>\n",
       "  <tbody>\n",
       "    <tr>\n",
       "      <th>0</th>\n",
       "      <td>ID000026A10</td>\n",
       "      <td>Male</td>\n",
       "      <td>0.0</td>\n",
       "      <td>21500</td>\n",
       "      <td>03-Apr-87</td>\n",
       "      <td>05-May-15</td>\n",
       "      <td>100000.0</td>\n",
       "      <td>3.0</td>\n",
       "      <td>0.0</td>\n",
       "      <td>APTARA INC</td>\n",
       "      <td>...</td>\n",
       "      <td>N</td>\n",
       "      <td>Web-browser</td>\n",
       "      <td>B</td>\n",
       "      <td>S122</td>\n",
       "      <td>3</td>\n",
       "      <td>34</td>\n",
       "      <td>6</td>\n",
       "      <td>28</td>\n",
       "      <td>small</td>\n",
       "      <td>medium</td>\n",
       "    </tr>\n",
       "    <tr>\n",
       "      <th>1</th>\n",
       "      <td>ID000054C40</td>\n",
       "      <td>Male</td>\n",
       "      <td>1.0</td>\n",
       "      <td>42000</td>\n",
       "      <td>12-May-80</td>\n",
       "      <td>01-May-15</td>\n",
       "      <td>0.0</td>\n",
       "      <td>0.0</td>\n",
       "      <td>0.0</td>\n",
       "      <td>ATUL LTD</td>\n",
       "      <td>...</td>\n",
       "      <td>Y</td>\n",
       "      <td>Mobile</td>\n",
       "      <td>C</td>\n",
       "      <td>S133</td>\n",
       "      <td>5</td>\n",
       "      <td>41</td>\n",
       "      <td>6</td>\n",
       "      <td>35</td>\n",
       "      <td>small</td>\n",
       "      <td>small</td>\n",
       "    </tr>\n",
       "    <tr>\n",
       "      <th>2</th>\n",
       "      <td>ID000066O10</td>\n",
       "      <td>Female</td>\n",
       "      <td>0.0</td>\n",
       "      <td>10000</td>\n",
       "      <td>19-Sep-89</td>\n",
       "      <td>01-May-15</td>\n",
       "      <td>300000.0</td>\n",
       "      <td>2.0</td>\n",
       "      <td>0.0</td>\n",
       "      <td>SHAREKHAN PVT LTD</td>\n",
       "      <td>...</td>\n",
       "      <td>N</td>\n",
       "      <td>Web-browser</td>\n",
       "      <td>B</td>\n",
       "      <td>S133</td>\n",
       "      <td>1</td>\n",
       "      <td>32</td>\n",
       "      <td>6</td>\n",
       "      <td>26</td>\n",
       "      <td>medium</td>\n",
       "      <td>medium</td>\n",
       "    </tr>\n",
       "    <tr>\n",
       "      <th>3</th>\n",
       "      <td>ID000110G00</td>\n",
       "      <td>Female</td>\n",
       "      <td>1.0</td>\n",
       "      <td>14650</td>\n",
       "      <td>15-Aug-91</td>\n",
       "      <td>01-May-15</td>\n",
       "      <td>0.0</td>\n",
       "      <td>0.0</td>\n",
       "      <td>0.0</td>\n",
       "      <td>MAERSK GLOBAL SERVICE CENTRES</td>\n",
       "      <td>...</td>\n",
       "      <td>N</td>\n",
       "      <td>Mobile</td>\n",
       "      <td>C</td>\n",
       "      <td>S133</td>\n",
       "      <td>1</td>\n",
       "      <td>30</td>\n",
       "      <td>6</td>\n",
       "      <td>24</td>\n",
       "      <td>small</td>\n",
       "      <td>small</td>\n",
       "    </tr>\n",
       "    <tr>\n",
       "      <th>4</th>\n",
       "      <td>ID000113J30</td>\n",
       "      <td>Male</td>\n",
       "      <td>1.0</td>\n",
       "      <td>23400</td>\n",
       "      <td>22-Jul-87</td>\n",
       "      <td>01-May-15</td>\n",
       "      <td>100000.0</td>\n",
       "      <td>1.0</td>\n",
       "      <td>5000.0</td>\n",
       "      <td>SCHAWK</td>\n",
       "      <td>...</td>\n",
       "      <td>N</td>\n",
       "      <td>Web-browser</td>\n",
       "      <td>B</td>\n",
       "      <td>S143</td>\n",
       "      <td>1</td>\n",
       "      <td>34</td>\n",
       "      <td>6</td>\n",
       "      <td>28</td>\n",
       "      <td>small</td>\n",
       "      <td>small</td>\n",
       "    </tr>\n",
       "  </tbody>\n",
       "</table>\n",
       "<p>5 rows × 29 columns</p>\n",
       "</div>"
      ],
      "text/plain": [
       "            ID  Gender  City  Monthly_Income        DOB Lead_Creation_Date  \\\n",
       "0  ID000026A10    Male   0.0           21500  03-Apr-87          05-May-15   \n",
       "1  ID000054C40    Male   1.0           42000  12-May-80          01-May-15   \n",
       "2  ID000066O10  Female   0.0           10000  19-Sep-89          01-May-15   \n",
       "3  ID000110G00  Female   1.0           14650  15-Aug-91          01-May-15   \n",
       "4  ID000113J30    Male   1.0           23400  22-Jul-87          01-May-15   \n",
       "\n",
       "   Loan_Amount_Applied  Loan_Tenure_Applied  Existing_EMI  \\\n",
       "0             100000.0                  3.0           0.0   \n",
       "1                  0.0                  0.0           0.0   \n",
       "2             300000.0                  2.0           0.0   \n",
       "3                  0.0                  0.0           0.0   \n",
       "4             100000.0                  1.0        5000.0   \n",
       "\n",
       "                   Employer_Name  ... Filled_Form  Device_Type  Var2 Source  \\\n",
       "0                     APTARA INC  ...           N  Web-browser     B   S122   \n",
       "1                       ATUL LTD  ...           Y       Mobile     C   S133   \n",
       "2              SHAREKHAN PVT LTD  ...           N  Web-browser     B   S133   \n",
       "3  MAERSK GLOBAL SERVICE CENTRES  ...           N       Mobile     C   S133   \n",
       "4                         SCHAWK  ...           N  Web-browser     B   S143   \n",
       "\n",
       "   Var4  Age  Yrs_Lead_Creation_Date  Age_Creation_Date  \\\n",
       "0     3   34                       6                 28   \n",
       "1     5   41                       6                 35   \n",
       "2     1   32                       6                 26   \n",
       "3     1   30                       6                 24   \n",
       "4     1   34                       6                 28   \n",
       "\n",
       "   Loan_Amount_Applied_cut Loan_Tenure_Applied_cut  \n",
       "0                    small                  medium  \n",
       "1                    small                   small  \n",
       "2                   medium                  medium  \n",
       "3                    small                   small  \n",
       "4                    small                   small  \n",
       "\n",
       "[5 rows x 29 columns]"
      ]
     },
     "execution_count": 75,
     "metadata": {},
     "output_type": "execute_result"
    }
   ],
   "source": [
    "Loan_Tenure_Applied_labels = ['small', 'medium', 'big']\n",
    "test_set['Loan_Tenure_Applied_cut'] = pd.qcut(test_set['Loan_Tenure_Applied'],\n",
    "                              q=[0, .4, .75, 1],\n",
    "                              labels=Loan_Tenure_Applied_labels)\n",
    "test_set.head()"
   ]
  },
  {
   "cell_type": "code",
   "execution_count": 76,
   "metadata": {},
   "outputs": [],
   "source": [
    "test_set['Loan_Tenure_Applied_cut'] = test_set['Loan_Tenure_Applied_cut'].cat.add_categories('unknown')\n",
    "test_set['Loan_Tenure_Applied_cut'].fillna(\"unknown\", inplace = True)"
   ]
  },
  {
   "cell_type": "code",
   "execution_count": 77,
   "metadata": {},
   "outputs": [
    {
     "data": {
      "image/png": "[encoded data removed]",
      "text/plain": [
       "<Figure size 1440x576 with 1 Axes>"
      ]
     },
     "metadata": {
      "needs_background": "light"
     },
     "output_type": "display_data"
    }
   ],
   "source": [
    "fig = plt.figure(figsize=(20,8))\n",
    "ax = fig.add_subplot(111)\n",
    "plt.rc('xtick',labelsize=8)\n",
    "sns.countplot(x = \"Loan_Tenure_Applied_cut\", data = test_set)\n",
    "plt.show()"
   ]
  },
  {
   "cell_type": "code",
   "execution_count": 78,
   "metadata": {},
   "outputs": [],
   "source": [
    "cat_features.append('Loan_Tenure_Applied_cut')"
   ]
  },
  {
   "cell_type": "markdown",
   "metadata": {},
   "source": [
    "### Existing_EMI - EMI of Existing Loans (INR)"
   ]
  },
  {
   "cell_type": "markdown",
   "metadata": {},
   "source": [
    "##### What Is an Equated Monthly Installment (EMI)?\n",
    "An equated monthly installment (EMI) is a fixed payment amount made by a borrower to a lender at a specified date each calendar month. Equated monthly installments are applied to both interest and principal each month so that over a specified number of years, the loan is paid off in full."
   ]
  },
  {
   "cell_type": "code",
   "execution_count": 79,
   "metadata": {},
   "outputs": [
    {
     "name": "stdout",
     "output_type": "stream",
     "text": [
      "EMI of Existing Loans (INR) : 3696.0\n"
     ]
    },
    {
     "data": {
      "text/plain": [
       "Text(0.5, 0, 'Existing_EMI')"
      ]
     },
     "execution_count": 79,
     "metadata": {},
     "output_type": "execute_result"
    },
    {
     "data": {
      "image/png": "[encoded data removed]",
      "text/plain": [
       "<Figure size 432x288 with 1 Axes>"
      ]
     },
     "metadata": {
      "needs_background": "light"
     },
     "output_type": "display_data"
    }
   ],
   "source": [
    "print(\"EMI of Existing Loans (INR) :\", np.round(train_set['Existing_EMI'].mean(),0))\n",
    "sns.kdeplot(data=train_set['Existing_EMI'], shade=True)\n",
    "plt.title(\"EMI of Existing Loans (INR)\")\n",
    "plt.ylabel('Quantity')\n",
    "plt.xlabel('Existing_EMI')"
   ]
  },
  {
   "cell_type": "code",
   "execution_count": 80,
   "metadata": {},
   "outputs": [
    {
     "data": {
      "text/plain": [
       "0        0.0\n",
       "1        0.0\n",
       "2        0.0\n",
       "3        0.0\n",
       "4    25000.0\n",
       "5    15000.0\n",
       "6        0.0\n",
       "7     2597.0\n",
       "8        0.0\n",
       "9        0.0\n",
       "Name: Existing_EMI, dtype: float64"
      ]
     },
     "execution_count": 80,
     "metadata": {},
     "output_type": "execute_result"
    }
   ],
   "source": [
    "train_set['Existing_EMI'].head(10)"
   ]
  },
  {
   "cell_type": "code",
   "execution_count": 81,
   "metadata": {},
   "outputs": [
    {
     "name": "stdout",
     "output_type": "stream",
     "text": [
      "disbursed  EMI     \n",
      "0          0.0         57600\n",
      "           1.0            43\n",
      "           1.5             1\n",
      "           2.0            13\n",
      "           3.0             6\n",
      "                       ...  \n",
      "1          77000.0         1\n",
      "           90000.0         2\n",
      "           94000.0         2\n",
      "           95000.0         1\n",
      "           300000.0        1\n",
      "Name: disbursed, Length: 3937, dtype: int64\n"
     ]
    }
   ],
   "source": [
    "sex_disbursed = pd.DataFrame({'EMI': train_set['Existing_EMI'], 'disbursed': train_set.Disbursed})\n",
    "data = sex_disbursed.disbursed.groupby([sex_disbursed.disbursed, sex_disbursed.EMI]).size()\n",
    "print(data)"
   ]
  },
  {
   "cell_type": "markdown",
   "metadata": {},
   "source": [
    "### Disbursed loan has no influence on EMI"
   ]
  },
  {
   "cell_type": "code",
   "execution_count": 82,
   "metadata": {},
   "outputs": [
    {
     "data": {
      "text/plain": [
       "71"
      ]
     },
     "execution_count": 82,
     "metadata": {},
     "output_type": "execute_result"
    }
   ],
   "source": [
    "pd.isnull(train_set['Existing_EMI']).sum()"
   ]
  },
  {
   "cell_type": "code",
   "execution_count": 83,
   "metadata": {},
   "outputs": [
    {
     "data": {
      "text/plain": [
       "0.028169014084507043"
      ]
     },
     "execution_count": 83,
     "metadata": {},
     "output_type": "execute_result"
    }
   ],
   "source": [
    "train_set.Disbursed[pd.isnull(train_set['Existing_EMI'])].mean()"
   ]
  },
  {
   "cell_type": "code",
   "execution_count": 84,
   "metadata": {},
   "outputs": [
    {
     "data": {
      "text/plain": [
       "count    8.694900e+04\n",
       "mean     3.696228e+03\n",
       "std      3.981021e+04\n",
       "min      0.000000e+00\n",
       "25%      0.000000e+00\n",
       "50%      0.000000e+00\n",
       "75%      3.500000e+03\n",
       "max      1.000000e+07\n",
       "Name: Existing_EMI, dtype: float64"
      ]
     },
     "execution_count": 84,
     "metadata": {},
     "output_type": "execute_result"
    }
   ],
   "source": [
    "train_set['Existing_EMI'].describe()"
   ]
  },
  {
   "cell_type": "code",
   "execution_count": 85,
   "metadata": {},
   "outputs": [
    {
     "data": {
      "text/plain": [
       "0.00000    0.000000e+00\n",
       "0.50000    0.000000e+00\n",
       "0.67000    1.000000e+00\n",
       "0.75000    3.500000e+03\n",
       "0.80000    5.000000e+03\n",
       "0.90000    1.000000e+04\n",
       "0.95000    1.800000e+04\n",
       "0.99999    6.047661e+06\n",
       "1.00000    1.000000e+07\n",
       "Name: Existing_EMI, dtype: float64"
      ]
     },
     "execution_count": 85,
     "metadata": {},
     "output_type": "execute_result"
    }
   ],
   "source": [
    "train_set['Existing_EMI'].quantile([0, 0.5, 0.67 ,0.75, 0.8, 0.9, 0.95, 0.99999, 1])"
   ]
  },
  {
   "cell_type": "code",
   "execution_count": 86,
   "metadata": {},
   "outputs": [
    {
     "data": {
      "text/html": [
       "<div>\n",
       "<style scoped>\n",
       "    .dataframe tbody tr th:only-of-type {\n",
       "        vertical-align: middle;\n",
       "    }\n",
       "\n",
       "    .dataframe tbody tr th {\n",
       "        vertical-align: top;\n",
       "    }\n",
       "\n",
       "    .dataframe thead th {\n",
       "        text-align: right;\n",
       "    }\n",
       "</style>\n",
       "<table border=\"1\" class=\"dataframe\">\n",
       "  <thead>\n",
       "    <tr style=\"text-align: right;\">\n",
       "      <th></th>\n",
       "      <th>ID</th>\n",
       "      <th>Gender</th>\n",
       "      <th>City</th>\n",
       "      <th>Monthly_Income</th>\n",
       "      <th>DOB</th>\n",
       "      <th>Loan_Amount_Applied</th>\n",
       "      <th>Loan_Tenure_Applied</th>\n",
       "      <th>Existing_EMI</th>\n",
       "      <th>Employer_Name</th>\n",
       "      <th>Salary_Account</th>\n",
       "      <th>...</th>\n",
       "      <th>Source</th>\n",
       "      <th>Var4</th>\n",
       "      <th>LoggedIn</th>\n",
       "      <th>Disbursed</th>\n",
       "      <th>Age</th>\n",
       "      <th>Yrs_Lead_Creation_Date</th>\n",
       "      <th>Age_Creation_Date</th>\n",
       "      <th>Loan_Amount_Applied_cut</th>\n",
       "      <th>Loan_Tenure_Applied_cut</th>\n",
       "      <th>Existing_EMI_cut</th>\n",
       "    </tr>\n",
       "  </thead>\n",
       "  <tbody>\n",
       "    <tr>\n",
       "      <th>0</th>\n",
       "      <td>ID000002C20</td>\n",
       "      <td>Female</td>\n",
       "      <td>1.0</td>\n",
       "      <td>20000</td>\n",
       "      <td>23-May-78</td>\n",
       "      <td>300000.0</td>\n",
       "      <td>5.0</td>\n",
       "      <td>0.0</td>\n",
       "      <td>CYBOSOL</td>\n",
       "      <td>HDFC Bank</td>\n",
       "      <td>...</td>\n",
       "      <td>S122</td>\n",
       "      <td>1</td>\n",
       "      <td>0</td>\n",
       "      <td>0</td>\n",
       "      <td>43</td>\n",
       "      <td>6</td>\n",
       "      <td>37</td>\n",
       "      <td>medium</td>\n",
       "      <td>big</td>\n",
       "      <td>small</td>\n",
       "    </tr>\n",
       "    <tr>\n",
       "      <th>1</th>\n",
       "      <td>ID000004E40</td>\n",
       "      <td>Male</td>\n",
       "      <td>1.0</td>\n",
       "      <td>35000</td>\n",
       "      <td>07-Oct-85</td>\n",
       "      <td>200000.0</td>\n",
       "      <td>2.0</td>\n",
       "      <td>0.0</td>\n",
       "      <td>TATA CONSULTANCY SERVICES LTD (TCS)</td>\n",
       "      <td>ICICI Bank</td>\n",
       "      <td>...</td>\n",
       "      <td>S122</td>\n",
       "      <td>3</td>\n",
       "      <td>0</td>\n",
       "      <td>0</td>\n",
       "      <td>35</td>\n",
       "      <td>6</td>\n",
       "      <td>29</td>\n",
       "      <td>medium</td>\n",
       "      <td>medium</td>\n",
       "      <td>small</td>\n",
       "    </tr>\n",
       "    <tr>\n",
       "      <th>2</th>\n",
       "      <td>ID000007H20</td>\n",
       "      <td>Male</td>\n",
       "      <td>0.0</td>\n",
       "      <td>22500</td>\n",
       "      <td>10-Oct-81</td>\n",
       "      <td>600000.0</td>\n",
       "      <td>4.0</td>\n",
       "      <td>0.0</td>\n",
       "      <td>ALCHEMIST HOSPITALS LTD</td>\n",
       "      <td>State Bank of India</td>\n",
       "      <td>...</td>\n",
       "      <td>S143</td>\n",
       "      <td>1</td>\n",
       "      <td>0</td>\n",
       "      <td>0</td>\n",
       "      <td>39</td>\n",
       "      <td>6</td>\n",
       "      <td>33</td>\n",
       "      <td>big</td>\n",
       "      <td>medium</td>\n",
       "      <td>small</td>\n",
       "    </tr>\n",
       "    <tr>\n",
       "      <th>3</th>\n",
       "      <td>ID000008I30</td>\n",
       "      <td>Male</td>\n",
       "      <td>0.0</td>\n",
       "      <td>35000</td>\n",
       "      <td>30-Nov-87</td>\n",
       "      <td>1000000.0</td>\n",
       "      <td>5.0</td>\n",
       "      <td>0.0</td>\n",
       "      <td>BIHAR GOVERNMENT</td>\n",
       "      <td>State Bank of India</td>\n",
       "      <td>...</td>\n",
       "      <td>S143</td>\n",
       "      <td>3</td>\n",
       "      <td>0</td>\n",
       "      <td>0</td>\n",
       "      <td>33</td>\n",
       "      <td>6</td>\n",
       "      <td>27</td>\n",
       "      <td>big</td>\n",
       "      <td>big</td>\n",
       "      <td>small</td>\n",
       "    </tr>\n",
       "    <tr>\n",
       "      <th>4</th>\n",
       "      <td>ID000009J40</td>\n",
       "      <td>Male</td>\n",
       "      <td>1.0</td>\n",
       "      <td>100000</td>\n",
       "      <td>17-Feb-84</td>\n",
       "      <td>500000.0</td>\n",
       "      <td>2.0</td>\n",
       "      <td>25000.0</td>\n",
       "      <td>GLOBAL EDGE SOFTWARE</td>\n",
       "      <td>HDFC Bank</td>\n",
       "      <td>...</td>\n",
       "      <td>S134</td>\n",
       "      <td>3</td>\n",
       "      <td>1</td>\n",
       "      <td>0</td>\n",
       "      <td>37</td>\n",
       "      <td>6</td>\n",
       "      <td>31</td>\n",
       "      <td>big</td>\n",
       "      <td>medium</td>\n",
       "      <td>big</td>\n",
       "    </tr>\n",
       "  </tbody>\n",
       "</table>\n",
       "<p>5 rows × 31 columns</p>\n",
       "</div>"
      ],
      "text/plain": [
       "            ID  Gender  City  Monthly_Income        DOB  Loan_Amount_Applied  \\\n",
       "0  ID000002C20  Female   1.0           20000  23-May-78             300000.0   \n",
       "1  ID000004E40    Male   1.0           35000  07-Oct-85             200000.0   \n",
       "2  ID000007H20    Male   0.0           22500  10-Oct-81             600000.0   \n",
       "3  ID000008I30    Male   0.0           35000  30-Nov-87            1000000.0   \n",
       "4  ID000009J40    Male   1.0          100000  17-Feb-84             500000.0   \n",
       "\n",
       "   Loan_Tenure_Applied  Existing_EMI                        Employer_Name  \\\n",
       "0                  5.0           0.0                              CYBOSOL   \n",
       "1                  2.0           0.0  TATA CONSULTANCY SERVICES LTD (TCS)   \n",
       "2                  4.0           0.0              ALCHEMIST HOSPITALS LTD   \n",
       "3                  5.0           0.0                     BIHAR GOVERNMENT   \n",
       "4                  2.0       25000.0                 GLOBAL EDGE SOFTWARE   \n",
       "\n",
       "        Salary_Account  ... Source  Var4 LoggedIn  Disbursed  Age  \\\n",
       "0            HDFC Bank  ...   S122     1        0          0   43   \n",
       "1           ICICI Bank  ...   S122     3        0          0   35   \n",
       "2  State Bank of India  ...   S143     1        0          0   39   \n",
       "3  State Bank of India  ...   S143     3        0          0   33   \n",
       "4            HDFC Bank  ...   S134     3        1          0   37   \n",
       "\n",
       "   Yrs_Lead_Creation_Date  Age_Creation_Date  Loan_Amount_Applied_cut  \\\n",
       "0                       6                 37                   medium   \n",
       "1                       6                 29                   medium   \n",
       "2                       6                 33                      big   \n",
       "3                       6                 27                      big   \n",
       "4                       6                 31                      big   \n",
       "\n",
       "  Loan_Tenure_Applied_cut Existing_EMI_cut  \n",
       "0                     big            small  \n",
       "1                  medium            small  \n",
       "2                  medium            small  \n",
       "3                     big            small  \n",
       "4                  medium              big  \n",
       "\n",
       "[5 rows x 31 columns]"
      ]
     },
     "execution_count": 86,
     "metadata": {},
     "output_type": "execute_result"
    }
   ],
   "source": [
    "emi_labels = ['small', 'medium', 'big']\n",
    "train_set['Existing_EMI_cut'] = pd.qcut(train_set['Existing_EMI'],\n",
    "                              q=[0, .67, 0.95, 1],\n",
    "                              labels=emi_labels)\n",
    "train_set.head()"
   ]
  },
  {
   "cell_type": "code",
   "execution_count": 87,
   "metadata": {},
   "outputs": [],
   "source": [
    "train_set['Existing_EMI_cut'] = train_set['Existing_EMI_cut'].cat.add_categories('unknown')\n",
    "train_set['Existing_EMI_cut'].fillna(\"unknown\", inplace = True)"
   ]
  },
  {
   "cell_type": "code",
   "execution_count": 88,
   "metadata": {},
   "outputs": [
    {
     "data": {
      "image/png": "[encoded data removed]",
      "text/plain": [
       "<Figure size 1440x576 with 1 Axes>"
      ]
     },
     "metadata": {
      "needs_background": "light"
     },
     "output_type": "display_data"
    }
   ],
   "source": [
    "fig = plt.figure(figsize=(20,8))\n",
    "ax = fig.add_subplot(111)\n",
    "plt.rc('xtick',labelsize=8)\n",
    "sns.countplot(x = \"Existing_EMI_cut\", data = train_set)\n",
    "plt.show()"
   ]
  },
  {
   "cell_type": "code",
   "execution_count": 89,
   "metadata": {},
   "outputs": [
    {
     "data": {
      "text/html": [
       "<div>\n",
       "<style scoped>\n",
       "    .dataframe tbody tr th:only-of-type {\n",
       "        vertical-align: middle;\n",
       "    }\n",
       "\n",
       "    .dataframe tbody tr th {\n",
       "        vertical-align: top;\n",
       "    }\n",
       "\n",
       "    .dataframe thead th {\n",
       "        text-align: right;\n",
       "    }\n",
       "</style>\n",
       "<table border=\"1\" class=\"dataframe\">\n",
       "  <thead>\n",
       "    <tr style=\"text-align: right;\">\n",
       "      <th></th>\n",
       "      <th>ID</th>\n",
       "      <th>Gender</th>\n",
       "      <th>City</th>\n",
       "      <th>Monthly_Income</th>\n",
       "      <th>DOB</th>\n",
       "      <th>Lead_Creation_Date</th>\n",
       "      <th>Loan_Amount_Applied</th>\n",
       "      <th>Loan_Tenure_Applied</th>\n",
       "      <th>Existing_EMI</th>\n",
       "      <th>Employer_Name</th>\n",
       "      <th>...</th>\n",
       "      <th>Device_Type</th>\n",
       "      <th>Var2</th>\n",
       "      <th>Source</th>\n",
       "      <th>Var4</th>\n",
       "      <th>Age</th>\n",
       "      <th>Yrs_Lead_Creation_Date</th>\n",
       "      <th>Age_Creation_Date</th>\n",
       "      <th>Loan_Amount_Applied_cut</th>\n",
       "      <th>Loan_Tenure_Applied_cut</th>\n",
       "      <th>Existing_EMI_cut</th>\n",
       "    </tr>\n",
       "  </thead>\n",
       "  <tbody>\n",
       "    <tr>\n",
       "      <th>0</th>\n",
       "      <td>ID000026A10</td>\n",
       "      <td>Male</td>\n",
       "      <td>0.0</td>\n",
       "      <td>21500</td>\n",
       "      <td>03-Apr-87</td>\n",
       "      <td>05-May-15</td>\n",
       "      <td>100000.0</td>\n",
       "      <td>3.0</td>\n",
       "      <td>0.0</td>\n",
       "      <td>APTARA INC</td>\n",
       "      <td>...</td>\n",
       "      <td>Web-browser</td>\n",
       "      <td>B</td>\n",
       "      <td>S122</td>\n",
       "      <td>3</td>\n",
       "      <td>34</td>\n",
       "      <td>6</td>\n",
       "      <td>28</td>\n",
       "      <td>small</td>\n",
       "      <td>medium</td>\n",
       "      <td>small</td>\n",
       "    </tr>\n",
       "    <tr>\n",
       "      <th>1</th>\n",
       "      <td>ID000054C40</td>\n",
       "      <td>Male</td>\n",
       "      <td>1.0</td>\n",
       "      <td>42000</td>\n",
       "      <td>12-May-80</td>\n",
       "      <td>01-May-15</td>\n",
       "      <td>0.0</td>\n",
       "      <td>0.0</td>\n",
       "      <td>0.0</td>\n",
       "      <td>ATUL LTD</td>\n",
       "      <td>...</td>\n",
       "      <td>Mobile</td>\n",
       "      <td>C</td>\n",
       "      <td>S133</td>\n",
       "      <td>5</td>\n",
       "      <td>41</td>\n",
       "      <td>6</td>\n",
       "      <td>35</td>\n",
       "      <td>small</td>\n",
       "      <td>small</td>\n",
       "      <td>small</td>\n",
       "    </tr>\n",
       "    <tr>\n",
       "      <th>2</th>\n",
       "      <td>ID000066O10</td>\n",
       "      <td>Female</td>\n",
       "      <td>0.0</td>\n",
       "      <td>10000</td>\n",
       "      <td>19-Sep-89</td>\n",
       "      <td>01-May-15</td>\n",
       "      <td>300000.0</td>\n",
       "      <td>2.0</td>\n",
       "      <td>0.0</td>\n",
       "      <td>SHAREKHAN PVT LTD</td>\n",
       "      <td>...</td>\n",
       "      <td>Web-browser</td>\n",
       "      <td>B</td>\n",
       "      <td>S133</td>\n",
       "      <td>1</td>\n",
       "      <td>32</td>\n",
       "      <td>6</td>\n",
       "      <td>26</td>\n",
       "      <td>medium</td>\n",
       "      <td>medium</td>\n",
       "      <td>small</td>\n",
       "    </tr>\n",
       "    <tr>\n",
       "      <th>3</th>\n",
       "      <td>ID000110G00</td>\n",
       "      <td>Female</td>\n",
       "      <td>1.0</td>\n",
       "      <td>14650</td>\n",
       "      <td>15-Aug-91</td>\n",
       "      <td>01-May-15</td>\n",
       "      <td>0.0</td>\n",
       "      <td>0.0</td>\n",
       "      <td>0.0</td>\n",
       "      <td>MAERSK GLOBAL SERVICE CENTRES</td>\n",
       "      <td>...</td>\n",
       "      <td>Mobile</td>\n",
       "      <td>C</td>\n",
       "      <td>S133</td>\n",
       "      <td>1</td>\n",
       "      <td>30</td>\n",
       "      <td>6</td>\n",
       "      <td>24</td>\n",
       "      <td>small</td>\n",
       "      <td>small</td>\n",
       "      <td>small</td>\n",
       "    </tr>\n",
       "    <tr>\n",
       "      <th>4</th>\n",
       "      <td>ID000113J30</td>\n",
       "      <td>Male</td>\n",
       "      <td>1.0</td>\n",
       "      <td>23400</td>\n",
       "      <td>22-Jul-87</td>\n",
       "      <td>01-May-15</td>\n",
       "      <td>100000.0</td>\n",
       "      <td>1.0</td>\n",
       "      <td>5000.0</td>\n",
       "      <td>SCHAWK</td>\n",
       "      <td>...</td>\n",
       "      <td>Web-browser</td>\n",
       "      <td>B</td>\n",
       "      <td>S143</td>\n",
       "      <td>1</td>\n",
       "      <td>34</td>\n",
       "      <td>6</td>\n",
       "      <td>28</td>\n",
       "      <td>small</td>\n",
       "      <td>small</td>\n",
       "      <td>medium</td>\n",
       "    </tr>\n",
       "  </tbody>\n",
       "</table>\n",
       "<p>5 rows × 30 columns</p>\n",
       "</div>"
      ],
      "text/plain": [
       "            ID  Gender  City  Monthly_Income        DOB Lead_Creation_Date  \\\n",
       "0  ID000026A10    Male   0.0           21500  03-Apr-87          05-May-15   \n",
       "1  ID000054C40    Male   1.0           42000  12-May-80          01-May-15   \n",
       "2  ID000066O10  Female   0.0           10000  19-Sep-89          01-May-15   \n",
       "3  ID000110G00  Female   1.0           14650  15-Aug-91          01-May-15   \n",
       "4  ID000113J30    Male   1.0           23400  22-Jul-87          01-May-15   \n",
       "\n",
       "   Loan_Amount_Applied  Loan_Tenure_Applied  Existing_EMI  \\\n",
       "0             100000.0                  3.0           0.0   \n",
       "1                  0.0                  0.0           0.0   \n",
       "2             300000.0                  2.0           0.0   \n",
       "3                  0.0                  0.0           0.0   \n",
       "4             100000.0                  1.0        5000.0   \n",
       "\n",
       "                   Employer_Name  ...  Device_Type Var2  Source Var4  Age  \\\n",
       "0                     APTARA INC  ...  Web-browser    B    S122    3   34   \n",
       "1                       ATUL LTD  ...       Mobile    C    S133    5   41   \n",
       "2              SHAREKHAN PVT LTD  ...  Web-browser    B    S133    1   32   \n",
       "3  MAERSK GLOBAL SERVICE CENTRES  ...       Mobile    C    S133    1   30   \n",
       "4                         SCHAWK  ...  Web-browser    B    S143    1   34   \n",
       "\n",
       "   Yrs_Lead_Creation_Date  Age_Creation_Date  Loan_Amount_Applied_cut  \\\n",
       "0                       6                 28                    small   \n",
       "1                       6                 35                    small   \n",
       "2                       6                 26                   medium   \n",
       "3                       6                 24                    small   \n",
       "4                       6                 28                    small   \n",
       "\n",
       "   Loan_Tenure_Applied_cut Existing_EMI_cut  \n",
       "0                   medium            small  \n",
       "1                    small            small  \n",
       "2                   medium            small  \n",
       "3                    small            small  \n",
       "4                    small           medium  \n",
       "\n",
       "[5 rows x 30 columns]"
      ]
     },
     "execution_count": 89,
     "metadata": {},
     "output_type": "execute_result"
    }
   ],
   "source": [
    "emi_labels = ['small', 'medium', 'big']\n",
    "test_set['Existing_EMI_cut'] = pd.qcut(test_set['Existing_EMI'],\n",
    "                              q=[0, .67, 0.95, 1],\n",
    "                              labels=emi_labels)\n",
    "test_set.head()"
   ]
  },
  {
   "cell_type": "code",
   "execution_count": 90,
   "metadata": {},
   "outputs": [],
   "source": [
    "test_set['Existing_EMI_cut'] = test_set['Existing_EMI_cut'].cat.add_categories('unknown')\n",
    "test_set['Existing_EMI_cut'].fillna(\"unknown\", inplace = True)"
   ]
  },
  {
   "cell_type": "code",
   "execution_count": 91,
   "metadata": {},
   "outputs": [
    {
     "data": {
      "image/png": "[encoded data removed]",
      "text/plain": [
       "<Figure size 1440x576 with 1 Axes>"
      ]
     },
     "metadata": {
      "needs_background": "light"
     },
     "output_type": "display_data"
    }
   ],
   "source": [
    "fig = plt.figure(figsize=(20,8))\n",
    "ax = fig.add_subplot(111)\n",
    "plt.rc('xtick',labelsize=8)\n",
    "sns.countplot(x = \"Existing_EMI_cut\", data = test_set)\n",
    "plt.show()"
   ]
  },
  {
   "cell_type": "code",
   "execution_count": 92,
   "metadata": {},
   "outputs": [],
   "source": [
    "cat_features.append('Existing_EMI_cut')"
   ]
  },
  {
   "cell_type": "markdown",
   "metadata": {},
   "source": [
    "### Employer_Name - Employer Name"
   ]
  },
  {
   "cell_type": "code",
   "execution_count": 93,
   "metadata": {},
   "outputs": [
    {
     "data": {
      "text/plain": [
       "False    86949\n",
       "True        71\n",
       "Name: Employer_Name, dtype: int64"
      ]
     },
     "execution_count": 93,
     "metadata": {},
     "output_type": "execute_result"
    }
   ],
   "source": [
    "pd.isnull(train_set['Employer_Name']).value_counts()"
   ]
  },
  {
   "cell_type": "code",
   "execution_count": 94,
   "metadata": {},
   "outputs": [
    {
     "data": {
      "text/plain": [
       "array(['CYBOSOL', 'TATA CONSULTANCY SERVICES LTD (TCS)',\n",
       "       'ALCHEMIST HOSPITALS LTD', ..., 'UTTAM VALUE STEEL LTD,WARDHA',\n",
       "       'MAYO COLLEGE', 'BANGALORE INSTITUTE OF TECHNOLOGY'], dtype=object)"
      ]
     },
     "execution_count": 94,
     "metadata": {},
     "output_type": "execute_result"
    }
   ],
   "source": [
    "train_set['Employer_Name'].unique()"
   ]
  },
  {
   "cell_type": "code",
   "execution_count": 95,
   "metadata": {},
   "outputs": [
    {
     "data": {
      "text/plain": [
       "4914"
      ]
     },
     "execution_count": 95,
     "metadata": {},
     "output_type": "execute_result"
    }
   ],
   "source": [
    "(train_set['Employer_Name'] == '0').sum()"
   ]
  },
  {
   "cell_type": "code",
   "execution_count": 96,
   "metadata": {},
   "outputs": [
    {
     "data": {
      "text/plain": [
       "0                                               4914\n",
       "TATA CONSULTANCY SERVICES LTD (TCS)              550\n",
       "COGNIZANT TECHNOLOGY SOLUTIONS INDIA PVT LTD     404\n",
       "ACCENTURE SERVICES PVT LTD                       324\n",
       "GOOGLE                                           301\n",
       "                                                ... \n",
       "PAYAL JAIN INDUSTRY                                1\n",
       "ROADMATICS                                         1\n",
       "MULTI LEVEL MARKRTING                              1\n",
       "SONALI ANANT TAMHANKAR                             1\n",
       "MVR INFRASTRUCTURE AND TOLLWAYS PVT                1\n",
       "Name: Employer_Name, Length: 43567, dtype: int64"
      ]
     },
     "execution_count": 96,
     "metadata": {},
     "output_type": "execute_result"
    }
   ],
   "source": [
    "train_set['Employer_Name'].value_counts()"
   ]
  },
  {
   "cell_type": "markdown",
   "metadata": {},
   "source": [
    "##### There is missing values in Employer Name set as '0', I'll change it to others"
   ]
  },
  {
   "cell_type": "code",
   "execution_count": 97,
   "metadata": {},
   "outputs": [],
   "source": [
    "train_set['Employer_Name'].replace('0','Other', inplace = True)"
   ]
  },
  {
   "cell_type": "code",
   "execution_count": 98,
   "metadata": {},
   "outputs": [
    {
     "data": {
      "text/plain": [
       "43566"
      ]
     },
     "execution_count": 98,
     "metadata": {},
     "output_type": "execute_result"
    }
   ],
   "source": [
    "len(train_set['Employer_Name'].value_counts())"
   ]
  },
  {
   "cell_type": "code",
   "execution_count": 99,
   "metadata": {},
   "outputs": [
    {
     "name": "stdout",
     "output_type": "stream",
     "text": [
      "Other                                           4925\n",
      "TATA CONSULTANCY SERVICES LTD (TCS)              550\n",
      "COGNIZANT TECHNOLOGY SOLUTIONS INDIA PVT LTD     404\n",
      "ACCENTURE SERVICES PVT LTD                       324\n",
      "GOOGLE                                           301\n",
      "HCL TECHNOLOGIES LTD                             250\n",
      "ICICI BANK LTD                                   239\n",
      "INDIAN AIR FORCE                                 191\n",
      "INFOSYS TECHNOLOGIES                             181\n",
      "GENPACT                                          179\n",
      "IBM CORPORATION                                  173\n",
      "INDIAN ARMY                                      171\n",
      "TYPE SLOWLY FOR AUTO FILL                        162\n",
      "WIPRO TECHNOLOGIES                               155\n",
      "HDFC BANK LTD                                    148\n",
      "IKYA HUMAN CAPITAL SOLUTIONS LTD                 142\n",
      "STATE GOVERNMENT                                 134\n",
      "INDIAN RAILWAY                                   130\n",
      "INDIAN NAVY                                      128\n",
      "ARMY                                             126\n",
      "Name: Employer_Name, dtype: int64\n"
     ]
    }
   ],
   "source": [
    "print(train_set.Employer_Name.value_counts()[0:20])"
   ]
  },
  {
   "cell_type": "code",
   "execution_count": 100,
   "metadata": {},
   "outputs": [],
   "source": [
    "a = train_set.Employer_Name.value_counts()[1:100].index.tolist()\n",
    "train_set['Employer_Name'].replace(a,'huge', inplace = True)"
   ]
  },
  {
   "cell_type": "code",
   "execution_count": 101,
   "metadata": {},
   "outputs": [],
   "source": [
    "b = train_set.Employer_Name.value_counts()[2:200].index.tolist()\n",
    "train_set['Employer_Name'].replace(b,'big', inplace = True)"
   ]
  },
  {
   "cell_type": "code",
   "execution_count": null,
   "metadata": {},
   "outputs": [],
   "source": [
    "c = train_set.Employer_Name.value_counts()[3:].index.tolist()\n",
    "train_set['Employer_Name'].replace(c,'small', inplace = True)"
   ]
  },
  {
   "cell_type": "code",
   "execution_count": null,
   "metadata": {},
   "outputs": [],
   "source": [
    "train_set['Employer_Name'].value_counts()"
   ]
  },
  {
   "cell_type": "code",
   "execution_count": null,
   "metadata": {},
   "outputs": [],
   "source": [
    "cat_features.append('Employer_Name')"
   ]
  },
  {
   "cell_type": "code",
   "execution_count": null,
   "metadata": {},
   "outputs": [],
   "source": [
    "test_set['Employer_Name'].replace('0','Other', inplace = True)"
   ]
  },
  {
   "cell_type": "code",
   "execution_count": null,
   "metadata": {},
   "outputs": [],
   "source": [
    "a = test_set.Employer_Name.value_counts()[1:100].index.tolist()\n",
    "test_set['Employer_Name'].replace(a,'huge', inplace = True)\n",
    "b = test_set.Employer_Name.value_counts()[2:200].index.tolist()\n",
    "test_set['Employer_Name'].replace(b,'big', inplace = True)\n",
    "c = test_set.Employer_Name.value_counts()[3:].index.tolist()\n",
    "test_set['Employer_Name'].replace(c,'small', inplace = True)"
   ]
  },
  {
   "cell_type": "code",
   "execution_count": null,
   "metadata": {},
   "outputs": [],
   "source": [
    "test_set['Employer_Name'].value_counts()"
   ]
  },
  {
   "cell_type": "markdown",
   "metadata": {},
   "source": [
    "### Salary_Account- Salary account with Bank"
   ]
  },
  {
   "cell_type": "code",
   "execution_count": null,
   "metadata": {},
   "outputs": [],
   "source": [
    "pd.isnull(train_set['Salary_Account']).value_counts()"
   ]
  },
  {
   "cell_type": "code",
   "execution_count": null,
   "metadata": {},
   "outputs": [],
   "source": [
    "train_set['Salary_Account'].fillna('Other', inplace = True)\n",
    "train_set['Salary_Account'].value_counts()"
   ]
  },
  {
   "cell_type": "code",
   "execution_count": null,
   "metadata": {},
   "outputs": [],
   "source": [
    "under_top_20_unique_Salary_Account = train_set.Salary_Account.value_counts()[20:].index.tolist()\n",
    "train_set['Salary_Account'].replace(under_top_20_unique_Salary_Account,'Other', inplace = True)\n",
    "test_set['Salary_Account'].replace(under_top_20_unique_Salary_Account,'Other', inplace = True)\n",
    "train_set['Salary_Account'].value_counts()"
   ]
  },
  {
   "cell_type": "code",
   "execution_count": null,
   "metadata": {},
   "outputs": [],
   "source": [
    "b = train_set.Salary_Account.value_counts()[5:11].index.tolist()\n",
    "train_set['Salary_Account'].replace(a,'medium', inplace = True)"
   ]
  },
  {
   "cell_type": "code",
   "execution_count": null,
   "metadata": {},
   "outputs": [],
   "source": [
    "b = test_set.Salary_Account.value_counts()[5:11].index.tolist()\n",
    "test_set['Salary_Account'].replace(a,'medium', inplace = True)"
   ]
  },
  {
   "cell_type": "code",
   "execution_count": null,
   "metadata": {},
   "outputs": [],
   "source": [
    "train_set['Salary_Account'].value_counts()"
   ]
  },
  {
   "cell_type": "code",
   "execution_count": null,
   "metadata": {},
   "outputs": [],
   "source": [
    "a = train_set.Salary_Account.value_counts()[5:].index.tolist()\n",
    "train_set['Salary_Account'].replace(a,'small', inplace = True)"
   ]
  },
  {
   "cell_type": "code",
   "execution_count": null,
   "metadata": {},
   "outputs": [],
   "source": [
    "a = test_set.Salary_Account.value_counts()[5:].index.tolist()\n",
    "test_set['Salary_Account'].replace(a,'small', inplace = True)"
   ]
  },
  {
   "cell_type": "code",
   "execution_count": null,
   "metadata": {},
   "outputs": [],
   "source": [
    "cat_features.append('Salary_Account')"
   ]
  },
  {
   "cell_type": "code",
   "execution_count": null,
   "metadata": {},
   "outputs": [],
   "source": [
    "train_set['Salary_Account'].value_counts()"
   ]
  },
  {
   "cell_type": "markdown",
   "metadata": {},
   "source": [
    "### Mobile_Verified - Mobile Verified (Y/N)"
   ]
  },
  {
   "cell_type": "code",
   "execution_count": null,
   "metadata": {},
   "outputs": [],
   "source": [
    "pd.isnull(train_set['Mobile_Verified']).value_counts()"
   ]
  },
  {
   "cell_type": "code",
   "execution_count": null,
   "metadata": {},
   "outputs": [],
   "source": [
    "train_set['Mobile_Verified'].value_counts()"
   ]
  },
  {
   "cell_type": "code",
   "execution_count": null,
   "metadata": {},
   "outputs": [],
   "source": [
    "cat_features.append('Mobile_Verified')"
   ]
  },
  {
   "cell_type": "markdown",
   "metadata": {},
   "source": [
    "### Var5- Continuous classified variable"
   ]
  },
  {
   "cell_type": "code",
   "execution_count": null,
   "metadata": {},
   "outputs": [],
   "source": [
    "pd.isnull(train_set['Var5']).value_counts()"
   ]
  },
  {
   "cell_type": "code",
   "execution_count": null,
   "metadata": {},
   "outputs": [],
   "source": [
    "train_set['Var5'].value_counts()"
   ]
  },
  {
   "cell_type": "code",
   "execution_count": null,
   "metadata": {},
   "outputs": [],
   "source": [
    "fig = plt.figure(figsize=(20,8))\n",
    "ax = fig.add_subplot(111)\n",
    "plt.rc('xtick',labelsize=8)\n",
    "sns.countplot(x = \"Var5\", data = train_set, hue=\"Disbursed\")\n",
    "plt.show()"
   ]
  },
  {
   "cell_type": "code",
   "execution_count": null,
   "metadata": {},
   "outputs": [],
   "source": [
    "fig = plt.figure(figsize=(20,8))\n",
    "ax = fig.add_subplot(111)\n",
    "plt.rc('xtick',labelsize=8)\n",
    "sns.countplot(x = \"Var5\", data = test_set)\n",
    "plt.show()"
   ]
  },
  {
   "cell_type": "markdown",
   "metadata": {},
   "source": [
    "#### It doesn't seem to be numerical variable"
   ]
  },
  {
   "cell_type": "code",
   "execution_count": null,
   "metadata": {},
   "outputs": [],
   "source": [
    "top_2_unique_Salary_Account = train_set.Var5.value_counts()[:2].index.tolist()\n",
    "print(top_2_unique_Salary_Account)"
   ]
  },
  {
   "cell_type": "code",
   "execution_count": null,
   "metadata": {},
   "outputs": [],
   "source": [
    "under_2_unique_Salary_Account = train_set.Var5.value_counts()[2:].index.tolist()\n",
    "print(under_2_unique_Salary_Account)"
   ]
  },
  {
   "cell_type": "code",
   "execution_count": null,
   "metadata": {},
   "outputs": [],
   "source": [
    "train_set['Var5'].replace(top_2_unique_Salary_Account, 0, inplace = True)\n",
    "train_set['Var5'].replace(under_2_unique_Salary_Account, 1, inplace = True)\n",
    "test_set['Var5'].replace(top_2_unique_Salary_Account, 0, inplace = True)\n",
    "test_set['Var5'].replace(under_2_unique_Salary_Account, 1, inplace = True)\n",
    "train_set['Var5'].value_counts()"
   ]
  },
  {
   "cell_type": "code",
   "execution_count": null,
   "metadata": {},
   "outputs": [],
   "source": [
    "cat_features.append('Var5')"
   ]
  },
  {
   "cell_type": "markdown",
   "metadata": {},
   "source": [
    "### Var1- Categorical variable with multiple levels"
   ]
  },
  {
   "cell_type": "code",
   "execution_count": null,
   "metadata": {},
   "outputs": [],
   "source": [
    "pd.isnull(train_set['Var1']).value_counts()"
   ]
  },
  {
   "cell_type": "code",
   "execution_count": null,
   "metadata": {},
   "outputs": [],
   "source": [
    "train_set['Var1'].value_counts()"
   ]
  },
  {
   "cell_type": "code",
   "execution_count": null,
   "metadata": {},
   "outputs": [],
   "source": [
    "train_set['Var1'] = train_set['Var1'].str[:2]\n",
    "train_set['Var1'].value_counts()"
   ]
  },
  {
   "cell_type": "code",
   "execution_count": null,
   "metadata": {},
   "outputs": [],
   "source": [
    "cat_features.append('Var1')"
   ]
  },
  {
   "cell_type": "markdown",
   "metadata": {},
   "source": [
    "### Loan_Amount_Submitted- Loan Amount Revised and Selected after seeing Eligibility"
   ]
  },
  {
   "cell_type": "code",
   "execution_count": null,
   "metadata": {},
   "outputs": [],
   "source": [
    "pd.isnull(train_set['Loan_Amount_Submitted']).value_counts()"
   ]
  },
  {
   "cell_type": "code",
   "execution_count": null,
   "metadata": {},
   "outputs": [],
   "source": [
    "fig = plt.figure(figsize=(20,8))\n",
    "ax = fig.add_subplot(111)\n",
    "plt.rc('xtick',labelsize=8)\n",
    "sns.countplot(x = \"Loan_Amount_Submitted\", data = train_set, hue=\"Disbursed\")\n",
    "plt.show()"
   ]
  },
  {
   "cell_type": "code",
   "execution_count": null,
   "metadata": {},
   "outputs": [],
   "source": [
    "train_set['Loan_Amount_Submitted'].value_counts()"
   ]
  },
  {
   "cell_type": "code",
   "execution_count": null,
   "metadata": {},
   "outputs": [],
   "source": [
    "train_set['Loan_Amount_Submitted'].describe()"
   ]
  },
  {
   "cell_type": "code",
   "execution_count": null,
   "metadata": {},
   "outputs": [],
   "source": [
    "train_set['Loan_Amount_Submitted'].quantile([0, .5, .75, 0.95,1])"
   ]
  },
  {
   "cell_type": "code",
   "execution_count": null,
   "metadata": {},
   "outputs": [],
   "source": [
    "Loan_Amount_Submitted_labels = ['small', 'medium', 'big', 'huge']\n",
    "train_set['Loan_Amount_Submitted_cut'] = pd.qcut(train_set['Loan_Amount_Submitted'],\n",
    "                              q=[0, .25, .5, 0.75,1],\n",
    "                              labels=Loan_Amount_Submitted_labels)\n",
    "train_set.head()"
   ]
  },
  {
   "cell_type": "code",
   "execution_count": null,
   "metadata": {},
   "outputs": [],
   "source": [
    "fig = plt.figure(figsize=(20,8))\n",
    "ax = fig.add_subplot(111)\n",
    "plt.rc('xtick',labelsize=8)\n",
    "sns.countplot(x = \"Loan_Amount_Submitted_cut\", data = train_set)\n",
    "plt.show()"
   ]
  },
  {
   "cell_type": "code",
   "execution_count": null,
   "metadata": {},
   "outputs": [],
   "source": [
    "train_set['Loan_Amount_Submitted_cut'] = train_set['Loan_Amount_Submitted_cut'].cat.add_categories('Other')\n",
    "# fill missing values with mean column values\n",
    "train_set['Loan_Amount_Submitted_cut'].fillna(\"Other\", inplace=True)"
   ]
  },
  {
   "cell_type": "code",
   "execution_count": null,
   "metadata": {},
   "outputs": [],
   "source": [
    "cat_features.append('Loan_Amount_Submitted_cut')"
   ]
  },
  {
   "cell_type": "code",
   "execution_count": null,
   "metadata": {},
   "outputs": [],
   "source": [
    "Loan_Amount_Submitted_labels = ['small', 'medium', 'big', 'huge']\n",
    "test_set['Loan_Amount_Submitted_cut'] = pd.qcut(test_set['Loan_Amount_Submitted'],\n",
    "                              q=[0, .25, .5, 0.75,1],\n",
    "                              labels=Loan_Amount_Submitted_labels)\n",
    "fig = plt.figure(figsize=(20,8))\n",
    "ax = fig.add_subplot(111)\n",
    "plt.rc('xtick',labelsize=8)\n",
    "sns.countplot(x = \"Loan_Amount_Submitted_cut\", data = test_set)\n",
    "plt.show()"
   ]
  },
  {
   "cell_type": "code",
   "execution_count": null,
   "metadata": {},
   "outputs": [],
   "source": [
    "test_set['Loan_Amount_Submitted_cut'] = test_set['Loan_Amount_Submitted_cut'].cat.add_categories('Other')\n",
    "# fill missing values with mean column values\n",
    "test_set['Loan_Amount_Submitted_cut'].fillna(\"Other\", inplace=True)"
   ]
  },
  {
   "cell_type": "markdown",
   "metadata": {},
   "source": [
    "### Loan_Tenure_Submitted- Loan Tenure Revised and Selected after seeing Eligibility (Years)"
   ]
  },
  {
   "cell_type": "code",
   "execution_count": null,
   "metadata": {},
   "outputs": [],
   "source": [
    "fig = plt.figure(figsize=(20,8))\n",
    "ax = fig.add_subplot(111)\n",
    "plt.rc('xtick',labelsize=8)\n",
    "sns.countplot(x = \"Loan_Tenure_Submitted\", data = train_set, hue=\"Disbursed\")\n",
    "plt.show()"
   ]
  },
  {
   "cell_type": "code",
   "execution_count": null,
   "metadata": {},
   "outputs": [],
   "source": [
    "pd.isnull(train_set['Loan_Tenure_Submitted']).value_counts()"
   ]
  },
  {
   "cell_type": "code",
   "execution_count": null,
   "metadata": {},
   "outputs": [],
   "source": [
    "train_set['Loan_Tenure_Submitted'].value_counts()"
   ]
  },
  {
   "cell_type": "code",
   "execution_count": null,
   "metadata": {},
   "outputs": [],
   "source": [
    "# fill missing values \n",
    "train_set['Loan_Tenure_Submitted'].fillna(\"Other\", inplace=True)\n",
    "test_set['Loan_Tenure_Submitted'].fillna(\"Other\", inplace=True)"
   ]
  },
  {
   "cell_type": "code",
   "execution_count": null,
   "metadata": {},
   "outputs": [],
   "source": [
    "cat_features.append('Loan_Tenure_Submitted')"
   ]
  },
  {
   "cell_type": "markdown",
   "metadata": {},
   "source": [
    "### Interest_Rate- Interest Rate of Submitted Loan Amount"
   ]
  },
  {
   "cell_type": "code",
   "execution_count": null,
   "metadata": {},
   "outputs": [],
   "source": [
    "pd.isnull(train_set['Interest_Rate']).value_counts()"
   ]
  },
  {
   "cell_type": "code",
   "execution_count": null,
   "metadata": {},
   "outputs": [],
   "source": [
    "print(\"Interest_Rate- Interest Rate of Submitted Loan Amount :\", np.round(train_set['Interest_Rate'].mean(),0))\n",
    "sns.kdeplot(data=train_set['Interest_Rate'], shade=True)\n",
    "plt.title(\"Interest_Rate- Interest Rate of Submitted Loan Amount\")\n",
    "plt.ylabel('Quantity')\n",
    "plt.xlabel('Interest_Rate')"
   ]
  },
  {
   "cell_type": "code",
   "execution_count": null,
   "metadata": {},
   "outputs": [],
   "source": [
    "# fill missing values with mean column values\n",
    "train_set['Interest_Rate'].fillna(train_set['Interest_Rate'].mean(), inplace=True)\n",
    "test_set['Interest_Rate'].fillna(train_set['Interest_Rate'].mean(), inplace=True)"
   ]
  },
  {
   "cell_type": "code",
   "execution_count": null,
   "metadata": {},
   "outputs": [],
   "source": [
    "num_features.append('Interest_Rate')"
   ]
  },
  {
   "cell_type": "markdown",
   "metadata": {},
   "source": [
    "### Processing_Fee- Processing Fee of Submitted Loan Amount (INR)"
   ]
  },
  {
   "cell_type": "code",
   "execution_count": null,
   "metadata": {},
   "outputs": [],
   "source": [
    "pd.isnull(train_set['Processing_Fee']).value_counts()"
   ]
  },
  {
   "cell_type": "code",
   "execution_count": null,
   "metadata": {},
   "outputs": [],
   "source": [
    "print(\"Processing_Fee- Processing Fee of Submitted Loan Amount (INR):\", np.round(train_set['Processing_Fee'].mean(),0))\n",
    "sns.kdeplot(data=train_set['Processing_Fee'], shade=True)\n",
    "plt.title(\"Processing_Fee- Processing Fee of Submitted Loan Amount (INR)\")\n",
    "plt.ylabel('Quantity')\n",
    "plt.xlabel('Processing_Fee')"
   ]
  },
  {
   "cell_type": "code",
   "execution_count": null,
   "metadata": {},
   "outputs": [],
   "source": [
    "# fill missing values with mean column values\n",
    "train_set['Processing_Fee'].fillna(train_set['Processing_Fee'].mean(), inplace=True)\n",
    "test_set['Processing_Fee'].fillna(train_set['Processing_Fee'].mean(), inplace=True)"
   ]
  },
  {
   "cell_type": "code",
   "execution_count": null,
   "metadata": {},
   "outputs": [],
   "source": [
    "num_features.append('Processing_Fee')"
   ]
  },
  {
   "cell_type": "markdown",
   "metadata": {},
   "source": [
    "### EMI_Loan_Submitted- EMI of Submitted Loan Amount (INR)"
   ]
  },
  {
   "cell_type": "code",
   "execution_count": null,
   "metadata": {},
   "outputs": [],
   "source": [
    "pd.isnull(train_set['EMI_Loan_Submitted']).value_counts()"
   ]
  },
  {
   "cell_type": "code",
   "execution_count": null,
   "metadata": {},
   "outputs": [],
   "source": [
    "print(\"EMI_Loan_Submitted- EMI of Submitted Loan Amount (INR):\", np.round(train_set['EMI_Loan_Submitted'].mean(),0))\n",
    "sns.kdeplot(data=train_set['EMI_Loan_Submitted'], shade=True)\n",
    "plt.title(\"EMI_Loan_Submitted- EMI of Submitted Loan Amount (INR)\")\n",
    "plt.ylabel('Quantity')\n",
    "plt.xlabel('EMI_Loan_Submitted')"
   ]
  },
  {
   "cell_type": "code",
   "execution_count": null,
   "metadata": {},
   "outputs": [],
   "source": [
    "# fill missing values with mean column values\n",
    "train_set['EMI_Loan_Submitted'].fillna(train_set['EMI_Loan_Submitted'].mean(), inplace=True)\n",
    "test_set['EMI_Loan_Submitted'].fillna(test_set['EMI_Loan_Submitted'].mean(), inplace=True)"
   ]
  },
  {
   "cell_type": "code",
   "execution_count": null,
   "metadata": {},
   "outputs": [],
   "source": [
    "num_features.append('EMI_Loan_Submitted')"
   ]
  },
  {
   "cell_type": "markdown",
   "metadata": {},
   "source": [
    "### Filled_Form- Filled Application form post quote"
   ]
  },
  {
   "cell_type": "markdown",
   "metadata": {},
   "source": [
    "##### Filled Form of applying seems to be meaningless variable to the prediction:"
   ]
  },
  {
   "cell_type": "code",
   "execution_count": null,
   "metadata": {},
   "outputs": [],
   "source": [
    "train_set = train_set.drop(['Filled_Form'], axis=1)"
   ]
  },
  {
   "cell_type": "markdown",
   "metadata": {},
   "source": [
    "### Device_Type- Device from which application was made (Browser/ Mobile)"
   ]
  },
  {
   "cell_type": "markdown",
   "metadata": {},
   "source": [
    "##### Device from someone was applying seems to be meaningless variable to the prediction:"
   ]
  },
  {
   "cell_type": "code",
   "execution_count": null,
   "metadata": {},
   "outputs": [],
   "source": [
    "train_set = train_set.drop(['Device_Type'], axis=1)"
   ]
  },
  {
   "cell_type": "markdown",
   "metadata": {},
   "source": [
    "### Var2- Categorical Variable with multiple Levels"
   ]
  },
  {
   "cell_type": "code",
   "execution_count": null,
   "metadata": {},
   "outputs": [],
   "source": [
    "pd.isnull(train_set['Var2']).value_counts()"
   ]
  },
  {
   "cell_type": "code",
   "execution_count": null,
   "metadata": {},
   "outputs": [],
   "source": [
    "train_set['Var2'].value_counts()"
   ]
  },
  {
   "cell_type": "code",
   "execution_count": null,
   "metadata": {},
   "outputs": [],
   "source": [
    "cat_features.append('Var2')"
   ]
  },
  {
   "cell_type": "markdown",
   "metadata": {},
   "source": [
    "### Source- Categorical Variable with multiple Levels"
   ]
  },
  {
   "cell_type": "code",
   "execution_count": null,
   "metadata": {},
   "outputs": [],
   "source": [
    "pd.isnull(train_set['Source']).value_counts()"
   ]
  },
  {
   "cell_type": "code",
   "execution_count": null,
   "metadata": {},
   "outputs": [],
   "source": [
    "train_set['Source'].value_counts()"
   ]
  },
  {
   "cell_type": "code",
   "execution_count": null,
   "metadata": {},
   "outputs": [],
   "source": [
    "train_set['Source'].str[2:]"
   ]
  },
  {
   "cell_type": "code",
   "execution_count": null,
   "metadata": {},
   "outputs": [],
   "source": [
    "sns.kdeplot(data=train_set['Source'].str[2:], shade=True)"
   ]
  },
  {
   "cell_type": "code",
   "execution_count": null,
   "metadata": {},
   "outputs": [],
   "source": [
    "train_set['Source'] = train_set['Source'].str[2:3]\n",
    "test_set['Source'] = test_set['Source'].str[2:3]"
   ]
  },
  {
   "cell_type": "code",
   "execution_count": null,
   "metadata": {},
   "outputs": [],
   "source": [
    "fig = plt.figure(figsize=(20,8))\n",
    "ax = fig.add_subplot(111)\n",
    "plt.rc('xtick',labelsize=8)\n",
    "sns.countplot(x = \"Source\", data = train_set, hue=\"Disbursed\")\n",
    "plt.show()"
   ]
  },
  {
   "cell_type": "code",
   "execution_count": null,
   "metadata": {},
   "outputs": [],
   "source": [
    "cat_features.append('Source')"
   ]
  },
  {
   "cell_type": "markdown",
   "metadata": {},
   "source": [
    "### Var4- Categorical Variable with multiple Levels"
   ]
  },
  {
   "cell_type": "code",
   "execution_count": null,
   "metadata": {},
   "outputs": [],
   "source": [
    "train_set['Var4'].value_counts()"
   ]
  },
  {
   "cell_type": "code",
   "execution_count": null,
   "metadata": {},
   "outputs": [],
   "source": [
    "cat_features.append('Var4')"
   ]
  },
  {
   "cell_type": "markdown",
   "metadata": {},
   "source": [
    "### LoggedIn- Application Logged (Variable for understanding the problem – cannot be used in prediction)"
   ]
  },
  {
   "cell_type": "code",
   "execution_count": null,
   "metadata": {},
   "outputs": [],
   "source": [
    "train_set['LoggedIn'].value_counts()"
   ]
  },
  {
   "cell_type": "markdown",
   "metadata": {},
   "source": [
    "### Disbursed- Loan Disbursed (Target Variable)"
   ]
  },
  {
   "cell_type": "code",
   "execution_count": null,
   "metadata": {},
   "outputs": [],
   "source": [
    "train_set['Disbursed'].value_counts()"
   ]
  },
  {
   "cell_type": "code",
   "execution_count": null,
   "metadata": {},
   "outputs": [],
   "source": [
    "train_set.isnull().sum()"
   ]
  },
  {
   "cell_type": "code",
   "execution_count": null,
   "metadata": {},
   "outputs": [],
   "source": [
    "plt.subplots(figsize=(20, 10))\n",
    "sns.heatmap(train_set.corr(),  annot=True, fmt='.1f', center=0)\n",
    "plt.show()"
   ]
  },
  {
   "cell_type": "markdown",
   "metadata": {},
   "source": [
    "#### There is plenty of zero correlated cathegories, but I won't drop it "
   ]
  },
  {
   "cell_type": "code",
   "execution_count": null,
   "metadata": {},
   "outputs": [],
   "source": [
    "class OneHotEncoder(SklearnOneHotEncoder):\n",
    "    def __init__(self, **kwargs):\n",
    "        super(OneHotEncoder, self).__init__(**kwargs)\n",
    "        self.fit_flag = False\n",
    "\n",
    "    def fit(self, X, **kwargs):\n",
    "        out = super().fit(X)\n",
    "        self.fit_flag = True\n",
    "        return out\n",
    "\n",
    "    def transform(self, X, **kwargs):\n",
    "        sparse_matrix = super(OneHotEncoder, self).transform(X)\n",
    "        new_columns = self.get_new_columns(X = X)\n",
    "        d_out = pd.DataFrame(sparse_matrix.toarray(), columns = new_columns, index = X.index)\n",
    "        return d_out\n",
    "\n",
    "    def fit_transform(self, X, **kwargs):\n",
    "        self.fit(X)\n",
    "        return self.transform(X)\n",
    "\n",
    "    def get_new_columns(self, X):\n",
    "        new_columns = []\n",
    "        for i, column in enumerate(X.columns):\n",
    "            j = 0\n",
    "            while j < len(self.categories_[i]):\n",
    "                new_columns.append(f'{column}_{self.categories_[i][j]}')\n",
    "                j += 1\n",
    "        return new_columns"
   ]
  },
  {
   "cell_type": "code",
   "execution_count": null,
   "metadata": {},
   "outputs": [],
   "source": [
    "encoder = OneHotEncoder()\n",
    "encoder_cols = encoder.fit_transform(train_set[cat_features].astype(str))"
   ]
  },
  {
   "cell_type": "code",
   "execution_count": null,
   "metadata": {},
   "outputs": [],
   "source": [
    "# Add one-hot encoded columns to numerical features and target column\n",
    "train_set = pd.concat([pd.concat([train_set[num_features], encoder_cols], axis=1), train_set[target]], axis=1)"
   ]
  },
  {
   "cell_type": "code",
   "execution_count": null,
   "metadata": {},
   "outputs": [],
   "source": [
    "train_set.head(3)"
   ]
  },
  {
   "cell_type": "code",
   "execution_count": null,
   "metadata": {},
   "outputs": [],
   "source": [
    "features = train_set.columns.tolist()\n",
    "features.remove(target)\n",
    "X = train_set[features]\n",
    "y = train_set[target]"
   ]
  },
  {
   "cell_type": "code",
   "execution_count": null,
   "metadata": {},
   "outputs": [],
   "source": [
    "num_features"
   ]
  },
  {
   "cell_type": "code",
   "execution_count": null,
   "metadata": {},
   "outputs": [],
   "source": [
    "def ConfusionMatrix(classifier, X=X, y=y, confusionMatrix = True, plotConfusionMatrix = True):\n",
    "        '''ConfusionMatrix function split data, fit data to model and give \n",
    "        a prediction for a given model and data. After that draw Confusion Matrix or \n",
    "        Plot Confusion Matrix to show the score'''\n",
    "        \n",
    "        #split dataset into train and test data\n",
    "        X_train, X_test, y_train, y_test = train_test_split(X, y, test_size=0.2, random_state=1, \n",
    "                                                            stratify=y)\n",
    "\n",
    "        # Fit the classifier to the data\n",
    "        classifier.fit(X_train, y_train)\n",
    "        y_pred = classifier.predict(X_test)\n",
    "\n",
    "        #computing the confusion matrix with each row corresponding to the true class\n",
    "        if(confusionMatrix):\n",
    "            print(confusion_matrix(y_test, y_pred))\n",
    "\n",
    "        #drawing Plot Confusion Matrix\n",
    "        if(plotConfusionMatrix):\n",
    "            plot_confusion_matrix(classifier, X_test, y_test)  \n",
    "            plt.show()"
   ]
  },
  {
   "cell_type": "code",
   "execution_count": null,
   "metadata": {},
   "outputs": [],
   "source": [
    "def GridSearch(param, estimator, X=X, y=y):\n",
    "    # split into a training and testing set\n",
    "    X_train, X_test, y_train, y_test = train_test_split(X, y, random_state=0)\n",
    "\n",
    "    grid_rf = GridSearchCV(estimator, param, refit = True, verbose = 3, n_jobs=-1) \n",
    "\n",
    "    # fitting the model for grid search \n",
    "    grid_rf.fit(X_train, y_train) \n",
    "\n",
    "    # print best parameter after tuning \n",
    "    print(grid_rf.best_params_) \n",
    "    grid_rf_predictions = grid_rf.predict(X_test) \n",
    "\n",
    "    # print classification report \n",
    "    print(classification_report(y_test, grid_rf_predictions))"
   ]
  },
  {
   "cell_type": "code",
   "execution_count": null,
   "metadata": {},
   "outputs": [],
   "source": [
    "def CVmodel(nFolds = 5, randomState=2020, features=features, lin_reg = False, lin_reg_without_fi = False,\n",
    "            cutoff=0.5, debug= False, model = SVC(), df = train_set, pipeline = False):\n",
    "    \n",
    "    kf = KFold(n_splits=nFolds, shuffle=True, random_state=randomState)\n",
    "    \n",
    "    # predictions for individual folds\n",
    "    predictions = []\n",
    "\n",
    "    # the index in the original file\n",
    "    indices = []\n",
    "    true=[]\n",
    "    \n",
    "    if lin_reg:\n",
    "        for train, test in kf.split(df.index.values):\n",
    "            if debug:\n",
    "                print(model)\n",
    "            model.fit(df.iloc[train][features], df.iloc[train][target])\n",
    "\n",
    "            # predsTrain = model.predict_proba(df.iloc[train][features])[:,1]\n",
    "            # preds = model.predict_proba(df.iloc[test][features])[:,1]\n",
    "            preds, y_test = model.predict(df.iloc[test][features], round(cutoff,1))\n",
    "            \n",
    "            # information about predictions for this fold\n",
    "            predictions.append(preds.tolist().copy())\n",
    "            # indexed in the original data frame\n",
    "            indices.append(df.iloc[test].index.tolist().copy())\n",
    "            \n",
    "            true = (df.iloc[test][target]==1)\n",
    "            if(lin_reg_without_fi == False):\n",
    "                feature_importance = model.coef_\n",
    "        if(lin_reg_without_fi):\n",
    "            return predictions, indices, true\n",
    "            \n",
    "        return predictions, indices, feature_importance, true\n",
    "        \n",
    "        \n",
    "    if(pipeline):\n",
    "        for train, test in kf.split(df.index.values):\n",
    "            if debug:\n",
    "                print(model)\n",
    "            model.fit(df.iloc[train][features], df.iloc[train][target])\n",
    "\n",
    "            # predsTrain = model.predict_proba(df.iloc[train][features])[:,1]\n",
    "            preds = model.predict_proba(df.iloc[test][features])[:,1]\n",
    "\n",
    "            # information about predictions for this fold\n",
    "            predictions.append(preds.tolist().copy())\n",
    "\n",
    "            # indexed in the original data frame\n",
    "            indices.append(df.iloc[test].index.tolist().copy())\n",
    "        \n",
    "        return predictions, indices, true\n",
    "        \n",
    "    for train, test in kf.split(df.index.values):\n",
    "        if debug:\n",
    "            print(model)\n",
    "        model.fit(df.iloc[train][features], df.iloc[train][target])\n",
    "\n",
    "        # predsTrain = model.predict_proba(df.iloc[train][features])[:,1]\n",
    "        preds = model.predict_proba(df.iloc[test][features])[:,1]\n",
    "\n",
    "        # information about predictions for this fold\n",
    "        predictions.append(preds.tolist().copy())\n",
    "\n",
    "        # indexed in the original data frame\n",
    "        indices.append(df.iloc[test].index.tolist().copy())\n",
    "\n",
    "        true.append(df.iloc[test][target]==1)\n",
    "\n",
    "        feature_importance = model.feature_importances_\n",
    "        \n",
    "    return predictions, indices, feature_importance, true"
   ]
  },
  {
   "cell_type": "code",
   "execution_count": null,
   "metadata": {},
   "outputs": [],
   "source": [
    "#split dataset into train and test data\n",
    "X_train, X_test, y_train, y_test = train_test_split(X, y, test_size=0.2, random_state=1)"
   ]
  },
  {
   "cell_type": "code",
   "execution_count": null,
   "metadata": {},
   "outputs": [],
   "source": [
    "param = {'max_depth': [10, 50, 100],\n",
    "         'n_estimators': [100, 500],\n",
    "         'max_features': [10 , 20]}\n",
    "\n",
    "#GridSearch(param = param, estimator = RandomForestClassifier())"
   ]
  },
  {
   "cell_type": "code",
   "execution_count": null,
   "metadata": {},
   "outputs": [],
   "source": [
    "rf = RandomForestClassifier()"
   ]
  },
  {
   "cell_type": "code",
   "execution_count": null,
   "metadata": {},
   "outputs": [],
   "source": [
    "gd = GridSearchCV(estimator = rf, param_grid = param)"
   ]
  },
  {
   "cell_type": "code",
   "execution_count": null,
   "metadata": {},
   "outputs": [],
   "source": [
    "gd.fit(X_train, y_train)"
   ]
  },
  {
   "cell_type": "code",
   "execution_count": null,
   "metadata": {},
   "outputs": [],
   "source": [
    "print(gd.best_params_)\n",
    "print(gd.best_score_)"
   ]
  },
  {
   "cell_type": "code",
   "execution_count": null,
   "metadata": {},
   "outputs": [],
   "source": []
  },
  {
   "cell_type": "code",
   "execution_count": null,
   "metadata": {},
   "outputs": [],
   "source": [
    "param = {'max_depth': [2, 5],\n",
    "         'n_estimators': [50, 100],\n",
    "         'max_features': [5, 10],\n",
    "         'min_samples_split': [10, 30]}\n",
    "\n",
    "#GridSearch(param=param, estimator=RandomForestClassifier())"
   ]
  },
  {
   "cell_type": "code",
   "execution_count": null,
   "metadata": {},
   "outputs": [],
   "source": [
    "gd = GridSearchCV(estimator = rf, param_grid = param)"
   ]
  },
  {
   "cell_type": "code",
   "execution_count": null,
   "metadata": {},
   "outputs": [],
   "source": [
    "gd.fit(X_train, y_train)"
   ]
  },
  {
   "cell_type": "code",
   "execution_count": null,
   "metadata": {},
   "outputs": [],
   "source": [
    "print(gd.best_params_)\n",
    "print(gd.best_score_)"
   ]
  },
  {
   "cell_type": "code",
   "execution_count": null,
   "metadata": {},
   "outputs": [],
   "source": [
    "#Random Forest model \n",
    "rand_forest = RandomForestClassifier(random_state=2020, n_jobs=-1, n_estimators=50, \n",
    "                                 max_depth=2, max_features=5, min_samples_split=10)\n",
    "\n",
    "ConfusionMatrix(classifier=rand_forest, confusionMatrix=False)"
   ]
  },
  {
   "cell_type": "markdown",
   "metadata": {},
   "source": [
    "### The model predicts incorrectly for 1 category. This is due to unbalanced data."
   ]
  },
  {
   "cell_type": "markdown",
   "metadata": {},
   "source": [
    "## improving the quality of classification of models built on unsustainable training sets"
   ]
  },
  {
   "cell_type": "code",
   "execution_count": null,
   "metadata": {},
   "outputs": [],
   "source": [
    "from imblearn.over_sampling import RandomOverSampler\n",
    "\n",
    "#fig, axs = plt.subplots(ncols=2, figsize=(10, 5))\n",
    "autopct = \"%.2f\"\n",
    "ros = RandomOverSampler(random_state=42)\n",
    "X_res, y_res = ros.fit_resample(X, y)\n",
    "ax = y_res.value_counts().plot.pie(autopct=autopct)\n",
    "_ = ax.set_title(\"Over-sampling\")"
   ]
  },
  {
   "cell_type": "code",
   "execution_count": null,
   "metadata": {},
   "outputs": [],
   "source": [
    "param = {'max_depth': [2, 5],\n",
    "         'n_estimators': [50, 100],\n",
    "         'max_features': [5, 10],\n",
    "         'min_samples_split': [10, 30]}"
   ]
  },
  {
   "cell_type": "code",
   "execution_count": null,
   "metadata": {},
   "outputs": [],
   "source": [
    "gd = GridSearchCV(estimator = rf, param_grid = param)"
   ]
  },
  {
   "cell_type": "code",
   "execution_count": null,
   "metadata": {},
   "outputs": [],
   "source": [
    "gd.fit(X_res, y_res)"
   ]
  },
  {
   "cell_type": "code",
   "execution_count": null,
   "metadata": {},
   "outputs": [],
   "source": [
    "print(gd.best_params_)\n",
    "print(gd.best_score_)"
   ]
  },
  {
   "cell_type": "code",
   "execution_count": null,
   "metadata": {},
   "outputs": [],
   "source": [
    "#Random Forest model \n",
    "rand_forest = RandomForestClassifier(random_state=2020, n_jobs=-1, n_estimators=50, \n",
    "                                 max_depth=2, max_features=5, min_samples_split=10)\n",
    "\n",
    "ConfusionMatrix(rand_forest, confusionMatrix=False, X=X_res, y=y_res)"
   ]
  },
  {
   "cell_type": "code",
   "execution_count": null,
   "metadata": {},
   "outputs": [],
   "source": [
    "from sklearn.model_selection import cross_validate\n",
    "index = []\n",
    "scores = {\"Accuracy\": [], \"Balanced accuracy\": []}\n",
    "scoring = [\"accuracy\", \"balanced_accuracy\"]\n",
    "\n",
    "index += [\"RandomOverSampler +  RandomForestClassifier\"]\n",
    "cv_result = cross_validate(rand_forest, X_res, y_res, scoring=scoring)\n",
    "scores[\"Accuracy\"].append(cv_result[\"test_accuracy\"].mean())\n",
    "scores[\"Balanced accuracy\"].append(cv_result[\"test_balanced_accuracy\"].mean())\n",
    "\n",
    "df_scores = pd.DataFrame(scores, index=index)\n",
    "df_scores"
   ]
  },
  {
   "cell_type": "code",
   "execution_count": null,
   "metadata": {},
   "outputs": [],
   "source": [
    "from imblearn.over_sampling import SMOTE\n",
    "\n",
    "#fig, axs = plt.subplots(ncols=2, figsize=(10, 5))\n",
    "autopct = \"%.2f\"\n",
    "s = SMOTE(random_state=0)\n",
    "X_s, y_s = s.fit_resample(X, y)\n",
    "ax = y_s.value_counts().plot.pie(autopct=autopct)\n",
    "_ = ax.set_title(\"Over-sampling\")"
   ]
  },
  {
   "cell_type": "code",
   "execution_count": null,
   "metadata": {},
   "outputs": [],
   "source": [
    "#Random Forest model \n",
    "rand_forest = RandomForestClassifier(random_state=2020, n_jobs=-1, n_estimators=50, \n",
    "                                 max_depth=2, max_features=5, min_samples_split=10)\n",
    "\n",
    "ConfusionMatrix(rand_forest, confusionMatrix=False, X=X_s, y=y_s)"
   ]
  },
  {
   "cell_type": "code",
   "execution_count": null,
   "metadata": {},
   "outputs": [],
   "source": [
    "index += [\"SMOTE+  RandomForestClassifier\"]\n",
    "cv_result = cross_validate(rand_forest, X_s, y_s, scoring=scoring)\n",
    "scores[\"Accuracy\"].append(cv_result[\"test_accuracy\"].mean())\n",
    "scores[\"Balanced accuracy\"].append(cv_result[\"test_balanced_accuracy\"].mean())\n",
    "\n",
    "df_scores = pd.DataFrame(scores, index=index)\n",
    "df_scores"
   ]
  },
  {
   "cell_type": "code",
   "execution_count": null,
   "metadata": {},
   "outputs": [],
   "source": [
    "from imblearn.over_sampling import ADASYN\n",
    "\n",
    "#fig, axs = plt.subplots(ncols=2, figsize=(10, 5))\n",
    "autopct = \"%.2f\"\n",
    "s = ADASYN(random_state=0)\n",
    "X_a, y_a = s.fit_resample(X, y)\n",
    "ax = y_a.value_counts().plot.pie(autopct=autopct)\n",
    "_ = ax.set_title(\"Over-sampling\")"
   ]
  },
  {
   "cell_type": "code",
   "execution_count": null,
   "metadata": {},
   "outputs": [],
   "source": [
    "#Random Forest model \n",
    "rand_forest = RandomForestClassifier(random_state=2020, n_jobs=-1, n_estimators=50, \n",
    "                                 max_depth=2, max_features=5, min_samples_split=10)\n",
    "\n",
    "ConfusionMatrix(rand_forest, confusionMatrix=False, X=X_a, y=y_a)"
   ]
  },
  {
   "cell_type": "code",
   "execution_count": null,
   "metadata": {},
   "outputs": [],
   "source": [
    "index += [\"ADASYN +  RandomForestClassifier\"]\n",
    "cv_result = cross_validate(rand_forest, X_a, y_a, scoring=scoring)\n",
    "scores[\"Accuracy\"].append(cv_result[\"test_accuracy\"].mean())\n",
    "scores[\"Balanced accuracy\"].append(cv_result[\"test_balanced_accuracy\"].mean())\n",
    "\n",
    "df_scores = pd.DataFrame(scores, index=index)\n",
    "df_scores"
   ]
  },
  {
   "cell_type": "code",
   "execution_count": null,
   "metadata": {},
   "outputs": [],
   "source": [
    "from imblearn.over_sampling import BorderlineSMOTE\n",
    "\n",
    "bs = BorderlineSMOTE(random_state=0)\n",
    "X_bs, y_bs = bs.fit_resample(X, y)\n",
    "ax = y_bs.value_counts().plot.pie(autopct=\"%.2f\")\n",
    "_ = ax.set_title(\"Over-sampling\")"
   ]
  },
  {
   "cell_type": "code",
   "execution_count": null,
   "metadata": {},
   "outputs": [],
   "source": [
    "#Random Forest model \n",
    "rand_forest = RandomForestClassifier(random_state=2020, n_jobs=-1, n_estimators=50, \n",
    "                                 max_depth=2, max_features=5, min_samples_split=10)\n",
    "\n",
    "ConfusionMatrix(rand_forest, confusionMatrix=False, X=X_bs, y=y_bs)"
   ]
  },
  {
   "cell_type": "code",
   "execution_count": null,
   "metadata": {},
   "outputs": [],
   "source": [
    "index += [\"BorderlineSMOTE +  RandomForestClassifier\"]\n",
    "cv_result = cross_validate(rand_forest, X_bs, y_bs, scoring=scoring)\n",
    "scores[\"Accuracy\"].append(cv_result[\"test_accuracy\"].mean())\n",
    "scores[\"Balanced accuracy\"].append(cv_result[\"test_balanced_accuracy\"].mean())\n",
    "\n",
    "df_scores = pd.DataFrame(scores, index=index)\n",
    "df_scores"
   ]
  },
  {
   "cell_type": "code",
   "execution_count": null,
   "metadata": {},
   "outputs": [],
   "source": [
    "from imblearn.over_sampling import SVMSMOTE\n",
    "\n",
    "svms = SVMSMOTE(random_state=0)\n",
    "X_svms, y_svms = svms.fit_resample(X, y)\n",
    "ax = y_svms.value_counts().plot.pie(autopct=\"%.2f\")\n",
    "_ = ax.set_title(\"Over-sampling SVMSMOTE\")"
   ]
  },
  {
   "cell_type": "code",
   "execution_count": null,
   "metadata": {},
   "outputs": [],
   "source": [
    "#Random Forest model \n",
    "rand_forest = RandomForestClassifier(random_state=2020, n_jobs=-1, n_estimators=50, \n",
    "                                 max_depth=2, max_features=5, min_samples_split=10)\n",
    "\n",
    "ConfusionMatrix(rand_forest, confusionMatrix=False, X=X_svms, y=y_svms)"
   ]
  },
  {
   "cell_type": "code",
   "execution_count": null,
   "metadata": {},
   "outputs": [],
   "source": [
    "index += [\"SVMSMOTE +  RandomForestClassifier\"]\n",
    "cv_result = cross_validate(rand_forest, X_svms, y_svms, scoring=scoring)\n",
    "scores[\"Accuracy\"].append(cv_result[\"test_accuracy\"].mean())\n",
    "scores[\"Balanced accuracy\"].append(cv_result[\"test_balanced_accuracy\"].mean())\n",
    "\n",
    "df_scores = pd.DataFrame(scores, index=index)\n",
    "df_scores"
   ]
  },
  {
   "cell_type": "code",
   "execution_count": null,
   "metadata": {},
   "outputs": [],
   "source": [
    "from imblearn.over_sampling import SMOTENC\n",
    "smotenc = SMOTENC(categorical_features=[0, 2], random_state=0)\n",
    "X_smotenc, y_smotenc = smotenc.fit_resample(X, y)\n",
    "ax = y_smotenc.value_counts().plot.pie(autopct=\"%.2f\")\n",
    "_ = ax.set_title(\"Over-sampling SMOTENC\")"
   ]
  },
  {
   "cell_type": "code",
   "execution_count": null,
   "metadata": {},
   "outputs": [],
   "source": [
    "#Random Forest model \n",
    "rand_forest = RandomForestClassifier(random_state=2020, n_jobs=-1, n_estimators=50, \n",
    "                                 max_depth=2, max_features=5, min_samples_split=10)\n",
    "\n",
    "ConfusionMatrix(rand_forest, confusionMatrix=False, X=X_smotenc, y=y_smotenc)"
   ]
  },
  {
   "cell_type": "code",
   "execution_count": null,
   "metadata": {},
   "outputs": [],
   "source": [
    "index += [\"SMOTENC +  RandomForestClassifier\"]\n",
    "cv_result = cross_validate(rand_forest, X_smotenc, y_smotenc, scoring=scoring)\n",
    "scores[\"Accuracy\"].append(cv_result[\"test_accuracy\"].mean())\n",
    "scores[\"Balanced accuracy\"].append(cv_result[\"test_balanced_accuracy\"].mean())\n",
    "\n",
    "df_scores = pd.DataFrame(scores, index=index)\n",
    "df_scores"
   ]
  },
  {
   "cell_type": "code",
   "execution_count": null,
   "metadata": {},
   "outputs": [],
   "source": [
    "from imblearn.under_sampling import ClusterCentroids\n",
    "cc = ClusterCentroids(random_state=42)\n",
    "X_cc, y_cc = cc.fit_resample(X, y)\n",
    "ax = y_cc.value_counts().plot.pie(autopct=\"%.2f\")\n",
    "_ = ax.set_title(\"Under-sampling ClusterCentroids\")"
   ]
  },
  {
   "cell_type": "code",
   "execution_count": null,
   "metadata": {},
   "outputs": [],
   "source": [
    "#Random Forest model \n",
    "rand_forest = RandomForestClassifier(random_state=2020, n_jobs=-1, n_estimators=50, \n",
    "                                 max_depth=2, max_features=5, min_samples_split=10)\n",
    "\n",
    "ConfusionMatrix(rand_forest, confusionMatrix=False, X=X_cc, y=y_cc)"
   ]
  },
  {
   "cell_type": "code",
   "execution_count": null,
   "metadata": {},
   "outputs": [],
   "source": [
    "index += [\"ClusterCentroids +  RandomForestClassifier\"]\n",
    "cv_result = cross_validate(rand_forest, X_cc, y_cc, scoring=scoring)\n",
    "scores[\"Accuracy\"].append(cv_result[\"test_accuracy\"].mean())\n",
    "scores[\"Balanced accuracy\"].append(cv_result[\"test_balanced_accuracy\"].mean())\n",
    "\n",
    "df_scores = pd.DataFrame(scores, index=index)\n",
    "df_scores"
   ]
  },
  {
   "cell_type": "code",
   "execution_count": null,
   "metadata": {},
   "outputs": [],
   "source": [
    "from imblearn.under_sampling import RandomUnderSampler\n",
    "rus = RandomUnderSampler(random_state=42)\n",
    "X_rus, y_rus = rus.fit_resample(X, y)\n",
    "ax = y_rus.value_counts().plot.pie(autopct=\"%.2f\")\n",
    "_ = ax.set_title(\"Under-sampling RandomUnderSampler\")"
   ]
  },
  {
   "cell_type": "code",
   "execution_count": null,
   "metadata": {},
   "outputs": [],
   "source": [
    "#Random Forest model \n",
    "rand_forest = RandomForestClassifier(random_state=2020, n_jobs=-1, n_estimators=50, \n",
    "                                 max_depth=2, max_features=5, min_samples_split=10)\n",
    "\n",
    "ConfusionMatrix(rand_forest, confusionMatrix=False, X=X_rus, y=y_rus)"
   ]
  },
  {
   "cell_type": "code",
   "execution_count": null,
   "metadata": {},
   "outputs": [],
   "source": [
    "index += [\"RandomUnderSampler +  RandomForestClassifier\"]\n",
    "cv_result = cross_validate(rand_forest, X_rus, y_rus, scoring=scoring)\n",
    "scores[\"Accuracy\"].append(cv_result[\"test_accuracy\"].mean())\n",
    "scores[\"Balanced accuracy\"].append(cv_result[\"test_balanced_accuracy\"].mean())\n",
    "\n",
    "df_scores = pd.DataFrame(scores, index=index)\n",
    "df_scores"
   ]
  },
  {
   "cell_type": "markdown",
   "metadata": {},
   "source": [
    "#### The best results have SVMSMOTE as Over-sampling and ClusterCentroids as Under-sampling "
   ]
  },
  {
   "cell_type": "code",
   "execution_count": null,
   "metadata": {},
   "outputs": [],
   "source": [
    "index2 = []\n",
    "scores2 = {\"Accuracy\": [], \"Balanced accuracy\": []}\n",
    "scoring2 = [\"accuracy\", \"balanced_accuracy\"]\n",
    "\n",
    "#X_svms, y_svms SVMSMOTE\n",
    "#X_cc, y_cc ClusterCentroids "
   ]
  },
  {
   "cell_type": "code",
   "execution_count": null,
   "metadata": {},
   "outputs": [],
   "source": [
    "#Random Forest model \n",
    "rand_forest = RandomForestClassifier(random_state=2020, n_jobs=-1, n_estimators=50, \n",
    "                                 max_depth=2, max_features=5, min_samples_split=10)\n",
    "\n",
    "ConfusionMatrix(rand_forest, confusionMatrix=False, X=X, y=y)\n",
    "index2 += [\"RandomForestClassifier\"]\n",
    "cv_result = cross_validate(rand_forest, X, y, scoring=scoring2)\n",
    "scores2[\"Accuracy\"].append(cv_result[\"test_accuracy\"].mean())\n",
    "scores2[\"Balanced accuracy\"].append(cv_result[\"test_balanced_accuracy\"].mean())\n",
    "\n",
    "df_scores2 = pd.DataFrame(scores2, index=index2)\n",
    "df_scores2"
   ]
  },
  {
   "cell_type": "code",
   "execution_count": null,
   "metadata": {},
   "outputs": [],
   "source": [
    "#Random Forest model \n",
    "rand_forest = RandomForestClassifier(random_state=2020, n_jobs=-1, n_estimators=50, \n",
    "                                 max_depth=2, max_features=5, min_samples_split=10)\n",
    "\n",
    "ConfusionMatrix(rand_forest, confusionMatrix=False, X=X_svms, y=y_svms)"
   ]
  },
  {
   "cell_type": "code",
   "execution_count": null,
   "metadata": {},
   "outputs": [],
   "source": [
    "index2 += [\"SVMSMOTE + RandomForestClassifier\"]\n",
    "cv_result = cross_validate(rand_forest, X_svms, y_svms, scoring=scoring2)\n",
    "scores2[\"Accuracy\"].append(cv_result[\"test_accuracy\"].mean())\n",
    "scores2[\"Balanced accuracy\"].append(cv_result[\"test_balanced_accuracy\"].mean())\n",
    "\n",
    "df_scores2 = pd.DataFrame(scores2, index=index2)\n",
    "df_scores2"
   ]
  },
  {
   "cell_type": "code",
   "execution_count": null,
   "metadata": {},
   "outputs": [],
   "source": [
    "#Random Forest model \n",
    "rand_forest = RandomForestClassifier(random_state=2020, n_jobs=-1, n_estimators=50, \n",
    "                                 max_depth=2, max_features=5, min_samples_split=10)\n",
    "\n",
    "ConfusionMatrix(rand_forest, confusionMatrix=False, X=X_cc, y=y_cc)\n",
    "\n",
    "index2 += [\"ClusterCentroids + RandomForestClassifier\"]\n",
    "cv_result = cross_validate(rand_forest, X_cc, y_cc, scoring=scoring2)\n",
    "scores2[\"Accuracy\"].append(cv_result[\"test_accuracy\"].mean())\n",
    "scores2[\"Balanced accuracy\"].append(cv_result[\"test_balanced_accuracy\"].mean())\n",
    "\n",
    "df_scores2 = pd.DataFrame(scores2, index=index2)\n",
    "df_scores2"
   ]
  },
  {
   "cell_type": "code",
   "execution_count": null,
   "metadata": {},
   "outputs": [],
   "source": [
    "from sklearn.preprocessing import StandardScaler\n",
    "from sklearn.linear_model import LogisticRegression\n",
    "from sklearn.pipeline import Pipeline\n",
    "#Standardization of data and KNN model \n",
    "logreg_scaler = Pipeline(steps=[\n",
    "                ('scaler', StandardScaler()),\n",
    "                ('logreg', LogisticRegression())\n",
    "                ])\n",
    "ConfusionMatrix(classifier=logreg_scaler, confusionMatrix=False)\n",
    "index2 += [\"LogisticRegression\"]\n",
    "cv_result = cross_validate(rand_forest, X, y, scoring=scoring2)\n",
    "scores2[\"Accuracy\"].append(cv_result[\"test_accuracy\"].mean())\n",
    "scores2[\"Balanced accuracy\"].append(cv_result[\"test_balanced_accuracy\"].mean())\n",
    "\n",
    "df_scores2 = pd.DataFrame(scores2, index=index2)\n",
    "df_scores2"
   ]
  },
  {
   "cell_type": "code",
   "execution_count": null,
   "metadata": {},
   "outputs": [],
   "source": [
    "index2 += [\"SVMSMOTE + LogisticRegression\"]\n",
    "cv_result = cross_validate(rand_forest, X_svms, y_svms, scoring=scoring2)\n",
    "scores2[\"Accuracy\"].append(cv_result[\"test_accuracy\"].mean())\n",
    "scores2[\"Balanced accuracy\"].append(cv_result[\"test_balanced_accuracy\"].mean())\n",
    "\n",
    "df_scores2 = pd.DataFrame(scores2, index=index2)\n",
    "df_scores2"
   ]
  },
  {
   "cell_type": "code",
   "execution_count": null,
   "metadata": {},
   "outputs": [],
   "source": [
    "index2 += [\"ClusterCentroids + LogisticRegression\"]\n",
    "cv_result = cross_validate(rand_forest, X_svms, y_svms, scoring=scoring2)\n",
    "scores2[\"Accuracy\"].append(cv_result[\"test_accuracy\"].mean())\n",
    "scores2[\"Balanced accuracy\"].append(cv_result[\"test_balanced_accuracy\"].mean())\n",
    "\n",
    "df_scores2 = pd.DataFrame(scores2, index=index2)\n",
    "df_scores2"
   ]
  },
  {
   "cell_type": "code",
   "execution_count": null,
   "metadata": {},
   "outputs": [],
   "source": [
    "#Standardization of data and KNN model \n",
    "pipe = Pipeline(steps=[\n",
    "                ('scaler', StandardScaler()),\n",
    "                ('knn', KNeighborsClassifier())\n",
    "                ])\n",
    "\n",
    "param = {'knn__n_neighbors': [10, 100],\n",
    "         'knn__weights': ['uniform', 'distance'],\n",
    "         'knn__p': [1, 2]}\n",
    "\n",
    "GridSearch(param=param, estimator=pipe)"
   ]
  },
  {
   "cell_type": "code",
   "execution_count": null,
   "metadata": {},
   "outputs": [],
   "source": [
    "#Standardization of data and KNN model \n",
    "pipe = Pipeline(steps=[\n",
    "                    ('scaler', StandardScaler()),\n",
    "                    ('knn', KNeighborsClassifier())\n",
    "                ])\n",
    "\n",
    "param = {'knn__n_neighbors': [10, 50],\n",
    "         'knn__weights': ['uniform'],\n",
    "         'knn__p': [1]}\n",
    "\n",
    "GridSearch(param=param, estimator=pipe)"
   ]
  },
  {
   "cell_type": "code",
   "execution_count": null,
   "metadata": {},
   "outputs": [],
   "source": [
    "#KNeighborsClassifier model \n",
    "knn =  KNeighborsClassifier(n_neighbors=10, p=1, weights='uniform')\n",
    "\n",
    "ConfusionMatrix(knn, confusionMatrix=False, X=X_cc, y=y_cc)\n",
    "\n",
    "index2 += [\"KNeighborsClassifier\"]\n",
    "cv_result = cross_validate(knn, X_svms, y_svms, scoring=scoring2)\n",
    "scores2[\"Accuracy\"].append(cv_result[\"test_accuracy\"].mean())\n",
    "scores2[\"Balanced accuracy\"].append(cv_result[\"test_balanced_accuracy\"].mean())\n",
    "\n",
    "df_scores2 = pd.DataFrame(scores2, index=index2)\n",
    "df_scores2"
   ]
  },
  {
   "cell_type": "code",
   "execution_count": null,
   "metadata": {},
   "outputs": [],
   "source": [
    "#KNeighborsClassifier model \n",
    "knn =  KNeighborsClassifier(n_neighbors=10, p=1, weights='uniform')\n",
    "\n",
    "ConfusionMatrix(knn, confusionMatrix=False, X=X_svms, y=y_svms)\n",
    "\n",
    "index2 += [\"SVMSMOTE + KNeighborsClassifier\"]\n",
    "cv_result = cross_validate(knn, X_svms, y_svms, scoring=scoring2)\n",
    "scores2[\"Accuracy\"].append(cv_result[\"test_accuracy\"].mean())\n",
    "scores2[\"Balanced accuracy\"].append(cv_result[\"test_balanced_accuracy\"].mean())\n",
    "\n",
    "df_scores2 = pd.DataFrame(scores2, index=index2)\n",
    "df_scores2"
   ]
  },
  {
   "cell_type": "code",
   "execution_count": null,
   "metadata": {},
   "outputs": [],
   "source": [
    "#KNeighborsClassifier model \n",
    "knn =  KNeighborsClassifier(n_neighbors=10, p=1, weights='uniform')\n",
    "\n",
    "ConfusionMatrix(knn, confusionMatrix=False, X=X_cc, y=y_cc)\n",
    "\n",
    "index2 += [\"ClusterCentroids + KNeighborsClassifier\"]\n",
    "cv_result = cross_validate(knn, X_cc, y_cc, scoring=scoring2)\n",
    "scores2[\"Accuracy\"].append(cv_result[\"test_accuracy\"].mean())\n",
    "scores2[\"Balanced accuracy\"].append(cv_result[\"test_balanced_accuracy\"].mean())\n",
    "\n",
    "df_scores2 = pd.DataFrame(scores2, index=index2)\n",
    "df_scores2"
   ]
  },
  {
   "cell_type": "code",
   "execution_count": null,
   "metadata": {},
   "outputs": [],
   "source": [
    "from sklearn.svm import SVC\n",
    "# split into a training and testing set\n",
    "pipe = Pipeline(steps=[\n",
    "                ('svc', SVC())\n",
    "                ])\n",
    "\n",
    "param = {'svc__C': [1, 10],\n",
    "         'svc__kernel': ['linear', 'poly']}\n",
    "\n",
    "GridSearch(param=param, estimator=pipe)"
   ]
  },
  {
   "cell_type": "code",
   "execution_count": null,
   "metadata": {},
   "outputs": [],
   "source": [
    "# split into a training and testing set\n",
    "pipe = Pipeline(steps=[\n",
    "                ('svc', SVC())\n",
    "                ])\n",
    "\n",
    "param = {'svc__kernel': ['linear', 'rbf'],\n",
    "         'svc__gamma': ['scale', 'auto']\n",
    "        }\n",
    "\n",
    "GridSearch(param=param, estimator=pipe)"
   ]
  },
  {
   "cell_type": "code",
   "execution_count": null,
   "metadata": {},
   "outputs": [],
   "source": [
    "#SVC model \n",
    "svm =  SVC(kernel='linear', C=1, gamma='scale', probability=True)\n",
    "\n",
    "ConfusionMatrix(knn, confusionMatrix=False, X=X, y=y)\n",
    "\n",
    "index2 += [\"SVC\"]\n",
    "cv_result = cross_validate(svm, X, y, scoring=scoring2)\n",
    "scores2[\"Accuracy\"].append(cv_result[\"test_accuracy\"].mean())\n",
    "scores2[\"Balanced accuracy\"].append(cv_result[\"test_balanced_accuracy\"].mean())\n",
    "\n",
    "df_scores2 = pd.DataFrame(scores2, index=index2)\n",
    "df_scores2"
   ]
  },
  {
   "cell_type": "code",
   "execution_count": null,
   "metadata": {},
   "outputs": [],
   "source": [
    "#SVC model \n",
    "svm =  SVC(kernel='linear', C=1, gamma='scale', probability=True)\n",
    "\n",
    "ConfusionMatrix(knn, confusionMatrix=False, X=X_svms, y=y_svms)\n",
    "\n",
    "index2 += [\"SVMSMOTE + SVC\"]\n",
    "cv_result = cross_validate(svm, X_svms, y_svms, scoring=scoring2)\n",
    "scores2[\"Accuracy\"].append(cv_result[\"test_accuracy\"].mean())\n",
    "scores2[\"Balanced accuracy\"].append(cv_result[\"test_balanced_accuracy\"].mean())\n",
    "\n",
    "df_scores2 = pd.DataFrame(scores2, index=index2)\n",
    "df_scores2"
   ]
  },
  {
   "cell_type": "code",
   "execution_count": null,
   "metadata": {},
   "outputs": [],
   "source": [
    "#SVC model \n",
    "svm =  SVC(kernel='linear', C=1, gamma='scale', probability=True)\n",
    "\n",
    "ConfusionMatrix(knn, confusionMatrix=False, X=X_cc, y=y_cc)\n",
    "\n",
    "index2 += [\"ClusterCentroids + SVC\"]\n",
    "cv_result = cross_validate(svm, X_cc, y_cc, scoring=scoring2)\n",
    "scores2[\"Accuracy\"].append(cv_result[\"test_accuracy\"].mean())\n",
    "scores2[\"Balanced accuracy\"].append(cv_result[\"test_balanced_accuracy\"].mean())\n",
    "\n",
    "df_scores2 = pd.DataFrame(scores2, index=index2)\n",
    "df_scores2"
   ]
  },
  {
   "cell_type": "code",
   "execution_count": null,
   "metadata": {},
   "outputs": [],
   "source": []
  },
  {
   "cell_type": "code",
   "execution_count": null,
   "metadata": {},
   "outputs": [],
   "source": []
  }
 ],
 "metadata": {
  "kernelspec": {
   "display_name": "Python 3",
   "language": "python",
   "name": "python3"
  },
  "language_info": {
   "codemirror_mode": {
    "name": "ipython",
    "version": 3
   },
   "file_extension": ".py",
   "mimetype": "text/x-python",
   "name": "python",
   "nbconvert_exporter": "python",
   "pygments_lexer": "ipython3",
   "version": "3.8.3"
  }
 },
 "nbformat": 4,
 "nbformat_minor": 4
}
